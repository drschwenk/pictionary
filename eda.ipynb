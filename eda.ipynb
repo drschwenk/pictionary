{
 "cells": [
  {
   "cell_type": "markdown",
   "metadata": {
    "heading_collapsed": true
   },
   "source": [
    "# Table of Contents\n",
    "* [1. imsitu experiments](#1.-imsitu-experiments)\n",
    "* [2. parse npc extraction](#2.-parse-npc-extraction)\n",
    "* [3. simple word list](#3.-simple-word-list)\n",
    "* [4. MS coco captions](#4.-MS-coco-captions)\n",
    "\t* [4.1 phrases from captions](#4.1-phrases-from-captions)\n",
    "\t* [4.2 parse exp](#4.2-parse-exp)\n",
    "* [5. german experiments](#5.-german-experiments)\n",
    "* [6. wordnet](#6.-wordnet)\n"
   ]
  },
  {
   "cell_type": "code",
   "execution_count": 1,
   "metadata": {
    "hidden": true,
    "run_control": {
     "frozen": false,
     "read_only": false
    }
   },
   "outputs": [],
   "source": [
    "%%capture\n",
    "from __future__ import division\n",
    "import numpy as np\n",
    "import pandas as pd\n",
    "import scipy.stats as st\n",
    "import itertools\n",
    "import math\n",
    "from collections import Counter, defaultdict\n",
    "%load_ext autoreload\n",
    "%autoreload 2\n",
    "\n",
    "from copy import deepcopy\n",
    "import pickle\n",
    "import os\n",
    "import json\n",
    "from tqdm import tqdm\n",
    "from tqdm import tqdm_notebook\n",
    "\n",
    "from IPython.display import Image\n",
    "import PIL.Image as pil\n",
    "import random\n",
    "import cv2\n",
    "import matplotlib as mpl\n",
    "mpl.use(\"Agg\")\n",
    "import matplotlib.pylab as plt\n",
    "#%matplotlib notebook\n",
    "%matplotlib inline\n",
    "%load_ext base16_mplrc\n",
    "%base16_mplrc light solarized\n",
    "#%base16_mplrc dark solarized\n",
    "plt.rcParams['grid.linewidth'] = 0\n",
    "plt.rcParams['figure.figsize'] = (16.0, 10.0)"
   ]
  },
  {
   "cell_type": "code",
   "execution_count": 2,
   "metadata": {
    "hidden": true,
    "run_control": {
     "frozen": false,
     "read_only": false
    }
   },
   "outputs": [],
   "source": [
    "from eda import *"
   ]
  },
  {
   "cell_type": "markdown",
   "metadata": {
    "heading_collapsed": true
   },
   "source": [
    "# 1. imsitu experiments"
   ]
  },
  {
   "cell_type": "code",
   "execution_count": 302,
   "metadata": {
    "hidden": true,
    "run_control": {
     "frozen": false,
     "read_only": false
    }
   },
   "outputs": [],
   "source": [
    "icon_list = os.listdir('/Users/schwenk/wrk/pictionary/vision-pictionary/iconary_webgame/public/images/')\n",
    "icon_list = [i[:-4] for i in icon_list]"
   ]
  },
  {
   "cell_type": "code",
   "execution_count": 38,
   "metadata": {
    "hidden": true,
    "run_control": {
     "frozen": false,
     "read_only": false
    }
   },
   "outputs": [],
   "source": [
    "out_data_dir = '/Users/schwenk/wrk/pictionary/phrase_gen/sandbox-anikem/out/'"
   ]
  },
  {
   "cell_type": "code",
   "execution_count": 39,
   "metadata": {
    "hidden": true,
    "run_control": {
     "frozen": false,
     "read_only": false
    },
    "scrolled": true
   },
   "outputs": [],
   "source": [
    "verb_df = pd.read_csv(out_data_dir + 'verbs.txt', header=None, names=['verb'])\n",
    "situations_df = pd.read_csv(out_data_dir + 'full_situations.txt', header=None, names=['situation'])\n",
    "\n",
    "situations_df['len'] = situations_df['situation'].apply(lambda x: len(x.split()))\n",
    "verb_df['len'] = verb_df['verb'].apply(lambda x: len(x))"
   ]
  },
  {
   "cell_type": "code",
   "execution_count": 40,
   "metadata": {
    "hidden": true,
    "run_control": {
     "frozen": false,
     "read_only": false
    }
   },
   "outputs": [
    {
     "data": {
      "text/html": [
       "<div>\n",
       "<style scoped>\n",
       "    .dataframe tbody tr th:only-of-type {\n",
       "        vertical-align: middle;\n",
       "    }\n",
       "\n",
       "    .dataframe tbody tr th {\n",
       "        vertical-align: top;\n",
       "    }\n",
       "\n",
       "    .dataframe thead th {\n",
       "        text-align: right;\n",
       "    }\n",
       "</style>\n",
       "<table border=\"1\" class=\"dataframe\">\n",
       "  <thead>\n",
       "    <tr style=\"text-align: right;\">\n",
       "      <th></th>\n",
       "      <th>situation</th>\n",
       "      <th>len</th>\n",
       "    </tr>\n",
       "  </thead>\n",
       "  <tbody>\n",
       "    <tr>\n",
       "      <th>0</th>\n",
       "      <td>the person loads a cartridge holder</td>\n",
       "      <td>6</td>\n",
       "    </tr>\n",
       "  </tbody>\n",
       "</table>\n",
       "</div>"
      ],
      "text/plain": [
       "                             situation  len\n",
       "0  the person loads a cartridge holder    6"
      ]
     },
     "execution_count": 40,
     "metadata": {},
     "output_type": "execute_result"
    }
   ],
   "source": [
    "situations_df.head(1)"
   ]
  },
  {
   "cell_type": "code",
   "execution_count": 41,
   "metadata": {
    "hidden": true,
    "run_control": {
     "frozen": false,
     "read_only": false
    }
   },
   "outputs": [],
   "source": [
    "common_verbs = verb_df[verb_df['verb'].apply(lambda x: least_common_word(x))]"
   ]
  },
  {
   "cell_type": "code",
   "execution_count": 42,
   "metadata": {
    "hidden": true,
    "run_control": {
     "frozen": false,
     "read_only": false
    },
    "scrolled": true
   },
   "outputs": [
    {
     "data": {
      "text/html": [
       "<div>\n",
       "<style scoped>\n",
       "    .dataframe tbody tr th:only-of-type {\n",
       "        vertical-align: middle;\n",
       "    }\n",
       "\n",
       "    .dataframe tbody tr th {\n",
       "        vertical-align: top;\n",
       "    }\n",
       "\n",
       "    .dataframe thead th {\n",
       "        text-align: right;\n",
       "    }\n",
       "</style>\n",
       "<table border=\"1\" class=\"dataframe\">\n",
       "  <thead>\n",
       "    <tr style=\"text-align: right;\">\n",
       "      <th></th>\n",
       "      <th>verb</th>\n",
       "      <th>len</th>\n",
       "    </tr>\n",
       "  </thead>\n",
       "  <tbody>\n",
       "    <tr>\n",
       "      <th>11</th>\n",
       "      <td>asking</td>\n",
       "      <td>6</td>\n",
       "    </tr>\n",
       "  </tbody>\n",
       "</table>\n",
       "</div>"
      ],
      "text/plain": [
       "      verb  len\n",
       "11  asking    6"
      ]
     },
     "execution_count": 42,
     "metadata": {},
     "output_type": "execute_result"
    }
   ],
   "source": [
    "common_verbs.head(1)"
   ]
  },
  {
   "cell_type": "code",
   "execution_count": 88,
   "metadata": {
    "hidden": true,
    "run_control": {
     "frozen": false,
     "read_only": false
    }
   },
   "outputs": [],
   "source": [
    "# _ = situations_df['len'].hist(bins=12)\n",
    "# verb_df.sort_values('len')\n",
    "# ing_verbs = verb_df[verb_df['verb'].str.contains('ing')]"
   ]
  },
  {
   "cell_type": "markdown",
   "metadata": {
    "hidden": true
   },
   "source": [
    "not abstract, easy"
   ]
  },
  {
   "cell_type": "code",
   "execution_count": 174,
   "metadata": {
    "hidden": true,
    "run_control": {
     "frozen": false,
     "read_only": false
    }
   },
   "outputs": [],
   "source": [
    "description_corpus = ' '.join(situations_df['situation'])\n",
    "\n",
    "tokenized_corpus = word_tokenize(description_corpus)\n",
    "\n",
    "normalized_tokens = []\n",
    "for toke in tokenized_corpus:\n",
    "    clean_toke = toke.strip().lower()\n",
    "    if clean_toke not in cached_sw and clean_toke:\n",
    "        normalized_tokens.append(clean_toke)"
   ]
  },
  {
   "cell_type": "code",
   "execution_count": 23,
   "metadata": {
    "hidden": true,
    "run_control": {
     "frozen": false,
     "read_only": false
    }
   },
   "outputs": [],
   "source": [
    "word_counts = Counter(normalized_tokens)\n",
    "most_common = word_counts.most_common(200)"
   ]
  },
  {
   "cell_type": "code",
   "execution_count": 24,
   "metadata": {
    "hidden": true,
    "run_control": {
     "frozen": false,
     "read_only": false
    }
   },
   "outputs": [],
   "source": [
    "filtered_words = [w for w, count in word_counts.items() if count == 1]"
   ]
  },
  {
   "cell_type": "code",
   "execution_count": 95,
   "metadata": {
    "hidden": true,
    "run_control": {
     "frozen": false,
     "read_only": false
    }
   },
   "outputs": [],
   "source": [
    "sentences = list(set(situations_df['situation'].tolist()))"
   ]
  },
  {
   "cell_type": "code",
   "execution_count": 33,
   "metadata": {
    "hidden": true,
    "run_control": {
     "frozen": false,
     "read_only": false
    }
   },
   "outputs": [],
   "source": [
    "# sent_gram_errors, passed_sents = grammar_check_phrases(tqdm(sentences))"
   ]
  },
  {
   "cell_type": "code",
   "execution_count": 165,
   "metadata": {
    "hidden": true,
    "run_control": {
     "frozen": false,
     "read_only": false
    }
   },
   "outputs": [
    {
     "data": {
      "text/plain": [
       "0.9645086556406461"
      ]
     },
     "execution_count": 165,
     "metadata": {},
     "output_type": "execute_result"
    }
   ],
   "source": [
    "len(passed_sents) / len(sentences)"
   ]
  },
  {
   "cell_type": "code",
   "execution_count": 164,
   "metadata": {
    "hidden": true,
    "run_control": {
     "frozen": false,
     "read_only": false
    }
   },
   "outputs": [
    {
     "data": {
      "text/plain": [
       "59950"
      ]
     },
     "execution_count": 164,
     "metadata": {},
     "output_type": "execute_result"
    }
   ],
   "source": [
    "len(passed_sents)"
   ]
  },
  {
   "cell_type": "code",
   "execution_count": 124,
   "metadata": {
    "hidden": true,
    "run_control": {
     "frozen": false,
     "read_only": false
    }
   },
   "outputs": [],
   "source": [
    "with open('./data/unique_parsed_sents.pkl', 'rb') as f:\n",
    "    unique_parsed_sents = pickle.load(f)"
   ]
  },
  {
   "cell_type": "code",
   "execution_count": 136,
   "metadata": {
    "hidden": true,
    "run_control": {
     "frozen": false,
     "read_only": false
    }
   },
   "outputs": [],
   "source": [
    "simple_sentences = [sent for sent in unique_parsed_sents if least_common_word(sent, 3.7)]"
   ]
  },
  {
   "cell_type": "code",
   "execution_count": 137,
   "metadata": {
    "hidden": true,
    "run_control": {
     "frozen": false,
     "read_only": false
    }
   },
   "outputs": [],
   "source": [
    "word_blacklist = set(['uses', 'using', 'people', 'helped', 'measures', 'records', 'data', 'works', 'teach', 'body', 'with', 'training', 'waste', 'plastic', 'gravity', 'commission', 'space'] + colors)"
   ]
  },
  {
   "cell_type": "code",
   "execution_count": 138,
   "metadata": {
    "hidden": true,
    "run_control": {
     "frozen": false,
     "read_only": false
    }
   },
   "outputs": [],
   "source": [
    "blacklist_removed = [s for s in simple_sentences if not set([w.lower() for w in s.split()]).intersection(word_blacklist)]"
   ]
  },
  {
   "cell_type": "code",
   "execution_count": 139,
   "metadata": {
    "hidden": true,
    "run_control": {
     "frozen": false,
     "read_only": false
    }
   },
   "outputs": [
    {
     "data": {
      "text/plain": [
       "14050"
      ]
     },
     "execution_count": 139,
     "metadata": {},
     "output_type": "execute_result"
    }
   ],
   "source": [
    "len(blacklist_removed)"
   ]
  },
  {
   "cell_type": "code",
   "execution_count": 134,
   "metadata": {
    "hidden": true,
    "run_control": {
     "frozen": false,
     "read_only": false
    }
   },
   "outputs": [],
   "source": [
    "def filter_on_freq(sent, higher_freq, lower_freq):\n",
    "    wlfs = [zipf_frequency(w, 'en') for w in sent.split()]\n",
    "    lowest_freq = min(wlfs)\n",
    "    return higher_freq > lowest_freq > lower_freq"
   ]
  },
  {
   "cell_type": "code",
   "execution_count": 135,
   "metadata": {
    "hidden": true,
    "run_control": {
     "frozen": false,
     "read_only": false
    }
   },
   "outputs": [],
   "source": [
    "# freq_filt_words = [t for t in normalized_tokens if filter_on_freq(t, 4.7, 3)]"
   ]
  },
  {
   "cell_type": "code",
   "execution_count": 143,
   "metadata": {
    "hidden": true,
    "run_control": {
     "frozen": false,
     "read_only": false
    }
   },
   "outputs": [],
   "source": [
    "last_clean = pd.read_csv('tagged_cleaned_sentences_simple.txt', header=None)[0]"
   ]
  },
  {
   "cell_type": "code",
   "execution_count": 146,
   "metadata": {
    "hidden": true,
    "run_control": {
     "frozen": false,
     "read_only": false
    }
   },
   "outputs": [],
   "source": [
    "chosen_sample = last_clean.apply(lambda x: x.split(' # ')[0]).tolist()"
   ]
  },
  {
   "cell_type": "code",
   "execution_count": 181,
   "metadata": {
    "hidden": true,
    "run_control": {
     "frozen": false,
     "read_only": false
    }
   },
   "outputs": [],
   "source": [
    "# chosen_sample = blacklist_removed\n",
    "tagged_sentences = [get_pos_tags(s) for s in chosen_sample]"
   ]
  },
  {
   "cell_type": "code",
   "execution_count": 430,
   "metadata": {
    "hidden": true,
    "run_control": {
     "frozen": false,
     "read_only": false
    }
   },
   "outputs": [],
   "source": [
    "vocab_complete = list(set(normalized_tokens))\n",
    "vocab = list(set([w[0].lower() for s in tagged_sentences for w in s if w[1] in ['NN', 'NNS', 'NNP', 'NNPS']]))"
   ]
  },
  {
   "cell_type": "code",
   "execution_count": 431,
   "metadata": {
    "hidden": true,
    "run_control": {
     "frozen": false,
     "read_only": false
    }
   },
   "outputs": [],
   "source": [
    "voc_ser = pd.Series(vocab)\n",
    "voc_ser.to_csv('cleaned_sentences_nouns_harder.txt', index=False, header=None)"
   ]
  },
  {
   "cell_type": "code",
   "execution_count": 188,
   "metadata": {
    "hidden": true,
    "run_control": {
     "frozen": false,
     "read_only": false
    }
   },
   "outputs": [],
   "source": [
    "verbs = []\n",
    "for s in tagged_sentences:\n",
    "    for w, tag in s:\n",
    "        if tag in verb_tags:\n",
    "            verbs.append(w)\n",
    "verb_ser = pd.Series(verbs)\n",
    "\n",
    "nouns = []\n",
    "for s in tagged_sentences:\n",
    "    for w, tag in s:\n",
    "        if tag in noun_tags:\n",
    "            nouns.append(w)\n",
    "noun_ser = pd.Series(nouns)\n",
    "\n",
    "most_common_verbs = verb_ser.value_counts()[1:31]\n",
    "most_common_nouns = noun_ser.value_counts()[0:30]"
   ]
  },
  {
   "cell_type": "code",
   "execution_count": 190,
   "metadata": {
    "hidden": true,
    "run_control": {
     "frozen": false,
     "read_only": false
    }
   },
   "outputs": [
    {
     "data": {
      "text/plain": [
       "(30,)"
      ]
     },
     "execution_count": 190,
     "metadata": {},
     "output_type": "execute_result"
    }
   ],
   "source": [
    "u_verbs = pd.Series(pd.unique(verb_ser))\n",
    "\n",
    "pd.unique(u_verbs.apply(stemmer.stem)).shape"
   ]
  },
  {
   "cell_type": "code",
   "execution_count": 192,
   "metadata": {
    "hidden": true,
    "run_control": {
     "frozen": false,
     "read_only": false
    }
   },
   "outputs": [],
   "source": [
    "all_imsit = ' ' .join(chosen_sample).split()"
   ]
  },
  {
   "cell_type": "code",
   "execution_count": 194,
   "metadata": {
    "hidden": true,
    "run_control": {
     "frozen": false,
     "read_only": false
    }
   },
   "outputs": [],
   "source": [
    "uv = set(all_imsit)"
   ]
  },
  {
   "cell_type": "code",
   "execution_count": 196,
   "metadata": {
    "hidden": true,
    "run_control": {
     "frozen": false,
     "read_only": false
    }
   },
   "outputs": [],
   "source": [
    "uvs = pd.Series(list(uv))"
   ]
  },
  {
   "cell_type": "code",
   "execution_count": 199,
   "metadata": {
    "hidden": true,
    "run_control": {
     "frozen": false,
     "read_only": false
    }
   },
   "outputs": [
    {
     "data": {
      "text/plain": [
       "(321,)"
      ]
     },
     "execution_count": 199,
     "metadata": {},
     "output_type": "execute_result"
    }
   ],
   "source": [
    "pd.unique(uvs.apply(stemmer.stem)).shape"
   ]
  },
  {
   "cell_type": "code",
   "execution_count": 186,
   "metadata": {
    "hidden": true,
    "run_control": {
     "frozen": false,
     "read_only": false
    }
   },
   "outputs": [
    {
     "data": {
      "text/plain": [
       "array(['work', 'provid', 'is', 'turn', 'attack', 'make', 'give', 'use',\n",
       "       'stand', 'place', 'measur', 'train', 'lead', 'eat', 'help',\n",
       "       'drive', 'teach', 'run', 'offer', 'drop', 'play', 'over/through',\n",
       "       'note', 'handl', 'call', 'rose', 'walk', 'look', 'speak', 'talk'],\n",
       "      dtype=object)"
      ]
     },
     "execution_count": 186,
     "metadata": {},
     "output_type": "execute_result"
    }
   ],
   "source": [
    "pd.unique(u_verbs.apply(stemmer.stem))"
   ]
  },
  {
   "cell_type": "code",
   "execution_count": 189,
   "metadata": {
    "hidden": true,
    "run_control": {
     "frozen": false,
     "read_only": false
    }
   },
   "outputs": [
    {
     "data": {
      "image/png": "[encoded data removed]",
      "text/plain": [
       "<Figure size 1152x720 with 1 Axes>"
      ]
     },
     "metadata": {},
     "output_type": "display_data"
    }
   ],
   "source": [
    "_ = most_common_verbs.plot(kind='barh')"
   ]
  },
  {
   "cell_type": "markdown",
   "metadata": {
    "heading_collapsed": true
   },
   "source": [
    "# 2. parse npc extraction"
   ]
  },
  {
   "cell_type": "code",
   "execution_count": 46,
   "metadata": {
    "hidden": true,
    "run_control": {
     "frozen": false,
     "read_only": false
    }
   },
   "outputs": [],
   "source": [
    "grammar = r\"\"\"\n",
    "  NP: {<DT|PP\\$>?<JJ>*<NN>}   # chunk determiner/possessive, adjectives and noun\n",
    "  {<NNP>+}                # chunk sequences of proper nouns\n",
    "  {<NN>+}                 # chunk consecutive nouns\n",
    "  \"\"\"\n",
    "\n",
    "cp = nltk.RegexpParser(grammar)\n",
    "# parsed_sent = cp.parse(sent_parses[0])\n",
    "# for npstr in extract_np(parsed_sent):\n",
    "#     print (npstr)"
   ]
  },
  {
   "cell_type": "markdown",
   "metadata": {
    "heading_collapsed": true
   },
   "source": [
    "# 3. simple word list"
   ]
  },
  {
   "cell_type": "code",
   "execution_count": null,
   "metadata": {
    "hidden": true,
    "run_control": {
     "frozen": false,
     "read_only": false
    }
   },
   "outputs": [],
   "source": [
    "word_data_dir = '/Users/schwenk/wrk/pictionary/BasicEnglishTranslator/data/'\n",
    "\n",
    "with open('./data/basic_words.csv') as f:\n",
    "    read_article = f.read()\n",
    "\n",
    "with open(word_data_dir + 'basic_english.pickle', 'rb') as f:\n",
    "    all_words = pickle.load(f) \n",
    "\n",
    "simple_words = pd.read_csv(word_data_dir + 'basic_english_words.csv')\n",
    "simple_words.head(1)"
   ]
  },
  {
   "cell_type": "markdown",
   "metadata": {},
   "source": [
    "# 4. MS coco captions"
   ]
  },
  {
   "cell_type": "markdown",
   "metadata": {
    "heading_collapsed": true
   },
   "source": [
    "## 4.1 phrases from captions"
   ]
  },
  {
   "cell_type": "code",
   "execution_count": 355,
   "metadata": {
    "hidden": true,
    "run_control": {
     "frozen": false,
     "read_only": false
    }
   },
   "outputs": [],
   "source": [
    "with open('/Users/schwenk/wrk/pictionary/coco/annotations/captions_train2014.json') as f:\n",
    "    coco_captions = json.load(f)"
   ]
  },
  {
   "cell_type": "code",
   "execution_count": 356,
   "metadata": {
    "hidden": true,
    "run_control": {
     "frozen": false,
     "read_only": false
    }
   },
   "outputs": [],
   "source": [
    "caption_sentences = [c['caption'] for c in coco_captions['annotations']]"
   ]
  },
  {
   "cell_type": "code",
   "execution_count": 357,
   "metadata": {
    "hidden": true,
    "run_control": {
     "frozen": false,
     "read_only": false
    }
   },
   "outputs": [
    {
     "data": {
      "text/plain": [
       "414113"
      ]
     },
     "execution_count": 357,
     "metadata": {},
     "output_type": "execute_result"
    }
   ],
   "source": [
    "len(caption_sentences)"
   ]
  },
  {
   "cell_type": "code",
   "execution_count": 358,
   "metadata": {
    "hidden": true,
    "run_control": {
     "frozen": false,
     "read_only": false
    }
   },
   "outputs": [],
   "source": [
    "caption_corpus = [w for s in tqdm(caption_sentences) for w in word_tokenize(s)]\n",
    "# tokenized_corpus = word_tokenize(caption_corpus)"
   ]
  },
  {
   "cell_type": "code",
   "execution_count": 359,
   "metadata": {
    "hidden": true,
    "run_control": {
     "frozen": false,
     "read_only": false
    }
   },
   "outputs": [
    {
     "data": {
      "text/plain": [
       "[('man', 51530),\n",
       " ('sitting', 36823),\n",
       " ('two', 34093),\n",
       " ('standing', 30060),\n",
       " ('people', 29662),\n",
       " ('next', 25916),\n",
       " ('white', 25383),\n",
       " ('woman', 24220),\n",
       " ('table', 21318),\n",
       " ('street', 21190)]"
      ]
     },
     "execution_count": 359,
     "metadata": {},
     "output_type": "execute_result"
    }
   ],
   "source": [
    "caption_token_set = list(set(caption_corpus))\n",
    "\n",
    "normalized_tokens = []\n",
    "for toke in tqdm(caption_corpus):\n",
    "    clean_toke = toke.strip().lower()\n",
    "    if clean_toke not in cached_sw and clean_toke:\n",
    "        normalized_tokens.append(clean_toke)\n",
    "\n",
    "token_counts = Counter(normalized_tokens)\n",
    "\n",
    "token_counts.most_common(10)"
   ]
  },
  {
   "cell_type": "code",
   "execution_count": 360,
   "metadata": {
    "hidden": true,
    "run_control": {
     "frozen": false,
     "read_only": false
    },
    "scrolled": true
   },
   "outputs": [
    {
     "data": {
      "text/plain": [
       "2397308"
      ]
     },
     "execution_count": 360,
     "metadata": {},
     "output_type": "execute_result"
    }
   ],
   "source": [
    "len(normalized_tokens)"
   ]
  },
  {
   "cell_type": "code",
   "execution_count": 361,
   "metadata": {
    "hidden": true,
    "run_control": {
     "frozen": false,
     "read_only": false
    }
   },
   "outputs": [],
   "source": [
    "cap_df = pd.DataFrame(caption_sentences)\n",
    "cap_df.columns = ['cap']\n",
    "cap_df['len'] = cap_df['cap'].str.len()"
   ]
  },
  {
   "cell_type": "code",
   "execution_count": 362,
   "metadata": {
    "hidden": true,
    "run_control": {
     "frozen": false,
     "read_only": false
    }
   },
   "outputs": [],
   "source": [
    "# _ = cap_df['len'].hist(bins=30)"
   ]
  },
  {
   "cell_type": "code",
   "execution_count": 363,
   "metadata": {
    "hidden": true,
    "run_control": {
     "frozen": false,
     "read_only": false
    }
   },
   "outputs": [
    {
     "data": {
      "text/plain": [
       "6051"
      ]
     },
     "execution_count": 363,
     "metadata": {},
     "output_type": "execute_result"
    }
   ],
   "source": [
    "cap_len_thresh = 30\n",
    "short_caps = cap_df[cap_df['len'] < 35]\n",
    "\n",
    "short_cap_l = short_caps['cap'].tolist()\n",
    "\n",
    "len(short_cap_l)"
   ]
  },
  {
   "cell_type": "code",
   "execution_count": 388,
   "metadata": {
    "hidden": true,
    "run_control": {
     "frozen": false,
     "read_only": false
    }
   },
   "outputs": [
    {
     "data": {
      "text/plain": [
       "5274"
      ]
     },
     "execution_count": 388,
     "metadata": {},
     "output_type": "execute_result"
    }
   ],
   "source": [
    "common_short = [c for c in tqdm(short_cap_l) if least_common_word(c, 2)]\n",
    "blacklist_removed = [s for s in common_short if not set([w.lower() for w in s.split()]).intersection(set(colors))]\n",
    "len(blacklist_removed)"
   ]
  },
  {
   "cell_type": "code",
   "execution_count": 389,
   "metadata": {
    "hidden": true,
    "run_control": {
     "frozen": false,
     "read_only": false
    }
   },
   "outputs": [],
   "source": [
    "sent_gram_errors, passed_sents = grammar_check_phrases(tqdm(blacklist_removed))\n",
    "passed_sents = [ps for ps in passed_sents if not spellcheck_phrase(ps)]"
   ]
  },
  {
   "cell_type": "code",
   "execution_count": 390,
   "metadata": {
    "hidden": true,
    "run_control": {
     "frozen": false,
     "read_only": false
    }
   },
   "outputs": [],
   "source": [
    "normed_sents = list(set([normalize_sent(s) for s in passed_sents if 'image' not in s]))"
   ]
  },
  {
   "cell_type": "code",
   "execution_count": 391,
   "metadata": {
    "hidden": true
   },
   "outputs": [
    {
     "data": {
      "text/plain": [
       "4307"
      ]
     },
     "execution_count": 391,
     "metadata": {},
     "output_type": "execute_result"
    }
   ],
   "source": [
    "len(normed_sents)"
   ]
  },
  {
   "cell_type": "code",
   "execution_count": 392,
   "metadata": {
    "hidden": true,
    "run_control": {
     "frozen": false,
     "read_only": false
    }
   },
   "outputs": [],
   "source": [
    "tagged_sentences = [get_pos_tags(s) for s in tqdm(normed_sents)]"
   ]
  },
  {
   "cell_type": "code",
   "execution_count": 393,
   "metadata": {
    "hidden": true,
    "run_control": {
     "frozen": false,
     "read_only": false
    }
   },
   "outputs": [],
   "source": [
    "sents_w_verbs = [ts[:-1] for ts in tagged_sentences if set([t[1] for t in ts]).intersection(verb_tags)]"
   ]
  },
  {
   "cell_type": "code",
   "execution_count": 404,
   "metadata": {
    "hidden": true,
    "run_control": {
     "frozen": false,
     "read_only": false
    }
   },
   "outputs": [],
   "source": [
    "# output_sentences(sents_w_verbs)"
   ]
  },
  {
   "cell_type": "code",
   "execution_count": 395,
   "metadata": {
    "hidden": true,
    "run_control": {
     "frozen": false,
     "read_only": false
    },
    "scrolled": true
   },
   "outputs": [
    {
     "data": {
      "text/plain": [
       "['a guy in a helmet by a clock.',\n",
       " 'a big clock on a tall building .',\n",
       " 'a couch with a laptop on it .',\n",
       " 'a boy feeding a giraffe at a zoo.',\n",
       " 'a sink and a stove in a kitchen.',\n",
       " 'a woman and a child are in a room.',\n",
       " 'a a cupcake on a plate.',\n",
       " 'a dog sits in front of a car .',\n",
       " 'a person on the beach with a kite.',\n",
       " 'a plate with a hot dog and salad.',\n",
       " 'a bear in the middle of a road.',\n",
       " 'a fire truck is in a hanger.',\n",
       " 'a woman and some kids on a bed.',\n",
       " 'a wall with a clock on it.',\n",
       " 'a train is on a bridge over water.',\n",
       " 'a woman using a walker in a home.',\n",
       " 'a keyboard with a mouse on a desk.',\n",
       " 'a young man being fed a hot dog.',\n",
       " 'the cat has it paws on the shoe.',\n",
       " 'a couple of large buses on a road.',\n",
       " 'a bus is driven on a city street.',\n",
       " 'a group of men hang out together .',\n",
       " 'a train is on a track near water.',\n",
       " 'a small bus is traveling up hill. .',\n",
       " 'a cat is in the dirt by a garden.',\n",
       " 'a couple of meters next to a road.',\n",
       " 'an old picture of an old man .',\n",
       " 'a scene of water and a path way.',\n",
       " 'an apple desktop rests on a desk. .',\n",
       " 'a small kid sits inside if a cart .',\n",
       " 'a plate of food on a paper plate.',\n",
       " 'a bowl of soup sitting on a plate.',\n",
       " 'two pizzas on two pans on a table.',\n",
       " 'a large bed and window in a room.',\n",
       " 'a man with a remote in a room.',\n",
       " 'a bird in a nest with an egg.',\n",
       " 'a boy on a skateboard in mid air .',\n",
       " 'two dogs in the waves of an ocean.',\n",
       " 'a boat at the beach near the ocean.',\n",
       " 'a number of kites fly in the sky .',\n",
       " 'a tablet is set up on a wood table.',\n",
       " 'an air force jet flying in the sky.',\n",
       " 'the wing of a plane above a sky .',\n",
       " 'a car is driving down a wet road.',\n",
       " 'a woman holding an owl on her arm.',\n",
       " 'a clock tower is lit up at night.',\n",
       " 'a bed in a room with two windows. .',\n",
       " 'a man in a motor boat on a lake.',\n",
       " 'a man is putting on a tie.',\n",
       " 'the dog is laying down in a chair.',\n",
       " 'a large bowl of food on a stove.',\n",
       " 'a young man on a surfboard.',\n",
       " 'a man talking on his cell phone. .',\n",
       " 'a bus going down a country road .',\n",
       " 'a man is cutting in to a cake.',\n",
       " 'a room with an oven and a cooker.',\n",
       " 'a sandwich cut in half on a table.',\n",
       " 'a cat sits on a bed is unmade.',\n",
       " 'a bunch of clocks are on the wall.',\n",
       " 'a laptop on top of a microwave. .',\n",
       " 'a hat on top of a car dashboard .',\n",
       " 'a pot on a stove top in a kitchen.',\n",
       " 'a group of people in a small room.',\n",
       " 'a man with a phone up to his ear .',\n",
       " 'the two boys are flying a kite. .',\n",
       " 'a dog on a bed with a book.',\n",
       " 'the back door of a house at night.',\n",
       " 'a cat is leaning over a bowl.',\n",
       " 'a man eating a pizza at a table.',\n",
       " 'a dog is sleeping on the couch .',\n",
       " 'a cow eating from a metal bucket. .',\n",
       " 'a man on skis is in the snow.',\n",
       " 'a hawk sits on top of a grill.',\n",
       " 'a monument with a clock in a park.',\n",
       " 'a lamp is on next to an empty bed.',\n",
       " 'a zebra is standing in the forest .',\n",
       " 'a small cat sits down on a chair .',\n",
       " 'a man on a boat in the ocean. .',\n",
       " 'a truck is on the city street .',\n",
       " 'a man in surfing in a swim suit.',\n",
       " 'a girl riding a horse on a trail.',\n",
       " 'a few pieces of pizza on a pan.',\n",
       " 'a bear and his cubs by a river.',\n",
       " 'a man is slicing a pizza in a pan.',\n",
       " 'a dog is standing on a boat.',\n",
       " 'a 3 by 3 gird of plants in a yard.',\n",
       " 'a small child is siting on a bench.',\n",
       " 'men hook up a car to a tow truck.',\n",
       " 'a man is flying a kite with a kid.',\n",
       " 'a piece of food is on a tin .',\n",
       " 'a cat is under the back of a car.',\n",
       " 'a bull and five sheep in a field.',\n",
       " 'a kitty all cozy sleeping on a bed.',\n",
       " 'a person in a room with a remote.',\n",
       " 'a man is wind sailing on the lake.',\n",
       " 'a giraffe behind a fence in a zoo .',\n",
       " 'a dog and a man riding on a boat.',\n",
       " 'a lady that has a phone in hand.',\n",
       " 'a little girl feeding a giraffe.  .',\n",
       " 'a teddy bear on the bed.']"
      ]
     },
     "execution_count": 395,
     "metadata": {},
     "output_type": "execute_result"
    }
   ],
   "source": [
    "normed_sents[100:200]"
   ]
  },
  {
   "cell_type": "code",
   "execution_count": null,
   "metadata": {
    "hidden": true,
    "run_control": {
     "frozen": false,
     "read_only": false
    }
   },
   "outputs": [],
   "source": []
  },
  {
   "cell_type": "code",
   "execution_count": 376,
   "metadata": {
    "hidden": true,
    "run_control": {
     "frozen": false,
     "read_only": false
    }
   },
   "outputs": [],
   "source": [
    "noun_tags = ['NN', 'NNS', 'NNP', 'NNPS']"
   ]
  },
  {
   "cell_type": "code",
   "execution_count": 396,
   "metadata": {
    "hidden": true,
    "run_control": {
     "frozen": false,
     "read_only": false
    }
   },
   "outputs": [],
   "source": [
    "verbs = []\n",
    "for s in sents_w_verbs:\n",
    "    for w, tag in s:\n",
    "        if tag in verb_tags:\n",
    "            verbs.append(w)\n",
    "verb_ser = pd.Series(verbs)\n",
    "\n",
    "nouns = []\n",
    "for s in sents_w_verbs:\n",
    "    for w, tag in s:\n",
    "        if tag in noun_tags:\n",
    "            nouns.append(w)\n",
    "noun_ser = pd.Series(nouns)\n",
    "\n",
    "normalized_tokens = []\n",
    "for s in tqdm(sents_w_verbs):\n",
    "    for w in s:\n",
    "        normalized_tokens.append(w[0])\n",
    "\n",
    "wcounts = Counter(normalized_tokens)\n",
    "common = wcounts.most_common(20)\n",
    "\n",
    "most_common_verbs = verb_ser.value_counts()[1:61]\n",
    "most_common_nouns = noun_ser.value_counts()[0:60]"
   ]
  },
  {
   "cell_type": "code",
   "execution_count": 397,
   "metadata": {
    "hidden": true,
    "run_control": {
     "frozen": false,
     "read_only": false
    }
   },
   "outputs": [],
   "source": [
    "lmtzir = WordNetLemmatizer()"
   ]
  },
  {
   "cell_type": "code",
   "execution_count": 398,
   "metadata": {
    "hidden": true,
    "run_control": {
     "frozen": false,
     "read_only": false
    }
   },
   "outputs": [],
   "source": [
    "stemmer = EnglishStemmer()"
   ]
  },
  {
   "cell_type": "code",
   "execution_count": 399,
   "metadata": {
    "hidden": true,
    "run_control": {
     "frozen": false,
     "read_only": false
    }
   },
   "outputs": [],
   "source": [
    "all_words = pd.Series(list(set(normalized_tokens)))"
   ]
  },
  {
   "cell_type": "code",
   "execution_count": 401,
   "metadata": {
    "hidden": true,
    "run_control": {
     "frozen": false,
     "read_only": false
    }
   },
   "outputs": [
    {
     "data": {
      "text/plain": [
       "(1038,)"
      ]
     },
     "execution_count": 401,
     "metadata": {},
     "output_type": "execute_result"
    }
   ],
   "source": [
    "pd.unique(all_words.apply(stemmer.stem)).shape"
   ]
  },
  {
   "cell_type": "code",
   "execution_count": 403,
   "metadata": {
    "hidden": true,
    "run_control": {
     "frozen": false,
     "read_only": false
    }
   },
   "outputs": [
    {
     "data": {
      "text/plain": [
       "(679,)"
      ]
     },
     "execution_count": 403,
     "metadata": {},
     "output_type": "execute_result"
    }
   ],
   "source": [
    "u_verbs = pd.Series(pd.unique(noun_ser))\n",
    "\n",
    "pd.unique(u_verbs.apply(stemmer.stem)).shape"
   ]
  },
  {
   "cell_type": "code",
   "execution_count": null,
   "metadata": {
    "hidden": true,
    "run_control": {
     "frozen": false,
     "read_only": false
    }
   },
   "outputs": [],
   "source": [
    "556 nouns\n",
    "183 verbs\n",
    "\n",
    "850 total vocab"
   ]
  },
  {
   "cell_type": "code",
   "execution_count": 153,
   "metadata": {
    "hidden": true,
    "run_control": {
     "frozen": false,
     "read_only": false
    },
    "scrolled": true
   },
   "outputs": [
    {
     "data": {
      "image/png": "[encoded data removed]",
      "text/plain": [
       "<Figure size 1152x720 with 1 Axes>"
      ]
     },
     "metadata": {},
     "output_type": "display_data"
    }
   ],
   "source": [
    "_ = most_common_verbs.plot(kind='barh')"
   ]
  },
  {
   "cell_type": "code",
   "execution_count": 154,
   "metadata": {
    "hidden": true,
    "run_control": {
     "frozen": false,
     "read_only": false
    },
    "scrolled": true
   },
   "outputs": [
    {
     "data": {
      "image/png": "[encoded data removed]",
      "text/plain": [
       "<Figure size 1152x720 with 1 Axes>"
      ]
     },
     "metadata": {},
     "output_type": "display_data"
    }
   ],
   "source": [
    "_ = most_common_nouns.plot(kind='barh')"
   ]
  },
  {
   "cell_type": "code",
   "execution_count": 23,
   "metadata": {
    "code_folding": [
     0,
     10
    ],
    "hidden": true,
    "run_control": {
     "frozen": false,
     "read_only": false
    }
   },
   "outputs": [],
   "source": [
    "free_words_less = ['a',\n",
    " 'is',\n",
    " 'of',\n",
    " 'the',\n",
    " 'and',\n",
    " 'it',\n",
    " 'are',\n",
    "#  'that',\n",
    " 'an']\n",
    "free_words = ['a',\n",
    " 'on',\n",
    " 'is',\n",
    " 'in',\n",
    " 'of',\n",
    " 'the',\n",
    " 'to',\n",
    " 'has',\n",
    " 'at',\n",
    " 'that',\n",
    " 'and',\n",
    " 'it',\n",
    " 'are',\n",
    " 'up',\n",
    " 'with',\n",
    " 'next',\n",
    " 'an',]"
   ]
  },
  {
   "cell_type": "code",
   "execution_count": 24,
   "metadata": {
    "hidden": true,
    "run_control": {
     "frozen": false,
     "read_only": false
    }
   },
   "outputs": [],
   "source": [
    "# with open('sents_w_verbs.pkl', 'wb') as f:\n",
    "#     pickle.dump(sents_w_verbs, f)"
   ]
  },
  {
   "cell_type": "markdown",
   "metadata": {
    "heading_collapsed": true
   },
   "source": [
    "## 4.2 parse exp"
   ]
  },
  {
   "cell_type": "code",
   "execution_count": 5,
   "metadata": {
    "hidden": true,
    "run_control": {
     "frozen": false,
     "read_only": false
    }
   },
   "outputs": [],
   "source": [
    "with open('sents_w_verbs.pkl', 'rb') as f:\n",
    "    sents_w_verbs = pickle.load(f)"
   ]
  },
  {
   "cell_type": "code",
   "execution_count": 6,
   "metadata": {
    "hidden": true,
    "run_control": {
     "frozen": false,
     "read_only": false
    }
   },
   "outputs": [],
   "source": [
    "reformed_sents = [' '.join(w[0] for w in sent) for sent in sents_w_verbs]"
   ]
  },
  {
   "cell_type": "code",
   "execution_count": 26,
   "metadata": {
    "hidden": true,
    "run_control": {
     "frozen": false,
     "read_only": false
    }
   },
   "outputs": [
    {
     "name": "stdout",
     "output_type": "stream",
     "text": [
      "a boy is getting on a bus\n"
     ]
    },
    {
     "data": {
      "image/png": "[encoded data removed]",
      "text/plain": [
       "Tree('ROOT', [Tree('S', [Tree('NP', [Tree('DT', ['a']), Tree('NN', ['boy'])]), Tree('VP', [Tree('VBZ', ['is']), Tree('VP', [Tree('VBG', ['getting']), Tree('PP', [Tree('IN', ['on']), Tree('NP', [Tree('DT', ['a']), Tree('NN', ['bus'])])])])])])])"
      ]
     },
     "execution_count": 26,
     "metadata": {},
     "output_type": "execute_result"
    }
   ],
   "source": [
    "sent = random.choice(reformed_sents)\n",
    "sent = 'a boy is getting on a bus'\n",
    "print(sent)\n",
    "constituent_parse  = [list(i)[0] for i in core_parser.raw_parse_sents([sent])][0]\n",
    "constituent_parse"
   ]
  },
  {
   "cell_type": "code",
   "execution_count": null,
   "metadata": {
    "hidden": true,
    "run_control": {
     "frozen": false,
     "read_only": false
    }
   },
   "outputs": [],
   "source": []
  },
  {
   "cell_type": "code",
   "execution_count": null,
   "metadata": {
    "hidden": true,
    "run_control": {
     "frozen": false,
     "read_only": false
    }
   },
   "outputs": [],
   "source": []
  },
  {
   "cell_type": "markdown",
   "metadata": {
    "hidden": true
   },
   "source": [
    "_interesting examples_:\n",
    "\n",
    "a man is in a tie and suit\n",
    "\n",
    "a cat lying on top of a keyboard\n",
    "\n",
    "a truck is parked in a lot\n",
    "\n",
    "the door to a toilet room is open\n",
    "\n",
    "roses laid on the sheets of a bed\n",
    "\n",
    "a group of men hang out together\n",
    "\n",
    "a man flies his kite at a park\n",
    "\n",
    "a man sits on a bench by himself\n",
    "\n",
    "a sheep eyes a dog through a fence\n",
    "\n",
    "a man playing tennis on a hot day\n",
    "\n",
    "the man is at the table drinking\n",
    "\n",
    "some items sit next to the door"
   ]
  },
  {
   "cell_type": "code",
   "execution_count": 283,
   "metadata": {
    "hidden": true,
    "run_control": {
     "frozen": false,
     "read_only": false
    }
   },
   "outputs": [
    {
     "data": {
      "text/plain": [
       "['an airplane is flying in the sky',\n",
       " 'a plane is flying in the sky',\n",
       " 'a plane flying high on a clear sky',\n",
       " 'a plane flying in the sky',\n",
       " 'a plane is flying up in the sky',\n",
       " 'the plane is flying up in the sky',\n",
       " 'a small plane is flying in the sky',\n",
       " 'a large plane is flying in the sky',\n",
       " 'a plane is smoking in the sky',\n",
       " 'a plane flying high up in the sky',\n",
       " 'a plane flying by on a cloudy sky',\n",
       " 'a plane is upside down in the sky']"
      ]
     },
     "execution_count": 283,
     "metadata": {},
     "output_type": "execute_result"
    }
   ],
   "source": [
    "[s for s in reformed_sents if 'sky' in s and 'plane' in s]"
   ]
  },
  {
   "cell_type": "code",
   "execution_count": null,
   "metadata": {
    "hidden": true,
    "run_control": {
     "frozen": false,
     "read_only": false
    }
   },
   "outputs": [],
   "source": []
  },
  {
   "cell_type": "code",
   "execution_count": null,
   "metadata": {
    "hidden": true,
    "run_control": {
     "frozen": false,
     "read_only": false
    }
   },
   "outputs": [],
   "source": []
  },
  {
   "cell_type": "code",
   "execution_count": null,
   "metadata": {
    "hidden": true,
    "run_control": {
     "frozen": false,
     "read_only": false
    }
   },
   "outputs": [],
   "source": []
  },
  {
   "cell_type": "markdown",
   "metadata": {
    "heading_collapsed": true,
    "run_control": {
     "frozen": false,
     "read_only": false
    }
   },
   "source": [
    "# 5. german experiments"
   ]
  },
  {
   "cell_type": "code",
   "execution_count": 468,
   "metadata": {
    "hidden": true,
    "run_control": {
     "frozen": false,
     "read_only": false
    }
   },
   "outputs": [],
   "source": [
    "german_words = pd.read_csv('./german_10k.txt', sep=' ', header=None).T\n",
    "german_words.columns = ['raw_word']\n",
    "\n",
    "german_words = german_words[german_words['raw_word'].str.isalpha().fillna(False)]"
   ]
  },
  {
   "cell_type": "code",
   "execution_count": 472,
   "metadata": {
    "hidden": true,
    "run_control": {
     "frozen": false,
     "read_only": false
    }
   },
   "outputs": [],
   "source": [
    "german_words['len'] = german_words.raw_word.str.len()"
   ]
  },
  {
   "cell_type": "code",
   "execution_count": 475,
   "metadata": {
    "hidden": true,
    "run_control": {
     "frozen": false,
     "read_only": false
    }
   },
   "outputs": [
    {
     "data": {
      "text/plain": [
       "<matplotlib.axes._subplots.AxesSubplot at 0x19cfd0278>"
      ]
     },
     "execution_count": 475,
     "metadata": {},
     "output_type": "execute_result"
    },
    {
     "data": {
      "image/png": "[encoded data removed]",
      "text/plain": [
       "<Figure size 1152x720 with 1 Axes>"
      ]
     },
     "metadata": {},
     "output_type": "display_data"
    }
   ],
   "source": [
    "german_words.len.hist()"
   ]
  },
  {
   "cell_type": "code",
   "execution_count": 478,
   "metadata": {
    "hidden": true,
    "run_control": {
     "frozen": false,
     "read_only": false
    }
   },
   "outputs": [],
   "source": [
    "long_words = german_words[german_words['len'] > 15]"
   ]
  },
  {
   "cell_type": "code",
   "execution_count": 485,
   "metadata": {
    "hidden": true,
    "run_control": {
     "frozen": false,
     "read_only": false
    }
   },
   "outputs": [],
   "source": [
    "from googletrans import Translator\n",
    "translator = Translator(service_urls=[\n",
    "      'translate.google.com',\n",
    "    ])"
   ]
  },
  {
   "cell_type": "code",
   "execution_count": 489,
   "metadata": {
    "hidden": true,
    "run_control": {
     "frozen": false,
     "read_only": false
    }
   },
   "outputs": [],
   "source": [
    "to_trans = long_words['raw_word'].tolist()"
   ]
  },
  {
   "cell_type": "code",
   "execution_count": 492,
   "metadata": {
    "hidden": true,
    "run_control": {
     "frozen": false,
     "read_only": false
    }
   },
   "outputs": [],
   "source": [
    "translations = translator.translate(to_trans, dest='en')"
   ]
  },
  {
   "cell_type": "code",
   "execution_count": 498,
   "metadata": {
    "hidden": true,
    "run_control": {
     "frozen": false,
     "read_only": false
    }
   },
   "outputs": [
    {
     "data": {
      "text/plain": [
       "'Waldbrand'"
      ]
     },
     "execution_count": 498,
     "metadata": {},
     "output_type": "execute_result"
    }
   ],
   "source": [
    "translator.translate('forest fire', dest='de').text"
   ]
  },
  {
   "cell_type": "code",
   "execution_count": 506,
   "metadata": {
    "hidden": true,
    "run_control": {
     "frozen": false,
     "read_only": false
    }
   },
   "outputs": [],
   "source": [
    "from wiktionaryparser import WiktionaryParser"
   ]
  },
  {
   "cell_type": "code",
   "execution_count": 510,
   "metadata": {
    "hidden": true,
    "run_control": {
     "frozen": false,
     "read_only": false
    }
   },
   "outputs": [],
   "source": [
    "parser = WiktionaryParser()\n",
    "word = parser.fetch('test')\n",
    "another_word = parser.fetch('Aasfresser', 'german')\n",
    "parser.set_default_language('french')"
   ]
  },
  {
   "cell_type": "code",
   "execution_count": 511,
   "metadata": {
    "hidden": true,
    "run_control": {
     "frozen": false,
     "read_only": false
    }
   },
   "outputs": [
    {
     "data": {
      "text/plain": [
       "[{'definitions': [{'examples': [],\n",
       "    'partOfSpeech': 'noun',\n",
       "    'relatedWords': [{'relationshipType': 'synonyms',\n",
       "      'words': ['Nekrophage']}],\n",
       "    'text': 'Aasfresser\\xa0m (genitive Aasfressers, plural Aasfresser)\\nscavenger (an animal that feeds on carrion)\\n'}],\n",
       "  'etymology': 'Aas +\\u200e Fresser (from fressen + -er \"-er\")',\n",
       "  'pronunciations': {'audio': ['//upload.wikimedia.org/wikipedia/commons/5/52/De-Aasfresser.ogg'],\n",
       "   'text': ['IPA: /ˈaːsˌfʀɛsɐ/']}}]"
      ]
     },
     "execution_count": 511,
     "metadata": {},
     "output_type": "execute_result"
    }
   ],
   "source": [
    "another_word"
   ]
  },
  {
   "cell_type": "markdown",
   "metadata": {
    "run_control": {
     "frozen": false,
     "read_only": false
    }
   },
   "source": [
    "# 6. wordnet"
   ]
  },
  {
   "cell_type": "code",
   "execution_count": 289,
   "metadata": {},
   "outputs": [],
   "source": [
    "easy_words = pd.read_csv('iconary_wordlist_sources/wordlist_easy_aggregated.txt', header=None)"
   ]
  },
  {
   "cell_type": "code",
   "execution_count": 291,
   "metadata": {
    "run_control": {
     "frozen": false,
     "read_only": false
    }
   },
   "outputs": [],
   "source": [
    "medium_words = pd.read_csv('iconary_wordlist_sources/wordlist_medium_aggregated.txt', header=None)\n",
    "medium_words = pd.concat([easy_words, medium_words])\n",
    "medium_words.columns = ['raw_word']\n",
    "medium_words['word'] = medium_words['raw_word'].str.lower()"
   ]
  },
  {
   "cell_type": "code",
   "execution_count": 292,
   "metadata": {
    "run_control": {
     "frozen": false,
     "read_only": false
    },
    "scrolled": true
   },
   "outputs": [],
   "source": [
    "medium_words['freq'] = medium_words['word'].apply(lambda x: zipf_frequency(x, 'en'))"
   ]
  },
  {
   "cell_type": "code",
   "execution_count": 294,
   "metadata": {
    "run_control": {
     "frozen": false,
     "read_only": false
    }
   },
   "outputs": [],
   "source": [
    "# _ = medium_words['freq'].hist(bins=14)"
   ]
  },
  {
   "cell_type": "code",
   "execution_count": 295,
   "metadata": {},
   "outputs": [
    {
     "data": {
      "text/plain": [
       "(409, 3)"
      ]
     },
     "execution_count": 295,
     "metadata": {},
     "output_type": "execute_result"
    }
   ],
   "source": [
    "medium_words.shape"
   ]
  },
  {
   "cell_type": "code",
   "execution_count": 296,
   "metadata": {
    "run_control": {
     "frozen": false,
     "read_only": false
    }
   },
   "outputs": [],
   "source": [
    "filtered_by_freq = medium_words[medium_words['freq'] > 3]"
   ]
  },
  {
   "cell_type": "code",
   "execution_count": 297,
   "metadata": {
    "run_control": {
     "frozen": false,
     "read_only": false
    }
   },
   "outputs": [
    {
     "data": {
      "text/plain": [
       "(348, 3)"
      ]
     },
     "execution_count": 297,
     "metadata": {},
     "output_type": "execute_result"
    }
   ],
   "source": [
    "filtered_by_freq.shape"
   ]
  },
  {
   "cell_type": "code",
   "execution_count": 332,
   "metadata": {},
   "outputs": [
    {
     "data": {
      "text/plain": [
       "(348,)"
      ]
     },
     "execution_count": 332,
     "metadata": {},
     "output_type": "execute_result"
    }
   ],
   "source": [
    " filtered_by_freq['word'].shape"
   ]
  },
  {
   "cell_type": "code",
   "execution_count": 344,
   "metadata": {
    "run_control": {
     "frozen": false,
     "read_only": false
    },
    "scrolled": true
   },
   "outputs": [],
   "source": [
    "expanded_word_list = []\n",
    "for word in filtered_by_freq['word']:\n",
    "    sis_words, ssyns = get_word_sisters(word)\n",
    "    for word in sis_words:\n",
    "        swf = zipf_frequency(word, 'en')\n",
    "        if swf > 4 and '-' not in word and word[-3:] != 'ing' and word not in ['bitch', 'delta'] and len(word)>3:\n",
    "            expanded_word_list.append(word.lower())\n",
    "exp_ws = set(expanded_word_list)\n",
    "exp_ws.update(set(filtered_by_freq['word'].tolist()))\n",
    "expanded_word_list = list(exp_ws.difference(set(icon_list)))"
   ]
  },
  {
   "cell_type": "code",
   "execution_count": 346,
   "metadata": {},
   "outputs": [
    {
     "data": {
      "text/plain": [
       "576"
      ]
     },
     "execution_count": 346,
     "metadata": {},
     "output_type": "execute_result"
    }
   ],
   "source": [
    "len(expanded_word_list)"
   ]
  },
  {
   "cell_type": "code",
   "execution_count": 347,
   "metadata": {
    "scrolled": true
   },
   "outputs": [
    {
     "data": {
      "text/plain": [
       "['guard',\n",
       " 'complex',\n",
       " 'duration',\n",
       " 'statue of liberty',\n",
       " 'drink',\n",
       " 'source',\n",
       " 'roll',\n",
       " 'variation',\n",
       " 'fate',\n",
       " 'repair',\n",
       " 'restoration',\n",
       " 'baseball',\n",
       " 'hull',\n",
       " 'terminal',\n",
       " 'pump',\n",
       " 'swimming pool',\n",
       " 'grab',\n",
       " 'winter',\n",
       " 'auto',\n",
       " 'strip',\n",
       " 'fur',\n",
       " 'ridge',\n",
       " 'arena',\n",
       " 'game',\n",
       " 'bracelet',\n",
       " 'characteristic',\n",
       " 'bank',\n",
       " 'beach',\n",
       " 'mermaid',\n",
       " 'right',\n",
       " 'backbone',\n",
       " 'hybrid',\n",
       " 'ease',\n",
       " 'wax',\n",
       " 'grade',\n",
       " 'galaxy',\n",
       " 'arrangement',\n",
       " 'danger',\n",
       " 'ways',\n",
       " 'dark',\n",
       " 'character',\n",
       " 'worth',\n",
       " 'slipper',\n",
       " 'platform',\n",
       " 'green',\n",
       " 'slip',\n",
       " 'plot',\n",
       " 'primary',\n",
       " 'laugh',\n",
       " 'appearance',\n",
       " 'member',\n",
       " 'gear',\n",
       " 'hood',\n",
       " 'goodness',\n",
       " 'distance',\n",
       " 'commons',\n",
       " 'country',\n",
       " 'lift',\n",
       " 'romance',\n",
       " 'defense',\n",
       " 'summer',\n",
       " 'chin',\n",
       " 'publicity',\n",
       " 'force',\n",
       " 'designer',\n",
       " 'fairy',\n",
       " 'times',\n",
       " 'top hat',\n",
       " 'ipad',\n",
       " 'split',\n",
       " 'knock',\n",
       " 'impression',\n",
       " 'refuse',\n",
       " 'difficulty',\n",
       " 'circus',\n",
       " 'uncertainty',\n",
       " 'ride',\n",
       " 'carrier',\n",
       " 'noise',\n",
       " 'miss',\n",
       " 'document',\n",
       " 'chain saw',\n",
       " 'release',\n",
       " 'jack',\n",
       " 'express',\n",
       " 'pick',\n",
       " 'silverware',\n",
       " 'material',\n",
       " 'passage',\n",
       " 'language',\n",
       " 'time',\n",
       " 'bubble',\n",
       " 'mine',\n",
       " 'skirt',\n",
       " 'ferris wheel',\n",
       " 'person',\n",
       " 'bible',\n",
       " 'garden',\n",
       " 'lifetime',\n",
       " 'behaviour',\n",
       " 'supplement',\n",
       " 'angel',\n",
       " 'establishment',\n",
       " 'special',\n",
       " 'snowball',\n",
       " 'level',\n",
       " 'main',\n",
       " 'clip',\n",
       " 'stroke',\n",
       " 'mate',\n",
       " 'pull',\n",
       " 'difference',\n",
       " 'song',\n",
       " 'punk',\n",
       " 'watering can',\n",
       " 'clear',\n",
       " 'front porch',\n",
       " 'north pole',\n",
       " 'goal',\n",
       " 'image',\n",
       " 'ultimate',\n",
       " 'instrument',\n",
       " 'girlfriend',\n",
       " 'power',\n",
       " 'battery',\n",
       " 'quilt',\n",
       " 'conditions',\n",
       " 'site',\n",
       " 'someone',\n",
       " 'nurse',\n",
       " 'architecture',\n",
       " 'broadcast',\n",
       " 'rocking chair',\n",
       " 'toothpaste',\n",
       " 'testament',\n",
       " 'stage',\n",
       " 'track',\n",
       " 'heaven',\n",
       " 'humor',\n",
       " 'grapes',\n",
       " 'popularity',\n",
       " 'video camera',\n",
       " 'branch',\n",
       " 'layer',\n",
       " 'host',\n",
       " 'local',\n",
       " 'twins',\n",
       " 'peak',\n",
       " 'ice cream cone',\n",
       " 'presentation',\n",
       " 'cast',\n",
       " 'stable',\n",
       " 'generation',\n",
       " 'paradise',\n",
       " 'play',\n",
       " 'fishing pole',\n",
       " 'attraction',\n",
       " 'soda',\n",
       " 'surface',\n",
       " 'asset',\n",
       " 'quick',\n",
       " 'crystal',\n",
       " 'football',\n",
       " 'outside',\n",
       " 'icon',\n",
       " 'ghost',\n",
       " 'weekend',\n",
       " 'relative',\n",
       " 'meet',\n",
       " 'happy',\n",
       " 'giant',\n",
       " 'date',\n",
       " 'stuff',\n",
       " 'sang',\n",
       " 'safety',\n",
       " 'soul',\n",
       " 'light',\n",
       " 'cult',\n",
       " 'buck',\n",
       " 'pink',\n",
       " 'range',\n",
       " 'guide',\n",
       " 'twitter',\n",
       " 'plus',\n",
       " 'developer',\n",
       " 'lips',\n",
       " 'bones',\n",
       " 'architect',\n",
       " 'idea',\n",
       " 'ears',\n",
       " 'weather',\n",
       " 'radiation',\n",
       " 'amazon',\n",
       " 'craft',\n",
       " 'nature',\n",
       " 'circuit',\n",
       " 'storm',\n",
       " 'seat',\n",
       " 'common',\n",
       " 'beauty',\n",
       " 'photo',\n",
       " 'crude',\n",
       " 'tour',\n",
       " 'chaos',\n",
       " 'park',\n",
       " 'exposure',\n",
       " 'prayer',\n",
       " 'separate',\n",
       " 'mind',\n",
       " 'sport',\n",
       " 'arsenal',\n",
       " 'interaction',\n",
       " 'fourth',\n",
       " 'hot dog',\n",
       " 'essence',\n",
       " 'balance',\n",
       " 'years',\n",
       " 'bunk bed',\n",
       " 'centre',\n",
       " 'eighth',\n",
       " 'season',\n",
       " 'euro',\n",
       " 'ministry',\n",
       " 'sand castle',\n",
       " 'interior',\n",
       " 'panel',\n",
       " 'complexity',\n",
       " 'basketball',\n",
       " 'school',\n",
       " 'spare',\n",
       " 'accuracy',\n",
       " 'agent',\n",
       " 'controller',\n",
       " 'welsh',\n",
       " 'trigger',\n",
       " 'town',\n",
       " 'beat',\n",
       " 'ward',\n",
       " 'recycle',\n",
       " 'cross',\n",
       " 'block',\n",
       " 'department',\n",
       " 'boy',\n",
       " 'boot',\n",
       " 'junk mail',\n",
       " 'alexander',\n",
       " 'cover',\n",
       " 'drive',\n",
       " 'axis',\n",
       " 'convenience',\n",
       " 'cycle',\n",
       " 'blanket',\n",
       " 'artist',\n",
       " 'hall',\n",
       " 'bell pepper',\n",
       " 'volume',\n",
       " 'fall',\n",
       " 'grip',\n",
       " 'copy',\n",
       " 'shoe',\n",
       " 'loop',\n",
       " 'support',\n",
       " 'native',\n",
       " 'yo-yo',\n",
       " 'space',\n",
       " 'shot',\n",
       " 'mobility',\n",
       " 'prime',\n",
       " 'measure',\n",
       " 'girl',\n",
       " 'beard',\n",
       " 'input',\n",
       " 'pine',\n",
       " 'front',\n",
       " 'wash',\n",
       " 'plastic',\n",
       " 'sixth',\n",
       " 'tone',\n",
       " 'stock',\n",
       " 'dragon',\n",
       " 'thief',\n",
       " 'hide',\n",
       " 'home',\n",
       " 'fell',\n",
       " 'mushroom',\n",
       " 'infant',\n",
       " 'alarm',\n",
       " 'click',\n",
       " 'reserve',\n",
       " 'murphy',\n",
       " 'hell',\n",
       " 'transit',\n",
       " 'stem',\n",
       " 'province',\n",
       " 'creature',\n",
       " 'depression',\n",
       " 'memorial',\n",
       " 'fireworks',\n",
       " 'span',\n",
       " 'month',\n",
       " 'ice',\n",
       " 'phase',\n",
       " 'theatre',\n",
       " 'short',\n",
       " 'bout',\n",
       " 'wave',\n",
       " 'reception',\n",
       " 'witch',\n",
       " 'construction',\n",
       " 'vocal',\n",
       " 'church',\n",
       " 'beaver',\n",
       " 'autumn',\n",
       " 'zone',\n",
       " 'flat',\n",
       " 'shallow',\n",
       " 'produce',\n",
       " 'type',\n",
       " 'half',\n",
       " 'falls',\n",
       " 'resort',\n",
       " 'throw',\n",
       " 'fifth',\n",
       " 'hockey',\n",
       " 'lady bug',\n",
       " 'whistle',\n",
       " 'smile',\n",
       " 'imperial',\n",
       " 'year',\n",
       " 'neighborhood',\n",
       " 'sector',\n",
       " 'humanity',\n",
       " 'behavior',\n",
       " 'pool',\n",
       " 'post',\n",
       " 'operation',\n",
       " 'deal',\n",
       " 'ring',\n",
       " 'word',\n",
       " 'crush',\n",
       " 'base',\n",
       " 'slide',\n",
       " 'remote',\n",
       " 'buzz',\n",
       " 'stream',\n",
       " 'decade',\n",
       " 'collection',\n",
       " 'gospel',\n",
       " 'story',\n",
       " 'movement',\n",
       " 'college',\n",
       " 'flash',\n",
       " 'powder',\n",
       " 'night',\n",
       " 'transport',\n",
       " 'french fries',\n",
       " 'resolution',\n",
       " 'mattress',\n",
       " 'bass',\n",
       " 'empty',\n",
       " 'open',\n",
       " 'bathroom scale',\n",
       " 'mechanism',\n",
       " 'event',\n",
       " 'section',\n",
       " 'spring',\n",
       " \"ma'am\",\n",
       " 'password',\n",
       " 'tough',\n",
       " 'toll',\n",
       " 'individual',\n",
       " 'control',\n",
       " 'stone',\n",
       " 'trip',\n",
       " 'tender',\n",
       " 'action',\n",
       " 'eiffel tower',\n",
       " 'java',\n",
       " 'spider web',\n",
       " 'audio',\n",
       " 'well',\n",
       " 'harvest',\n",
       " 'wife',\n",
       " 'club',\n",
       " 'structure',\n",
       " 'ford',\n",
       " 'car accident',\n",
       " 'babe',\n",
       " 'grounds',\n",
       " 'expedition',\n",
       " 'sunset',\n",
       " 'farmer',\n",
       " 'reference',\n",
       " 'vacuum',\n",
       " 'angry',\n",
       " 'pumpkin pie',\n",
       " 'ruin',\n",
       " 'electricity',\n",
       " 'statement',\n",
       " 'ninth',\n",
       " 'kiss',\n",
       " 'cave',\n",
       " 'round',\n",
       " 'treasure',\n",
       " 'works',\n",
       " 'piece',\n",
       " 'birthday cake',\n",
       " 'comfort',\n",
       " 'stand',\n",
       " 'ability',\n",
       " 'semester',\n",
       " 'hours',\n",
       " 'destiny',\n",
       " 'hippo',\n",
       " 'flying saucer',\n",
       " 'hair dryer',\n",
       " 'scene',\n",
       " 'machine',\n",
       " 'creation',\n",
       " 'broad',\n",
       " 'counter',\n",
       " 'channel',\n",
       " 'fang',\n",
       " 'socks',\n",
       " 'past',\n",
       " 'side',\n",
       " 'installation',\n",
       " 'center',\n",
       " 'trap',\n",
       " 'dawn',\n",
       " 'assembly',\n",
       " 'atmosphere',\n",
       " 'blocks',\n",
       " 'step',\n",
       " 'crayon',\n",
       " 'bubble bath',\n",
       " 'colors',\n",
       " 'energy',\n",
       " 'paint',\n",
       " 'truth',\n",
       " 'shore',\n",
       " 'circus tent',\n",
       " 'city',\n",
       " 'snap',\n",
       " 'coal',\n",
       " 'deep',\n",
       " 'estimate',\n",
       " 'extra',\n",
       " 'patch',\n",
       " 'speech',\n",
       " 'somebody',\n",
       " 'currency',\n",
       " 'life',\n",
       " 'maria',\n",
       " 'light bulb',\n",
       " 'county',\n",
       " 'sole',\n",
       " 'salt and pepper',\n",
       " 'festival',\n",
       " 'excellence',\n",
       " 'youth',\n",
       " 'hour',\n",
       " 'yard',\n",
       " 'depth',\n",
       " 'weight',\n",
       " 'utility',\n",
       " 'limited',\n",
       " 'gulf',\n",
       " 'cowboy',\n",
       " 'abraham lincoln',\n",
       " 'aircraft',\n",
       " 'america',\n",
       " 'headquarters',\n",
       " 'area',\n",
       " 'target',\n",
       " 'sleep',\n",
       " 'occupation',\n",
       " 'simple',\n",
       " 'press',\n",
       " 'spread',\n",
       " 'monster',\n",
       " 'olympics',\n",
       " 'left',\n",
       " 'preliminary',\n",
       " 'voice',\n",
       " 'coach',\n",
       " 'reflection',\n",
       " 'addition',\n",
       " 'spirit',\n",
       " 'lease',\n",
       " 'politics',\n",
       " 'cliff',\n",
       " 'sheet',\n",
       " 'playground',\n",
       " 'land',\n",
       " 'solo',\n",
       " 'killer',\n",
       " 'operator',\n",
       " 'probability',\n",
       " 'console',\n",
       " 'field',\n",
       " 'model',\n",
       " 'steps',\n",
       " 'inside',\n",
       " 'tide',\n",
       " 'leather',\n",
       " 'trash',\n",
       " 'order',\n",
       " 'wireless',\n",
       " 'back',\n",
       " 'seventh',\n",
       " 'article',\n",
       " 'contact',\n",
       " 'reign',\n",
       " 'maker',\n",
       " 'flight',\n",
       " 'reed',\n",
       " 'pressure',\n",
       " 'picture',\n",
       " 'middle',\n",
       " 'catch',\n",
       " 'century',\n",
       " 'link',\n",
       " 'display',\n",
       " 'appointment',\n",
       " 'washing machine',\n",
       " 'cello',\n",
       " 'water',\n",
       " 'fellow',\n",
       " 'lady',\n",
       " 'corner',\n",
       " 'suite',\n",
       " 'study',\n",
       " 'agency',\n",
       " 'tennis',\n",
       " 'morality',\n",
       " 'snowman',\n",
       " 'volleyball',\n",
       " 'shade',\n",
       " 'colours',\n",
       " 'good',\n",
       " 'producer',\n",
       " 'term',\n",
       " 'case',\n",
       " 'third',\n",
       " 'facility',\n",
       " 'state',\n",
       " 'number',\n",
       " 'booth',\n",
       " 'queen',\n",
       " 'scope',\n",
       " 'baby',\n",
       " 'music',\n",
       " 'distinction',\n",
       " 'dollar',\n",
       " 'desert',\n",
       " 'widow',\n",
       " 'sound',\n",
       " 'high heel',\n",
       " 'parent',\n",
       " 'retreat',\n",
       " 'bottom',\n",
       " 'device',\n",
       " 'quarter',\n",
       " 'white',\n",
       " 'read',\n",
       " 'column',\n",
       " 'judgment',\n",
       " 'lodge',\n",
       " 'defence',\n",
       " 'monitor',\n",
       " 'week',\n",
       " 'mail',\n",
       " 'service',\n",
       " 'root',\n",
       " 'cheek']"
      ]
     },
     "execution_count": 347,
     "metadata": {},
     "output_type": "execute_result"
    }
   ],
   "source": [
    "expanded_word_list"
   ]
  },
  {
   "cell_type": "code",
   "execution_count": null,
   "metadata": {},
   "outputs": [],
   "source": [
    "def form_strings(tagged_sentence):\n",
    "    words = [w[0] for w in tagged_sentence]\n",
    "    include_word = filter_pos_tags(tagged_sentence)\n",
    "    return f\"{' '.join(words)} # {' '.join(include_word)}\"\n",
    "\n",
    "\n",
    "def form_strings_w_pos(tagged_sentence):\n",
    "    words = [w[0] for w in tagged_sentence]\n",
    "    include_word = [w[1] for w in tagged_sentence]\n",
    "    return f\"{' '.join(words)} # {' '.join(include_word)}\""
   ]
  },
  {
   "cell_type": "code",
   "execution_count": 423,
   "metadata": {},
   "outputs": [],
   "source": [
    "out_lines = []\n",
    "for word in expanded_word_list:\n",
    "    n_words = len(word.split())\n",
    "#     out_s = f\"{' '.join(word.split())} # {' '.join(['False'] * n_words)}\"\n",
    "    out_s = f\"{' '.join(word.split())} # {' '.join(['NN'] * n_words)}\"\n",
    "    out_lines.append(out_s)"
   ]
  },
  {
   "cell_type": "code",
   "execution_count": 424,
   "metadata": {},
   "outputs": [],
   "source": [
    "pd.Series(out_lines).to_csv('med_abstract_nouns_pos.txt', index=False)"
   ]
  },
  {
   "cell_type": "code",
   "execution_count": 349,
   "metadata": {
    "scrolled": true
   },
   "outputs": [
    {
     "data": {
      "text/plain": [
       "['guard',\n",
       " 'complex',\n",
       " 'duration',\n",
       " 'statue of liberty',\n",
       " 'drink',\n",
       " 'source',\n",
       " 'roll',\n",
       " 'variation',\n",
       " 'fate',\n",
       " 'repair',\n",
       " 'restoration',\n",
       " 'baseball',\n",
       " 'hull',\n",
       " 'terminal',\n",
       " 'pump',\n",
       " 'swimming pool',\n",
       " 'grab',\n",
       " 'winter',\n",
       " 'auto',\n",
       " 'strip',\n",
       " 'fur',\n",
       " 'ridge',\n",
       " 'arena',\n",
       " 'game',\n",
       " 'bracelet',\n",
       " 'characteristic',\n",
       " 'bank',\n",
       " 'beach',\n",
       " 'mermaid',\n",
       " 'right',\n",
       " 'backbone',\n",
       " 'hybrid',\n",
       " 'ease',\n",
       " 'wax',\n",
       " 'grade',\n",
       " 'galaxy',\n",
       " 'arrangement',\n",
       " 'danger',\n",
       " 'ways',\n",
       " 'dark',\n",
       " 'character',\n",
       " 'worth',\n",
       " 'slipper',\n",
       " 'platform',\n",
       " 'green',\n",
       " 'slip',\n",
       " 'plot',\n",
       " 'primary',\n",
       " 'laugh',\n",
       " 'appearance',\n",
       " 'member',\n",
       " 'gear',\n",
       " 'hood',\n",
       " 'goodness',\n",
       " 'distance',\n",
       " 'commons',\n",
       " 'country',\n",
       " 'lift',\n",
       " 'romance',\n",
       " 'defense',\n",
       " 'summer',\n",
       " 'chin',\n",
       " 'publicity',\n",
       " 'force',\n",
       " 'designer',\n",
       " 'fairy',\n",
       " 'times',\n",
       " 'top hat',\n",
       " 'ipad',\n",
       " 'split',\n",
       " 'knock',\n",
       " 'impression',\n",
       " 'refuse',\n",
       " 'difficulty',\n",
       " 'circus',\n",
       " 'uncertainty',\n",
       " 'ride',\n",
       " 'carrier',\n",
       " 'noise',\n",
       " 'miss',\n",
       " 'document',\n",
       " 'chain saw',\n",
       " 'release',\n",
       " 'jack',\n",
       " 'express',\n",
       " 'pick',\n",
       " 'silverware',\n",
       " 'material',\n",
       " 'passage',\n",
       " 'language',\n",
       " 'time',\n",
       " 'bubble',\n",
       " 'mine',\n",
       " 'skirt',\n",
       " 'ferris wheel',\n",
       " 'person',\n",
       " 'bible',\n",
       " 'garden',\n",
       " 'lifetime',\n",
       " 'behaviour',\n",
       " 'supplement',\n",
       " 'angel',\n",
       " 'establishment',\n",
       " 'special',\n",
       " 'snowball',\n",
       " 'level',\n",
       " 'main',\n",
       " 'clip',\n",
       " 'stroke',\n",
       " 'mate',\n",
       " 'pull',\n",
       " 'difference',\n",
       " 'song',\n",
       " 'punk',\n",
       " 'watering can',\n",
       " 'clear',\n",
       " 'front porch',\n",
       " 'north pole',\n",
       " 'goal',\n",
       " 'image',\n",
       " 'ultimate',\n",
       " 'instrument',\n",
       " 'girlfriend',\n",
       " 'power',\n",
       " 'battery',\n",
       " 'quilt',\n",
       " 'conditions',\n",
       " 'site',\n",
       " 'someone',\n",
       " 'nurse',\n",
       " 'architecture',\n",
       " 'broadcast',\n",
       " 'rocking chair',\n",
       " 'toothpaste',\n",
       " 'testament',\n",
       " 'stage',\n",
       " 'track',\n",
       " 'heaven',\n",
       " 'humor',\n",
       " 'grapes',\n",
       " 'popularity',\n",
       " 'video camera',\n",
       " 'branch',\n",
       " 'layer',\n",
       " 'host',\n",
       " 'local',\n",
       " 'twins',\n",
       " 'peak',\n",
       " 'ice cream cone',\n",
       " 'presentation',\n",
       " 'cast',\n",
       " 'stable',\n",
       " 'generation',\n",
       " 'paradise',\n",
       " 'play',\n",
       " 'fishing pole',\n",
       " 'attraction',\n",
       " 'soda',\n",
       " 'surface',\n",
       " 'asset',\n",
       " 'quick',\n",
       " 'crystal',\n",
       " 'football',\n",
       " 'outside',\n",
       " 'icon',\n",
       " 'ghost',\n",
       " 'weekend',\n",
       " 'relative',\n",
       " 'meet',\n",
       " 'happy',\n",
       " 'giant',\n",
       " 'date',\n",
       " 'stuff',\n",
       " 'sang',\n",
       " 'safety',\n",
       " 'soul',\n",
       " 'light',\n",
       " 'cult',\n",
       " 'buck',\n",
       " 'pink',\n",
       " 'range',\n",
       " 'guide',\n",
       " 'twitter',\n",
       " 'plus',\n",
       " 'developer',\n",
       " 'lips',\n",
       " 'bones',\n",
       " 'architect',\n",
       " 'idea',\n",
       " 'ears',\n",
       " 'weather',\n",
       " 'radiation',\n",
       " 'amazon',\n",
       " 'craft',\n",
       " 'nature',\n",
       " 'circuit',\n",
       " 'storm',\n",
       " 'seat',\n",
       " 'common',\n",
       " 'beauty',\n",
       " 'photo',\n",
       " 'crude',\n",
       " 'tour',\n",
       " 'chaos',\n",
       " 'park',\n",
       " 'exposure',\n",
       " 'prayer',\n",
       " 'separate',\n",
       " 'mind',\n",
       " 'sport',\n",
       " 'arsenal',\n",
       " 'interaction',\n",
       " 'fourth',\n",
       " 'hot dog',\n",
       " 'essence',\n",
       " 'balance',\n",
       " 'years',\n",
       " 'bunk bed',\n",
       " 'centre',\n",
       " 'eighth',\n",
       " 'season',\n",
       " 'euro',\n",
       " 'ministry',\n",
       " 'sand castle',\n",
       " 'interior',\n",
       " 'panel',\n",
       " 'complexity',\n",
       " 'basketball',\n",
       " 'school',\n",
       " 'spare',\n",
       " 'accuracy',\n",
       " 'agent',\n",
       " 'controller',\n",
       " 'welsh',\n",
       " 'trigger',\n",
       " 'town',\n",
       " 'beat',\n",
       " 'ward',\n",
       " 'recycle',\n",
       " 'cross',\n",
       " 'block',\n",
       " 'department',\n",
       " 'boy',\n",
       " 'boot',\n",
       " 'junk mail',\n",
       " 'alexander',\n",
       " 'cover',\n",
       " 'drive',\n",
       " 'axis',\n",
       " 'convenience',\n",
       " 'cycle',\n",
       " 'blanket',\n",
       " 'artist',\n",
       " 'hall',\n",
       " 'bell pepper',\n",
       " 'volume',\n",
       " 'fall',\n",
       " 'grip',\n",
       " 'copy',\n",
       " 'shoe',\n",
       " 'loop',\n",
       " 'support',\n",
       " 'native',\n",
       " 'yo-yo',\n",
       " 'space',\n",
       " 'shot',\n",
       " 'mobility',\n",
       " 'prime',\n",
       " 'measure',\n",
       " 'girl',\n",
       " 'beard',\n",
       " 'input',\n",
       " 'pine',\n",
       " 'front',\n",
       " 'wash',\n",
       " 'plastic',\n",
       " 'sixth',\n",
       " 'tone',\n",
       " 'stock',\n",
       " 'dragon',\n",
       " 'thief',\n",
       " 'hide',\n",
       " 'home',\n",
       " 'fell',\n",
       " 'mushroom',\n",
       " 'infant',\n",
       " 'alarm',\n",
       " 'click',\n",
       " 'reserve',\n",
       " 'murphy',\n",
       " 'hell',\n",
       " 'transit',\n",
       " 'stem',\n",
       " 'province',\n",
       " 'creature',\n",
       " 'depression',\n",
       " 'memorial',\n",
       " 'fireworks',\n",
       " 'span',\n",
       " 'month',\n",
       " 'ice',\n",
       " 'phase',\n",
       " 'theatre',\n",
       " 'short',\n",
       " 'bout',\n",
       " 'wave',\n",
       " 'reception',\n",
       " 'witch',\n",
       " 'construction',\n",
       " 'vocal',\n",
       " 'church',\n",
       " 'beaver',\n",
       " 'autumn',\n",
       " 'zone',\n",
       " 'flat',\n",
       " 'shallow',\n",
       " 'produce',\n",
       " 'type',\n",
       " 'half',\n",
       " 'falls',\n",
       " 'resort',\n",
       " 'throw',\n",
       " 'fifth',\n",
       " 'hockey',\n",
       " 'lady bug',\n",
       " 'whistle',\n",
       " 'smile',\n",
       " 'imperial',\n",
       " 'year',\n",
       " 'neighborhood',\n",
       " 'sector',\n",
       " 'humanity',\n",
       " 'behavior',\n",
       " 'pool',\n",
       " 'post',\n",
       " 'operation',\n",
       " 'deal',\n",
       " 'ring',\n",
       " 'word',\n",
       " 'crush',\n",
       " 'base',\n",
       " 'slide',\n",
       " 'remote',\n",
       " 'buzz',\n",
       " 'stream',\n",
       " 'decade',\n",
       " 'collection',\n",
       " 'gospel',\n",
       " 'story',\n",
       " 'movement',\n",
       " 'college',\n",
       " 'flash',\n",
       " 'powder',\n",
       " 'night',\n",
       " 'transport',\n",
       " 'french fries',\n",
       " 'resolution',\n",
       " 'mattress',\n",
       " 'bass',\n",
       " 'empty',\n",
       " 'open',\n",
       " 'bathroom scale',\n",
       " 'mechanism',\n",
       " 'event',\n",
       " 'section',\n",
       " 'spring',\n",
       " \"ma'am\",\n",
       " 'password',\n",
       " 'tough',\n",
       " 'toll',\n",
       " 'individual',\n",
       " 'control',\n",
       " 'stone',\n",
       " 'trip',\n",
       " 'tender',\n",
       " 'action',\n",
       " 'eiffel tower',\n",
       " 'java',\n",
       " 'spider web',\n",
       " 'audio',\n",
       " 'well',\n",
       " 'harvest',\n",
       " 'wife',\n",
       " 'club',\n",
       " 'structure',\n",
       " 'ford',\n",
       " 'car accident',\n",
       " 'babe',\n",
       " 'grounds',\n",
       " 'expedition',\n",
       " 'sunset',\n",
       " 'farmer',\n",
       " 'reference',\n",
       " 'vacuum',\n",
       " 'angry',\n",
       " 'pumpkin pie',\n",
       " 'ruin',\n",
       " 'electricity',\n",
       " 'statement',\n",
       " 'ninth',\n",
       " 'kiss',\n",
       " 'cave',\n",
       " 'round',\n",
       " 'treasure',\n",
       " 'works',\n",
       " 'piece',\n",
       " 'birthday cake',\n",
       " 'comfort',\n",
       " 'stand',\n",
       " 'ability',\n",
       " 'semester',\n",
       " 'hours',\n",
       " 'destiny',\n",
       " 'hippo',\n",
       " 'flying saucer',\n",
       " 'hair dryer',\n",
       " 'scene',\n",
       " 'machine',\n",
       " 'creation',\n",
       " 'broad',\n",
       " 'counter',\n",
       " 'channel',\n",
       " 'fang',\n",
       " 'socks',\n",
       " 'past',\n",
       " 'side',\n",
       " 'installation',\n",
       " 'center',\n",
       " 'trap',\n",
       " 'dawn',\n",
       " 'assembly',\n",
       " 'atmosphere',\n",
       " 'blocks',\n",
       " 'step',\n",
       " 'crayon',\n",
       " 'bubble bath',\n",
       " 'colors',\n",
       " 'energy',\n",
       " 'paint',\n",
       " 'truth',\n",
       " 'shore',\n",
       " 'circus tent',\n",
       " 'city',\n",
       " 'snap',\n",
       " 'coal',\n",
       " 'deep',\n",
       " 'estimate',\n",
       " 'extra',\n",
       " 'patch',\n",
       " 'speech',\n",
       " 'somebody',\n",
       " 'currency',\n",
       " 'life',\n",
       " 'maria',\n",
       " 'light bulb',\n",
       " 'county',\n",
       " 'sole',\n",
       " 'salt and pepper',\n",
       " 'festival',\n",
       " 'excellence',\n",
       " 'youth',\n",
       " 'hour',\n",
       " 'yard',\n",
       " 'depth',\n",
       " 'weight',\n",
       " 'utility',\n",
       " 'limited',\n",
       " 'gulf',\n",
       " 'cowboy',\n",
       " 'abraham lincoln',\n",
       " 'aircraft',\n",
       " 'america',\n",
       " 'headquarters',\n",
       " 'area',\n",
       " 'target',\n",
       " 'sleep',\n",
       " 'occupation',\n",
       " 'simple',\n",
       " 'press',\n",
       " 'spread',\n",
       " 'monster',\n",
       " 'olympics',\n",
       " 'left',\n",
       " 'preliminary',\n",
       " 'voice',\n",
       " 'coach',\n",
       " 'reflection',\n",
       " 'addition',\n",
       " 'spirit',\n",
       " 'lease',\n",
       " 'politics',\n",
       " 'cliff',\n",
       " 'sheet',\n",
       " 'playground',\n",
       " 'land',\n",
       " 'solo',\n",
       " 'killer',\n",
       " 'operator',\n",
       " 'probability',\n",
       " 'console',\n",
       " 'field',\n",
       " 'model',\n",
       " 'steps',\n",
       " 'inside',\n",
       " 'tide',\n",
       " 'leather',\n",
       " 'trash',\n",
       " 'order',\n",
       " 'wireless',\n",
       " 'back',\n",
       " 'seventh',\n",
       " 'article',\n",
       " 'contact',\n",
       " 'reign',\n",
       " 'maker',\n",
       " 'flight',\n",
       " 'reed',\n",
       " 'pressure',\n",
       " 'picture',\n",
       " 'middle',\n",
       " 'catch',\n",
       " 'century',\n",
       " 'link',\n",
       " 'display',\n",
       " 'appointment',\n",
       " 'washing machine',\n",
       " 'cello',\n",
       " 'water',\n",
       " 'fellow',\n",
       " 'lady',\n",
       " 'corner',\n",
       " 'suite',\n",
       " 'study',\n",
       " 'agency',\n",
       " 'tennis',\n",
       " 'morality',\n",
       " 'snowman',\n",
       " 'volleyball',\n",
       " 'shade',\n",
       " 'colours',\n",
       " 'good',\n",
       " 'producer',\n",
       " 'term',\n",
       " 'case',\n",
       " 'third',\n",
       " 'facility',\n",
       " 'state',\n",
       " 'number',\n",
       " 'booth',\n",
       " 'queen',\n",
       " 'scope',\n",
       " 'baby',\n",
       " 'music',\n",
       " 'distinction',\n",
       " 'dollar',\n",
       " 'desert',\n",
       " 'widow',\n",
       " 'sound',\n",
       " 'high heel',\n",
       " 'parent',\n",
       " 'retreat',\n",
       " 'bottom',\n",
       " 'device',\n",
       " 'quarter',\n",
       " 'white',\n",
       " 'read',\n",
       " 'column',\n",
       " 'judgment',\n",
       " 'lodge',\n",
       " 'defence',\n",
       " 'monitor',\n",
       " 'week',\n",
       " 'mail',\n",
       " 'service',\n",
       " 'root',\n",
       " 'cheek']"
      ]
     },
     "execution_count": 349,
     "metadata": {},
     "output_type": "execute_result"
    }
   ],
   "source": [
    "expanded_word_list"
   ]
  },
  {
   "cell_type": "code",
   "execution_count": 354,
   "metadata": {},
   "outputs": [
    {
     "name": "stdout",
     "output_type": "stream",
     "text": [
      "Synset('anadama_bread.n.01')\n",
      "['anadama_bread']\n",
      "Synset('bap.n.01')\n",
      "['bap']\n",
      "Synset('barmbrack.n.01')\n",
      "['barmbrack']\n",
      "Synset('breadstick.n.01')\n",
      "['breadstick', 'bread-stick']\n",
      "Synset('brown_bread.n.02')\n",
      "['brown_bread', 'Boston_brown_bread']\n",
      "Synset('bun.n.01')\n",
      "['bun', 'roll']\n",
      "Synset('caraway_seed_bread.n.01')\n",
      "['caraway_seed_bread']\n",
      "Synset('challah.n.01')\n",
      "['challah', 'hallah']\n",
      "Synset('cinnamon_bread.n.01')\n",
      "['cinnamon_bread']\n",
      "Synset('cracked-wheat_bread.n.01')\n",
      "['cracked-wheat_bread']\n",
      "Synset('cracker.n.01')\n",
      "['cracker']\n",
      "Synset('crouton.n.01')\n",
      "['crouton']\n",
      "Synset('dark_bread.n.01')\n",
      "['dark_bread', 'whole_wheat_bread', 'whole_meal_bread', 'brown_bread']\n",
      "Synset('english_muffin.n.01')\n",
      "['English_muffin']\n",
      "Synset('flatbread.n.01')\n",
      "['flatbread']\n",
      "Synset('garlic_bread.n.01')\n",
      "['garlic_bread']\n",
      "Synset('gluten_bread.n.01')\n",
      "['gluten_bread']\n",
      "Synset('host.n.09')\n",
      "['Host']\n",
      "Synset('loaf_of_bread.n.01')\n",
      "['loaf_of_bread', 'loaf']\n",
      "Synset('matzo.n.01')\n",
      "['matzo', 'matzoh', 'matzah', 'unleavened_bread']\n",
      "Synset('nan.n.04')\n",
      "['nan', 'naan']\n",
      "Synset('onion_bread.n.01')\n",
      "['onion_bread']\n",
      "Synset('quick_bread.n.01')\n",
      "['quick_bread']\n",
      "Synset('raisin_bread.n.01')\n",
      "['raisin_bread']\n",
      "Synset('rye_bread.n.01')\n",
      "['rye_bread']\n",
      "Synset('salt-rising_bread.n.01')\n",
      "['salt-rising_bread']\n",
      "Synset('simnel.n.01')\n",
      "['simnel']\n",
      "Synset('sour_bread.n.01')\n",
      "['sour_bread', 'sourdough_bread']\n",
      "Synset('toast.n.01')\n",
      "['toast']\n",
      "Synset('wafer.n.03')\n",
      "['wafer']\n",
      "Synset('white_bread.n.01')\n",
      "['white_bread', 'light_bread']\n",
      "Synset('immortal.n.01')\n",
      "['immortal']\n",
      "Synset('lion.n.02')\n",
      "['lion', 'social_lion']\n",
      "Synset('luminary.n.01')\n",
      "['luminary', 'leading_light', 'guiding_light', 'notable', 'notability']\n",
      "Synset('personality.n.02')\n",
      "['personality']\n",
      "Synset('toast.n.02')\n",
      "['toast']\n",
      "Synset('goner.n.01')\n",
      "['goner', 'toast']\n",
      "Synset('chaser.n.02')\n",
      "['chaser']\n",
      "Synset('draft.n.04')\n",
      "['draft', 'draught', 'potation', 'tipple']\n",
      "Synset('eye_opener.n.01')\n",
      "['eye_opener']\n",
      "Synset('frappe.n.01')\n",
      "['frappe']\n",
      "Synset('hair_of_the_dog.n.01')\n",
      "['hair_of_the_dog']\n",
      "Synset('ice-cream_soda.n.01')\n",
      "['ice-cream_soda', 'ice-cream_float', 'float']\n",
      "Synset('libation.n.01')\n",
      "['libation']\n",
      "Synset('milkshake.n.01')\n",
      "['milkshake', 'milk_shake', 'shake']\n",
      "Synset('nightcap.n.01')\n",
      "['nightcap']\n",
      "Synset('pledge.n.03')\n",
      "['pledge', 'toast']\n",
      "Synset('posset.n.01')\n",
      "['posset']\n",
      "Synset('sangaree.n.01')\n",
      "['sangaree', 'sangria']\n",
      "Synset('shandygaff.n.01')\n",
      "['shandygaff', 'shandy']\n",
      "Synset('stirrup_cup.n.01')\n",
      "['stirrup_cup']\n",
      "Synset('sundowner.n.02')\n",
      "['sundowner']\n",
      "Synset('syllabub.n.01')\n",
      "['syllabub', 'sillabub']\n",
      "Synset('whiskey_neat.n.01')\n",
      "['whiskey_neat', 'whisky_neat']\n",
      "Synset('whiskey_on_the_rocks.n.01')\n",
      "['whiskey_on_the_rocks', 'whisky_on_the_rocks']\n"
     ]
    }
   ],
   "source": [
    "for syn in wordnet.synsets(test_word):\n",
    "    if syn.pos() != 'n':\n",
    "        continue\n",
    "    for hyper in syn.hypernyms():\n",
    "        for hypo in hyper.hyponyms():\n",
    "            print(hypo.lemma_names())"
   ]
  },
  {
   "cell_type": "code",
   "execution_count": 254,
   "metadata": {
    "run_control": {
     "frozen": false,
     "read_only": false
    }
   },
   "outputs": [],
   "source": [
    "test_word = 'toast'\n",
    "sis_words, ssyns = get_word_sisters(test_word)"
   ]
  },
  {
   "cell_type": "code",
   "execution_count": 207,
   "metadata": {
    "collapsed": true,
    "run_control": {
     "frozen": false,
     "read_only": false
    }
   },
   "outputs": [
    {
     "data": {
      "text/plain": [
       "['allamanda',\n",
       " 'Australian_pea',\n",
       " 'Dipogon_lignosus',\n",
       " 'Dolichos_lignosus',\n",
       " 'Barbados_gooseberry',\n",
       " 'Barbados-gooseberry_vine',\n",
       " 'Pereskia_aculeata',\n",
       " 'bindweed',\n",
       " 'birthwort',\n",
       " 'Aristolochia_clematitis',\n",
       " 'bittersweet',\n",
       " 'American_bittersweet',\n",
       " 'climbing_bittersweet',\n",
       " 'false_bittersweet',\n",
       " 'staff_vine',\n",
       " 'waxwork',\n",
       " 'shrubby_bittersweet',\n",
       " 'Celastrus_scandens',\n",
       " 'black-eyed_Susan',\n",
       " 'black-eyed_Susan_vine',\n",
       " 'Thunbergia_alata',\n",
       " 'black_bryony',\n",
       " 'black_bindweed',\n",
       " 'Tamus_communis',\n",
       " 'blue_pea',\n",
       " 'butterfly_pea',\n",
       " 'Clitoria_turnatea',\n",
       " 'Boston_ivy',\n",
       " 'Japanese_ivy',\n",
       " 'Parthenocissus_tricuspidata',\n",
       " 'bougainvillea',\n",
       " 'bower_actinidia',\n",
       " 'tara_vine',\n",
       " 'Actinidia_arguta',\n",
       " 'bryony',\n",
       " 'briony',\n",
       " 'bullbrier',\n",
       " 'greenbrier',\n",
       " 'catbrier',\n",
       " 'horse_brier',\n",
       " 'horse-brier',\n",
       " 'brier',\n",
       " 'briar',\n",
       " 'Smilax_rotundifolia',\n",
       " 'butterfly_pea',\n",
       " 'Clitoria_mariana',\n",
       " 'butterfly_pea',\n",
       " 'Centrosema_virginianum',\n",
       " 'calabar-bean_vine',\n",
       " 'Physostigma_venenosum',\n",
       " 'Chinese_gooseberry',\n",
       " 'kiwi',\n",
       " 'kiwi_vine',\n",
       " 'Actinidia_chinensis',\n",
       " 'Actinidia_deliciosa',\n",
       " 'clematis',\n",
       " 'climber',\n",
       " 'climbing_corydalis',\n",
       " 'Corydalis_claviculata',\n",
       " 'Fumaria_claviculata',\n",
       " 'climbing_fumitory',\n",
       " 'Allegheny_vine',\n",
       " 'Adlumia_fungosa',\n",
       " 'Fumaria_fungosa',\n",
       " 'climbing_hempweed',\n",
       " 'climbing_boneset',\n",
       " 'wild_climbing_hempweed',\n",
       " 'climbing_hemp-vine',\n",
       " 'Mikania_scandens',\n",
       " \"cock's_eggs\",\n",
       " 'Salpichroa_organifolia',\n",
       " 'Salpichroa_rhomboidea',\n",
       " 'convolvulus',\n",
       " 'coral_pea',\n",
       " 'cross_vine',\n",
       " 'trumpet_flower',\n",
       " 'quartervine',\n",
       " 'quarter-vine',\n",
       " 'Bignonia_capreolata',\n",
       " 'cruel_plant',\n",
       " 'Araujia_sericofera',\n",
       " 'derris_root',\n",
       " 'tuba_root',\n",
       " 'Derris_elliptica',\n",
       " 'dichondra',\n",
       " 'Dichondra_micrantha',\n",
       " 'dodder',\n",
       " \"elephant's-foot\",\n",
       " 'tortoise_plant',\n",
       " 'Hottentot_bread_vine',\n",
       " \"Hottentot's_bread_vine\",\n",
       " 'Dioscorea_elephantipes',\n",
       " 'evergreen_bittersweet',\n",
       " 'Euonymus_fortunei_radicans',\n",
       " 'Euonymus_radicans_vegetus',\n",
       " 'everlasting_pea',\n",
       " 'German_ivy',\n",
       " 'Delairea_odorata',\n",
       " 'Senecio_milkanioides',\n",
       " 'gourd',\n",
       " 'gourd_vine',\n",
       " 'grape',\n",
       " 'grapevine',\n",
       " 'grape_vine',\n",
       " 'ground_ivy',\n",
       " 'alehoof',\n",
       " 'field_balm',\n",
       " 'gill-over-the-ground',\n",
       " 'runaway_robin',\n",
       " 'Glechoma_hederaceae',\n",
       " 'Nepeta_hederaceae',\n",
       " 'groundnut',\n",
       " 'groundnut_vine',\n",
       " 'Indian_potato',\n",
       " 'potato_bean',\n",
       " 'wild_bean',\n",
       " 'Apios_americana',\n",
       " 'Apios_tuberosa',\n",
       " 'heath_pea',\n",
       " 'earth-nut_pea',\n",
       " 'earthnut_pea',\n",
       " 'tuberous_vetch',\n",
       " 'Lathyrus_tuberosus',\n",
       " 'hog_peanut',\n",
       " 'wild_peanut',\n",
       " 'Amphicarpaea_bracteata',\n",
       " 'Amphicarpa_bracteata',\n",
       " 'hop',\n",
       " 'hops',\n",
       " 'hoya',\n",
       " 'hyacinth_bean',\n",
       " 'bonavist',\n",
       " 'Indian_bean',\n",
       " 'Egyptian_bean',\n",
       " 'Lablab_purpureus',\n",
       " 'Dolichos_lablab',\n",
       " 'ivy',\n",
       " 'common_ivy',\n",
       " 'English_ivy',\n",
       " 'Hedera_helix',\n",
       " 'jack_bean',\n",
       " 'wonder_bean',\n",
       " 'giant_stock_bean',\n",
       " 'Canavalia_ensiformis',\n",
       " 'Japanese_bittersweet',\n",
       " 'Japan_bittersweet',\n",
       " 'oriental_bittersweet',\n",
       " 'Celastrus_orbiculatus',\n",
       " 'Celastric_articulatus',\n",
       " 'kudzu',\n",
       " 'kudzu_vine',\n",
       " 'Pueraria_lobata',\n",
       " 'liana',\n",
       " 'luffa',\n",
       " 'dishcloth_gourd',\n",
       " 'sponge_gourd',\n",
       " 'rag_gourd',\n",
       " 'strainer_vine',\n",
       " 'moonseed',\n",
       " 'morning_glory',\n",
       " 'negro_vine',\n",
       " 'Vincetoxicum_hirsutum',\n",
       " 'Vincetoxicum_negrum',\n",
       " 'Nepal_trumpet_flower',\n",
       " 'Easter_lily_vine',\n",
       " 'Beaumontia_grandiflora',\n",
       " 'partridgeberry',\n",
       " 'boxberry',\n",
       " 'twinberry',\n",
       " 'Mitchella_repens',\n",
       " 'passionflower',\n",
       " 'passionflower_vine',\n",
       " 'potato',\n",
       " 'white_potato',\n",
       " 'white_potato_vine',\n",
       " 'Solanum_tuberosum',\n",
       " 'potato_tree',\n",
       " 'Solanum_crispum',\n",
       " 'potato_vine',\n",
       " 'giant_potato_creeper',\n",
       " 'Solanum_wendlandii',\n",
       " 'potato_vine',\n",
       " 'Solanum_jasmoides',\n",
       " 'salsilla',\n",
       " 'Bomarea_salsilla',\n",
       " 'salsilla',\n",
       " 'Bomarea_edulis',\n",
       " 'sarsaparilla',\n",
       " 'semi-climber',\n",
       " 'silk_vine',\n",
       " 'Periploca_graeca',\n",
       " 'silver_lace_vine',\n",
       " 'China_fleece_vine',\n",
       " 'Russian_vine',\n",
       " 'Polygonum_aubertii',\n",
       " 'silvervine',\n",
       " 'silver_vine',\n",
       " 'Actinidia_polygama',\n",
       " 'silverweed',\n",
       " 'smilax',\n",
       " 'Asparagus_asparagoides',\n",
       " 'soapberry_vine',\n",
       " 'soma',\n",
       " 'haoma',\n",
       " 'Sarcostemma_acidum',\n",
       " 'squash',\n",
       " 'squash_vine',\n",
       " 'star_jasmine',\n",
       " 'confederate_jasmine',\n",
       " 'Trachelospermum_jasminoides',\n",
       " 'sweet_pea',\n",
       " 'sweetpea',\n",
       " 'Lathyrus_odoratus',\n",
       " 'sword_bean',\n",
       " 'Canavalia_gladiata',\n",
       " 'true_pepper',\n",
       " 'pepper_vine',\n",
       " 'Uruguay_potato',\n",
       " 'Uruguay_potato_vine',\n",
       " 'Solanum_commersonii',\n",
       " 'vetchling',\n",
       " 'Virginia_creeper',\n",
       " 'American_ivy',\n",
       " 'woodbine',\n",
       " 'Parthenocissus_quinquefolia',\n",
       " 'Western_Australia_coral_pea',\n",
       " 'Hardenbergia_comnptoniana',\n",
       " 'wild_potato',\n",
       " 'Solanum_jamesii',\n",
       " 'wild_yam',\n",
       " 'Dioscorea_paniculata',\n",
       " 'winged_bean',\n",
       " 'winged_pea',\n",
       " 'goa_bean',\n",
       " 'goa_bean_vine',\n",
       " 'Manila_bean',\n",
       " 'Psophocarpus_tetragonolobus',\n",
       " 'wisteria',\n",
       " 'wistaria',\n",
       " 'yam',\n",
       " 'yam_plant',\n",
       " 'yam_bean',\n",
       " 'potato_bean',\n",
       " 'Pachyrhizus_tuberosus',\n",
       " 'yam_bean',\n",
       " 'Pachyrhizus_erosus',\n",
       " 'yellow_jasmine',\n",
       " 'yellow_jessamine',\n",
       " 'Carolina_jasmine',\n",
       " 'evening_trumpet_flower',\n",
       " 'Gelsemium_sempervirens']"
      ]
     },
     "execution_count": 207,
     "metadata": {},
     "output_type": "execute_result"
    }
   ],
   "source": [
    "sis_words"
   ]
  },
  {
   "cell_type": "code",
   "execution_count": 565,
   "metadata": {
    "run_control": {
     "frozen": false,
     "read_only": false
    }
   },
   "outputs": [],
   "source": [
    "tsns = ssyns[0]"
   ]
  },
  {
   "cell_type": "code",
   "execution_count": 640,
   "metadata": {
    "run_control": {
     "frozen": false,
     "read_only": false
    }
   },
   "outputs": [],
   "source": [
    "# for syn in wordnet.synsets(test_word):\n",
    "#     print(syn.definition())"
   ]
  },
  {
   "cell_type": "code",
   "execution_count": null,
   "metadata": {
    "run_control": {
     "frozen": false,
     "read_only": false
    }
   },
   "outputs": [],
   "source": []
  },
  {
   "cell_type": "code",
   "execution_count": null,
   "metadata": {
    "run_control": {
     "frozen": false,
     "read_only": false
    }
   },
   "outputs": [],
   "source": []
  },
  {
   "cell_type": "code",
   "execution_count": null,
   "metadata": {
    "run_control": {
     "frozen": false,
     "read_only": false
    }
   },
   "outputs": [],
   "source": []
  },
  {
   "cell_type": "code",
   "execution_count": null,
   "metadata": {
    "run_control": {
     "frozen": false,
     "read_only": false
    }
   },
   "outputs": [],
   "source": []
  },
  {
   "cell_type": "code",
   "execution_count": null,
   "metadata": {
    "run_control": {
     "frozen": false,
     "read_only": false
    }
   },
   "outputs": [],
   "source": []
  },
  {
   "cell_type": "code",
   "execution_count": null,
   "metadata": {
    "run_control": {
     "frozen": false,
     "read_only": false
    }
   },
   "outputs": [],
   "source": []
  },
  {
   "cell_type": "code",
   "execution_count": null,
   "metadata": {
    "run_control": {
     "frozen": false,
     "read_only": false
    }
   },
   "outputs": [],
   "source": []
  },
  {
   "cell_type": "code",
   "execution_count": null,
   "metadata": {
    "run_control": {
     "frozen": false,
     "read_only": false
    }
   },
   "outputs": [],
   "source": []
  },
  {
   "cell_type": "code",
   "execution_count": null,
   "metadata": {
    "run_control": {
     "frozen": false,
     "read_only": false
    }
   },
   "outputs": [],
   "source": []
  },
  {
   "cell_type": "code",
   "execution_count": null,
   "metadata": {
    "run_control": {
     "frozen": false,
     "read_only": false
    }
   },
   "outputs": [],
   "source": []
  },
  {
   "cell_type": "code",
   "execution_count": null,
   "metadata": {
    "run_control": {
     "frozen": false,
     "read_only": false
    }
   },
   "outputs": [],
   "source": []
  }
 ],
 "metadata": {
  "kernelspec": {
   "display_name": "Python 3",
   "language": "python",
   "name": "python3"
  },
  "language_info": {
   "codemirror_mode": {
    "name": "ipython",
    "version": 3
   },
   "file_extension": ".py",
   "mimetype": "text/x-python",
   "name": "python",
   "nbconvert_exporter": "python",
   "pygments_lexer": "ipython3",
   "version": "3.6.5"
  },
  "notify_time": "30"
 },
 "nbformat": 4,
 "nbformat_minor": 2
}
