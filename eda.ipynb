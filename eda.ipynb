{
 "cells": [
  {
   "cell_type": "markdown",
   "metadata": {
    "heading_collapsed": true
   },
   "source": [
    "# Table of Contents\n",
    "* [1. load](#1.-load)\n",
    "* [2. simple words](#2.-simple-words)\n",
    "* [3. filtering sample](#3.-filtering-sample)\n",
    "* [4. tag sentences](#4.-tag-sentences)\n",
    "* [5. parse npc extraction](#5.-parse-npc-extraction)\n",
    "* [6. clean and spellcheck](#6.-clean-and-spellcheck)\n",
    "* [7. MS coco captions](#7.-MS-coco-captions)\n",
    "\t* [7.1 phrases from captions](#7.1-phrases-from-captions)\n",
    "\t* [7.2 parse exp](#7.2-parse-exp)\n",
    "* [8. german experiments](#8.-german-experiments)\n",
    "* [9. wordnet](#9.-wordnet)\n"
   ]
  },
  {
   "cell_type": "code",
   "execution_count": 307,
   "metadata": {
    "hidden": true,
    "run_control": {
     "frozen": false,
     "read_only": false
    }
   },
   "outputs": [],
   "source": [
    "%%capture\n",
    "from __future__ import division\n",
    "import numpy as np\n",
    "import pandas as pd\n",
    "import scipy.stats as st\n",
    "import itertools\n",
    "import math\n",
    "from collections import Counter, defaultdict\n",
    "%load_ext autoreload\n",
    "%autoreload 2\n",
    "\n",
    "from copy import deepcopy\n",
    "import pickle\n",
    "import os\n",
    "import json\n",
    "from tqdm import tqdm\n",
    "from tqdm import tqdm_notebook\n",
    "\n",
    "from IPython.display import Image\n",
    "import PIL.Image as pil\n",
    "import random\n",
    "import cv2\n",
    "import matplotlib as mpl\n",
    "mpl.use(\"Agg\")\n",
    "import matplotlib.pylab as plt\n",
    "#%matplotlib notebook\n",
    "%matplotlib inline\n",
    "%load_ext base16_mplrc\n",
    "%base16_mplrc light solarized\n",
    "#%base16_mplrc dark solarized\n",
    "plt.rcParams['grid.linewidth'] = 0\n",
    "plt.rcParams['figure.figsize'] = (16.0, 10.0)"
   ]
  },
  {
   "cell_type": "code",
   "execution_count": 308,
   "metadata": {
    "hidden": true
   },
   "outputs": [],
   "source": [
    "from eda import *"
   ]
  },
  {
   "cell_type": "markdown",
   "metadata": {
    "heading_collapsed": true
   },
   "source": [
    "# 1. load"
   ]
  },
  {
   "cell_type": "code",
   "execution_count": 7,
   "metadata": {
    "hidden": true,
    "run_control": {
     "frozen": false,
     "read_only": false
    }
   },
   "outputs": [],
   "source": [
    "icon_list = os.listdir('/Users/schwenk/wrk/pictionary/vision-pictionary/iconary_webgame/public/images/')\n",
    "icon_list = [i[:-4] for i in icon_list]"
   ]
  },
  {
   "cell_type": "code",
   "execution_count": 8,
   "metadata": {
    "hidden": true,
    "run_control": {
     "frozen": false,
     "read_only": false
    }
   },
   "outputs": [],
   "source": [
    "out_data_dir = '/Users/schwenk/wrk/pictionary/phrase_gen/sandbox-anikem/out/'"
   ]
  },
  {
   "cell_type": "code",
   "execution_count": 9,
   "metadata": {
    "hidden": true,
    "run_control": {
     "frozen": false,
     "read_only": false
    },
    "scrolled": true
   },
   "outputs": [],
   "source": [
    "verb_df = pd.read_csv(out_data_dir + 'verbs.txt', header=None, names=['verb'])\n",
    "situations_df = pd.read_csv(out_data_dir + 'full_situations.txt', header=None, names=['situation'])\n",
    "\n",
    "situations_df['len'] = situations_df['situation'].apply(lambda x: len(x.split()))\n",
    "verb_df['len'] = verb_df['verb'].apply(lambda x: len(x))"
   ]
  },
  {
   "cell_type": "code",
   "execution_count": 10,
   "metadata": {
    "hidden": true,
    "run_control": {
     "frozen": false,
     "read_only": false
    }
   },
   "outputs": [
    {
     "data": {
      "text/html": [
       "<div>\n",
       "<style scoped>\n",
       "    .dataframe tbody tr th:only-of-type {\n",
       "        vertical-align: middle;\n",
       "    }\n",
       "\n",
       "    .dataframe tbody tr th {\n",
       "        vertical-align: top;\n",
       "    }\n",
       "\n",
       "    .dataframe thead th {\n",
       "        text-align: right;\n",
       "    }\n",
       "</style>\n",
       "<table border=\"1\" class=\"dataframe\">\n",
       "  <thead>\n",
       "    <tr style=\"text-align: right;\">\n",
       "      <th></th>\n",
       "      <th>situation</th>\n",
       "      <th>len</th>\n",
       "    </tr>\n",
       "  </thead>\n",
       "  <tbody>\n",
       "    <tr>\n",
       "      <th>0</th>\n",
       "      <td>the person loads a cartridge holder</td>\n",
       "      <td>6</td>\n",
       "    </tr>\n",
       "  </tbody>\n",
       "</table>\n",
       "</div>"
      ],
      "text/plain": [
       "                             situation  len\n",
       "0  the person loads a cartridge holder    6"
      ]
     },
     "execution_count": 10,
     "metadata": {},
     "output_type": "execute_result"
    }
   ],
   "source": [
    "situations_df.head(1)"
   ]
  },
  {
   "cell_type": "code",
   "execution_count": 12,
   "metadata": {
    "hidden": true,
    "run_control": {
     "frozen": false,
     "read_only": false
    }
   },
   "outputs": [],
   "source": [
    "common_verbs = verb_df[verb_df['verb'].apply(lambda x: least_common_word(x))]"
   ]
  },
  {
   "cell_type": "code",
   "execution_count": 309,
   "metadata": {
    "hidden": true,
    "run_control": {
     "frozen": false,
     "read_only": false
    },
    "scrolled": true
   },
   "outputs": [
    {
     "data": {
      "text/html": [
       "<div>\n",
       "<style scoped>\n",
       "    .dataframe tbody tr th:only-of-type {\n",
       "        vertical-align: middle;\n",
       "    }\n",
       "\n",
       "    .dataframe tbody tr th {\n",
       "        vertical-align: top;\n",
       "    }\n",
       "\n",
       "    .dataframe thead th {\n",
       "        text-align: right;\n",
       "    }\n",
       "</style>\n",
       "<table border=\"1\" class=\"dataframe\">\n",
       "  <thead>\n",
       "    <tr style=\"text-align: right;\">\n",
       "      <th></th>\n",
       "      <th>verb</th>\n",
       "      <th>len</th>\n",
       "    </tr>\n",
       "  </thead>\n",
       "  <tbody>\n",
       "    <tr>\n",
       "      <th>5</th>\n",
       "      <td>applying</td>\n",
       "      <td>8</td>\n",
       "    </tr>\n",
       "  </tbody>\n",
       "</table>\n",
       "</div>"
      ],
      "text/plain": [
       "       verb  len\n",
       "5  applying    8"
      ]
     },
     "execution_count": 309,
     "metadata": {},
     "output_type": "execute_result"
    }
   ],
   "source": [
    "common_verbs.head(1)"
   ]
  },
  {
   "cell_type": "code",
   "execution_count": 88,
   "metadata": {
    "hidden": true,
    "run_control": {
     "frozen": false,
     "read_only": false
    }
   },
   "outputs": [],
   "source": [
    "# _ = situations_df['len'].hist(bins=12)\n",
    "# verb_df.sort_values('len')\n",
    "# ing_verbs = verb_df[verb_df['verb'].str.contains('ing')]"
   ]
  },
  {
   "cell_type": "markdown",
   "metadata": {
    "hidden": true
   },
   "source": [
    "not abstract, easy"
   ]
  },
  {
   "cell_type": "markdown",
   "metadata": {
    "heading_collapsed": true
   },
   "source": [
    "# 2. simple words"
   ]
  },
  {
   "cell_type": "code",
   "execution_count": 15,
   "metadata": {
    "hidden": true,
    "run_control": {
     "frozen": false,
     "read_only": false
    }
   },
   "outputs": [],
   "source": [
    "word_data_dir = '/Users/schwenk/wrk/pictionary/BasicEnglishTranslator/data/'"
   ]
  },
  {
   "cell_type": "code",
   "execution_count": 16,
   "metadata": {
    "hidden": true,
    "run_control": {
     "frozen": false,
     "read_only": false
    }
   },
   "outputs": [],
   "source": [
    "with open('./data/basic_words.csv') as f:\n",
    "    read_article = f.read()\n",
    "\n",
    "with open(word_data_dir + 'basic_english.pickle', 'rb') as f:\n",
    "    all_words = pickle.load(f) "
   ]
  },
  {
   "cell_type": "code",
   "execution_count": 310,
   "metadata": {
    "hidden": true,
    "run_control": {
     "frozen": false,
     "read_only": false
    }
   },
   "outputs": [
    {
     "data": {
      "text/html": [
       "<div>\n",
       "<style scoped>\n",
       "    .dataframe tbody tr th:only-of-type {\n",
       "        vertical-align: middle;\n",
       "    }\n",
       "\n",
       "    .dataframe tbody tr th {\n",
       "        vertical-align: top;\n",
       "    }\n",
       "\n",
       "    .dataframe thead th {\n",
       "        text-align: right;\n",
       "    }\n",
       "</style>\n",
       "<table border=\"1\" class=\"dataframe\">\n",
       "  <thead>\n",
       "    <tr style=\"text-align: right;\">\n",
       "      <th></th>\n",
       "      <th>WORD</th>\n",
       "    </tr>\n",
       "  </thead>\n",
       "  <tbody>\n",
       "    <tr>\n",
       "      <th>0</th>\n",
       "      <td>a</td>\n",
       "    </tr>\n",
       "  </tbody>\n",
       "</table>\n",
       "</div>"
      ],
      "text/plain": [
       "  WORD\n",
       "0    a"
      ]
     },
     "execution_count": 310,
     "metadata": {},
     "output_type": "execute_result"
    }
   ],
   "source": [
    "simple_words = pd.read_csv(word_data_dir + 'basic_english_words.csv')\n",
    "simple_words.head(1)"
   ]
  },
  {
   "cell_type": "markdown",
   "metadata": {
    "heading_collapsed": true
   },
   "source": [
    "# 3. filtering sample"
   ]
  },
  {
   "cell_type": "code",
   "execution_count": 174,
   "metadata": {
    "hidden": true,
    "run_control": {
     "frozen": false,
     "read_only": false
    }
   },
   "outputs": [],
   "source": [
    "description_corpus = ' '.join(situations_df['situation'])\n",
    "\n",
    "tokenized_corpus = word_tokenize(description_corpus)\n",
    "\n",
    "normalized_tokens = []\n",
    "for toke in tokenized_corpus:\n",
    "    clean_toke = toke.strip().lower()\n",
    "    if clean_toke not in cached_sw and clean_toke:\n",
    "        normalized_tokens.append(clean_toke)"
   ]
  },
  {
   "cell_type": "code",
   "execution_count": 23,
   "metadata": {
    "hidden": true,
    "run_control": {
     "frozen": false,
     "read_only": false
    }
   },
   "outputs": [],
   "source": [
    "word_counts = Counter(normalized_tokens)\n",
    "most_common = word_counts.most_common(200)"
   ]
  },
  {
   "cell_type": "code",
   "execution_count": 24,
   "metadata": {
    "hidden": true,
    "run_control": {
     "frozen": false,
     "read_only": false
    }
   },
   "outputs": [],
   "source": [
    "filtered_words = [w for w, count in word_counts.items() if count == 1]"
   ]
  },
  {
   "cell_type": "code",
   "execution_count": 95,
   "metadata": {
    "hidden": true,
    "run_control": {
     "frozen": false,
     "read_only": false
    }
   },
   "outputs": [],
   "source": [
    "sentences = list(set(situations_df['situation'].tolist()))"
   ]
  },
  {
   "cell_type": "code",
   "execution_count": 33,
   "metadata": {
    "hidden": true,
    "run_control": {
     "frozen": false,
     "read_only": false
    }
   },
   "outputs": [],
   "source": [
    "# sent_gram_errors, passed_sents = grammar_check_phrases(tqdm(sentences))"
   ]
  },
  {
   "cell_type": "code",
   "execution_count": 165,
   "metadata": {
    "hidden": true,
    "run_control": {
     "frozen": false,
     "read_only": false
    }
   },
   "outputs": [
    {
     "data": {
      "text/plain": [
       "0.9645086556406461"
      ]
     },
     "execution_count": 165,
     "metadata": {},
     "output_type": "execute_result"
    }
   ],
   "source": [
    "len(passed_sents) / len(sentences)"
   ]
  },
  {
   "cell_type": "code",
   "execution_count": 164,
   "metadata": {
    "hidden": true,
    "run_control": {
     "frozen": false,
     "read_only": false
    }
   },
   "outputs": [
    {
     "data": {
      "text/plain": [
       "59950"
      ]
     },
     "execution_count": 164,
     "metadata": {},
     "output_type": "execute_result"
    }
   ],
   "source": [
    "len(passed_sents)"
   ]
  },
  {
   "cell_type": "markdown",
   "metadata": {
    "heading_collapsed": true
   },
   "source": [
    "# 4. tag sentences"
   ]
  },
  {
   "cell_type": "code",
   "execution_count": 52,
   "metadata": {
    "hidden": true,
    "run_control": {
     "frozen": false,
     "read_only": false
    }
   },
   "outputs": [],
   "source": [
    "with open('./data/unique_parsed_sents.pkl', 'rb') as f:\n",
    "    unique_parsed_sents = pickle.load(f)"
   ]
  },
  {
   "cell_type": "code",
   "execution_count": 216,
   "metadata": {
    "hidden": true,
    "run_control": {
     "frozen": false,
     "read_only": false
    }
   },
   "outputs": [],
   "source": [
    "simple_sentences = [sent for sent in unique_parsed_sents if least_common_word(sent, 3.7)]"
   ]
  },
  {
   "cell_type": "code",
   "execution_count": 417,
   "metadata": {
    "hidden": true,
    "run_control": {
     "frozen": false,
     "read_only": false
    }
   },
   "outputs": [],
   "source": [
    "word_blacklist = set(['uses', 'using', 'people', 'helped', 'measures', 'records', 'data', 'works', 'teach', 'body', 'with', 'training', 'waste', 'plastic', 'gravity', 'commission', 'space'] + colors)"
   ]
  },
  {
   "cell_type": "code",
   "execution_count": 424,
   "metadata": {
    "hidden": true,
    "run_control": {
     "frozen": false,
     "read_only": false
    }
   },
   "outputs": [],
   "source": [
    "blacklist_removed = [s for s in simple_sentences if not set([w.lower() for w in s.split()]).intersection(word_blacklist)]"
   ]
  },
  {
   "cell_type": "code",
   "execution_count": 223,
   "metadata": {
    "hidden": true,
    "run_control": {
     "frozen": false,
     "read_only": false
    }
   },
   "outputs": [
    {
     "data": {
      "text/plain": [
       "14487"
      ]
     },
     "execution_count": 223,
     "metadata": {},
     "output_type": "execute_result"
    }
   ],
   "source": [
    "len(blacklist_removed)"
   ]
  },
  {
   "cell_type": "code",
   "execution_count": 183,
   "metadata": {
    "hidden": true,
    "run_control": {
     "frozen": false,
     "read_only": false
    }
   },
   "outputs": [],
   "source": [
    "freq_filt_words = [t for t in normalized_tokens if filter_on_freq(t, 4.7, 3)]"
   ]
  },
  {
   "cell_type": "code",
   "execution_count": 428,
   "metadata": {
    "hidden": true,
    "run_control": {
     "frozen": false,
     "read_only": false
    }
   },
   "outputs": [],
   "source": [
    "chosen_sample = blacklist_removed\n",
    "tagged_sentences = [get_pos_tags(s) for s in chosen_sample]"
   ]
  },
  {
   "cell_type": "code",
   "execution_count": 430,
   "metadata": {
    "hidden": true,
    "run_control": {
     "frozen": false,
     "read_only": false
    }
   },
   "outputs": [],
   "source": [
    "vocab_complete = list(set(normalized_tokens))\n",
    "vocab = list(set([w[0].lower() for s in tagged_sentences for w in s if w[1] in ['NN', 'NNS', 'NNP', 'NNPS']]))"
   ]
  },
  {
   "cell_type": "code",
   "execution_count": 431,
   "metadata": {
    "hidden": true,
    "run_control": {
     "frozen": false,
     "read_only": false
    }
   },
   "outputs": [],
   "source": [
    "voc_ser = pd.Series(vocab)\n",
    "voc_ser.to_csv('cleaned_sentences_nouns_harder.txt', index=False, header=None)"
   ]
  },
  {
   "cell_type": "code",
   "execution_count": null,
   "metadata": {
    "hidden": true,
    "run_control": {
     "frozen": false,
     "read_only": false
    }
   },
   "outputs": [],
   "source": []
  },
  {
   "cell_type": "markdown",
   "metadata": {
    "heading_collapsed": true
   },
   "source": [
    "# 5. parse npc extraction"
   ]
  },
  {
   "cell_type": "code",
   "execution_count": 24,
   "metadata": {
    "hidden": true,
    "run_control": {
     "frozen": false,
     "read_only": false
    }
   },
   "outputs": [],
   "source": [
    "s1 = constituent_parse[1]\n",
    "TreeView(s1)._cframe.print_to_file('s2.ps')"
   ]
  },
  {
   "cell_type": "code",
   "execution_count": 2231,
   "metadata": {
    "hidden": true,
    "run_control": {
     "frozen": false,
     "read_only": false
    }
   },
   "outputs": [
    {
     "name": "stdout",
     "output_type": "stream",
     "text": [
      "The red-haired businessman\n",
      "accountant\n",
      "the phone\n",
      "his office\n"
     ]
    }
   ],
   "source": [
    "grammar = r\"\"\"\n",
    "  NP: {<DT|PP\\$>?<JJ>*<NN>}   # chunk determiner/possessive, adjectives and noun\n",
    "  {<NNP>+}                # chunk sequences of proper nouns\n",
    "  {<NN>+}                 # chunk consecutive nouns\n",
    "  \"\"\"\n",
    "\n",
    "\n",
    "\n",
    "\n",
    "cp = nltk.RegexpParser(grammar)\n",
    "parsed_sent = cp.parse(sent_parses[0])\n",
    "for npstr in extract_np(parsed_sent):\n",
    "    print (npstr)"
   ]
  },
  {
   "cell_type": "code",
   "execution_count": 100,
   "metadata": {
    "code_folding": [],
    "hidden": true,
    "run_control": {
     "frozen": false,
     "read_only": false
    }
   },
   "outputs": [],
   "source": [
    "def extract_np(psent):\n",
    "    for subtree in psent.subtrees():\n",
    "        if subtree.label() == 'NP':\n",
    "            subprod = subtree.productions()[0].unicode_repr()\n",
    "            if 'NN' in subprod or 'NNP' in subprod:\n",
    "                yield ' '.join(word for word in subtree.leaves())\n",
    "\n",
    "\n",
    "def compute_token_spans(const_parse_sent, txt):\n",
    "    tokens = const_parse_sent.leaves()\n",
    "    offset = 0\n",
    "    for token in tokens:\n",
    "        offset = txt.find(token, offset)\n",
    "        yield token, offset, offset+len(token)\n",
    "        offset += len(token)\n",
    "\n",
    "        \n",
    "def assign_word_spans(noun_phrases_w_spans, doc, token_spans):\n",
    "    chunk_spans = []\n",
    "    for np in noun_phrases_w_spans:\n",
    "        char_span = [(m.start(), m.end()) for m in re.finditer(np, doc)][0]\n",
    "        start, end = char_span\n",
    "        start_w, end_w = None, None\n",
    "        for w_idx, token_span in enumerate(token_spans):\n",
    "            token, ts, te = token_span\n",
    "            if ts == start:\n",
    "                start_w = w_idx\n",
    "            if te == end:\n",
    "                end_w = w_idx + 1\n",
    "        if type(start_w) == int and type(end_w) == int:\n",
    "            chunk_spans.append([start_w, end_w])\n",
    "        else:\n",
    "            print('failed')\n",
    "    return chunk_spans\n",
    "\n",
    "\n",
    "def np_chunker(doc, parsed_sents):\n",
    "    noun_phrases = [list(extract_np(sent)) for sent in parsed_sents]\n",
    "#     noun_phrase_spans = [list(extract_np_spans(doc, sent)) for sent in noun_phrases]\n",
    "    token_spans = [list(compute_token_spans(sent, doc)) for sent in parsed_sents]\n",
    "    noun_phrase_spans = [assign_word_spans(noun_phrases[n], doc, token_spans[n]) for n in range(len(parsed_sents))]\n",
    "    return {'chunks': noun_phrase_spans, 'named_chunks': noun_phrases}"
   ]
  },
  {
   "cell_type": "markdown",
   "metadata": {},
   "source": [
    "# 6. clean and spellcheck"
   ]
  },
  {
   "cell_type": "markdown",
   "metadata": {},
   "source": [
    "# 7. MS coco captions"
   ]
  },
  {
   "cell_type": "markdown",
   "metadata": {
    "heading_collapsed": true
   },
   "source": [
    "## 7.1 phrases from captions"
   ]
  },
  {
   "cell_type": "code",
   "execution_count": 20,
   "metadata": {
    "hidden": true,
    "run_control": {
     "frozen": false,
     "read_only": false
    }
   },
   "outputs": [],
   "source": [
    "with open('/Users/schwenk/wrk/pictionary/coco/annotations/captions_train2014.json') as f:\n",
    "    coco_captions = json.load(f)"
   ]
  },
  {
   "cell_type": "code",
   "execution_count": 21,
   "metadata": {
    "hidden": true,
    "run_control": {
     "frozen": false,
     "read_only": false
    }
   },
   "outputs": [],
   "source": [
    "caption_sentences = [c['caption'] for c in coco_captions['annotations']]"
   ]
  },
  {
   "cell_type": "code",
   "execution_count": 22,
   "metadata": {
    "hidden": true,
    "run_control": {
     "frozen": false,
     "read_only": false
    }
   },
   "outputs": [
    {
     "data": {
      "text/plain": [
       "414113"
      ]
     },
     "execution_count": 22,
     "metadata": {},
     "output_type": "execute_result"
    }
   ],
   "source": [
    "len(caption_sentences)"
   ]
  },
  {
   "cell_type": "code",
   "execution_count": 23,
   "metadata": {
    "hidden": true,
    "run_control": {
     "frozen": false,
     "read_only": false
    }
   },
   "outputs": [],
   "source": [
    "caption_corpus = [w for s in tqdm(caption_sentences) for w in word_tokenize(s)]\n",
    "# tokenized_corpus = word_tokenize(caption_corpus)"
   ]
  },
  {
   "cell_type": "code",
   "execution_count": 312,
   "metadata": {
    "hidden": true,
    "run_control": {
     "frozen": false,
     "read_only": false
    }
   },
   "outputs": [
    {
     "data": {
      "text/plain": [
       "[('man', 51530),\n",
       " ('sitting', 36823),\n",
       " ('two', 34093),\n",
       " ('standing', 30060),\n",
       " ('people', 29662),\n",
       " ('next', 25916),\n",
       " ('white', 25383),\n",
       " ('woman', 24220),\n",
       " ('table', 21318),\n",
       " ('street', 21190)]"
      ]
     },
     "execution_count": 312,
     "metadata": {},
     "output_type": "execute_result"
    }
   ],
   "source": [
    "caption_token_set = list(set(caption_corpus))\n",
    "\n",
    "normalized_tokens = []\n",
    "for toke in tqdm(caption_corpus):\n",
    "    clean_toke = toke.strip().lower()\n",
    "    if clean_toke not in cached_sw and clean_toke:\n",
    "        normalized_tokens.append(clean_toke)\n",
    "\n",
    "token_counts = Counter(normalized_tokens)\n",
    "\n",
    "token_counts.most_common(10)"
   ]
  },
  {
   "cell_type": "code",
   "execution_count": 28,
   "metadata": {
    "hidden": true,
    "run_control": {
     "frozen": false,
     "read_only": false
    },
    "scrolled": true
   },
   "outputs": [
    {
     "data": {
      "text/plain": [
       "2397308"
      ]
     },
     "execution_count": 28,
     "metadata": {},
     "output_type": "execute_result"
    }
   ],
   "source": [
    "len(normalized_tokens)"
   ]
  },
  {
   "cell_type": "code",
   "execution_count": 302,
   "metadata": {
    "hidden": true,
    "run_control": {
     "frozen": false,
     "read_only": false
    }
   },
   "outputs": [
    {
     "data": {
      "text/plain": [
       "'Three unopened wine bottles are next to wine glasses.'"
      ]
     },
     "execution_count": 302,
     "metadata": {},
     "output_type": "execute_result"
    }
   ],
   "source": [
    "random.choice(caption_sentences)"
   ]
  },
  {
   "cell_type": "code",
   "execution_count": 30,
   "metadata": {
    "hidden": true,
    "run_control": {
     "frozen": false,
     "read_only": false
    }
   },
   "outputs": [],
   "source": [
    "cap_df = pd.DataFrame(caption_sentences)\n",
    "cap_df.columns = ['cap']"
   ]
  },
  {
   "cell_type": "code",
   "execution_count": 31,
   "metadata": {
    "hidden": true,
    "run_control": {
     "frozen": false,
     "read_only": false
    }
   },
   "outputs": [],
   "source": [
    "cap_df['len'] = cap_df['cap'].str.len()"
   ]
  },
  {
   "cell_type": "code",
   "execution_count": 32,
   "metadata": {
    "hidden": true,
    "run_control": {
     "frozen": false,
     "read_only": false
    }
   },
   "outputs": [],
   "source": [
    "# _ = cap_df['len'].hist(bins=30)"
   ]
  },
  {
   "cell_type": "code",
   "execution_count": 33,
   "metadata": {
    "hidden": true,
    "run_control": {
     "frozen": false,
     "read_only": false
    }
   },
   "outputs": [],
   "source": [
    "cap_len_thresh = 30\n",
    "short_caps = cap_df[cap_df['len'] < 35]"
   ]
  },
  {
   "cell_type": "code",
   "execution_count": 34,
   "metadata": {
    "hidden": true,
    "run_control": {
     "frozen": false,
     "read_only": false
    }
   },
   "outputs": [],
   "source": [
    "short_cap_l = short_caps['cap'].tolist()"
   ]
  },
  {
   "cell_type": "code",
   "execution_count": 35,
   "metadata": {
    "hidden": true,
    "run_control": {
     "frozen": false,
     "read_only": false
    }
   },
   "outputs": [
    {
     "data": {
      "text/plain": [
       "6051"
      ]
     },
     "execution_count": 35,
     "metadata": {},
     "output_type": "execute_result"
    }
   ],
   "source": [
    "len(short_cap_l)"
   ]
  },
  {
   "cell_type": "code",
   "execution_count": 55,
   "metadata": {
    "hidden": true,
    "run_control": {
     "frozen": false,
     "read_only": false
    }
   },
   "outputs": [],
   "source": [
    "common_short = [c for c in tqdm(short_cap_l) if least_common_word(c, 3.5)]"
   ]
  },
  {
   "cell_type": "code",
   "execution_count": 58,
   "metadata": {
    "hidden": true,
    "run_control": {
     "frozen": false,
     "read_only": false
    }
   },
   "outputs": [],
   "source": [
    "blacklist_removed = [s for s in common_short if not set([w.lower() for w in s.split()]).intersection(color_set)]"
   ]
  },
  {
   "cell_type": "code",
   "execution_count": 59,
   "metadata": {
    "hidden": true,
    "run_control": {
     "frozen": false,
     "read_only": false
    }
   },
   "outputs": [
    {
     "data": {
      "text/plain": [
       "4266"
      ]
     },
     "execution_count": 59,
     "metadata": {},
     "output_type": "execute_result"
    }
   ],
   "source": [
    "len(blacklist_removed)"
   ]
  },
  {
   "cell_type": "code",
   "execution_count": 60,
   "metadata": {
    "hidden": true,
    "run_control": {
     "frozen": false,
     "read_only": false
    }
   },
   "outputs": [],
   "source": [
    "# voc_ser = pd.Series(blacklist_removed)\n",
    "# voc_ser.to_csv('simple_coco_captions.txt', index=False, header=None)"
   ]
  },
  {
   "cell_type": "code",
   "execution_count": 66,
   "metadata": {
    "hidden": true,
    "run_control": {
     "frozen": false,
     "read_only": false
    }
   },
   "outputs": [],
   "source": [
    "sent_gram_errors, passed_sents = grammar_check_phrases(tqdm(blacklist_removed))\n",
    "passed_sents = [ps for ps in passed_sents if not spellcheck_phrase(ps)]"
   ]
  },
  {
   "cell_type": "code",
   "execution_count": 67,
   "metadata": {
    "hidden": true,
    "run_control": {
     "frozen": false,
     "read_only": false
    }
   },
   "outputs": [],
   "source": [
    "normed_sents = list(set([normalize_sent(s) for s in passed_sents if 'image' not in s]))"
   ]
  },
  {
   "cell_type": "code",
   "execution_count": 68,
   "metadata": {
    "hidden": true,
    "run_control": {
     "frozen": false,
     "read_only": false
    }
   },
   "outputs": [],
   "source": [
    "tagged_sentences = [get_pos_tags(s) for s in tqdm(normed_sents)]"
   ]
  },
  {
   "cell_type": "code",
   "execution_count": 316,
   "metadata": {
    "hidden": true,
    "run_control": {
     "frozen": false,
     "read_only": false
    }
   },
   "outputs": [],
   "source": [
    "sents_w_verbs = [ts[:-1] for ts in tagged_sentences if set([t[1] for t in ts]).intersection(verb_tags)]"
   ]
  },
  {
   "cell_type": "code",
   "execution_count": 318,
   "metadata": {
    "hidden": true
   },
   "outputs": [],
   "source": [
    "output_sentences(sents_w_verbs)"
   ]
  },
  {
   "cell_type": "code",
   "execution_count": 74,
   "metadata": {
    "hidden": true,
    "run_control": {
     "frozen": false,
     "read_only": false
    }
   },
   "outputs": [],
   "source": [
    "verbs = []\n",
    "for s in sents_w_verbs:\n",
    "    for w, tag in s:\n",
    "        if tag in verb_tags:\n",
    "            verbs.append(w)\n",
    "verb_ser = pd.Series(verbs)"
   ]
  },
  {
   "cell_type": "code",
   "execution_count": 75,
   "metadata": {
    "hidden": true,
    "run_control": {
     "frozen": false,
     "read_only": false
    },
    "scrolled": false
   },
   "outputs": [
    {
     "data": {
      "text/plain": [
       "[('is', 844),\n",
       " ('sitting', 171),\n",
       " ('laying', 145),\n",
       " ('has', 144),\n",
       " ('sits', 104),\n",
       " ('flying', 102),\n",
       " ('are', 100),\n",
       " ('holding', 54),\n",
       " ('eating', 50),\n",
       " ('parked', 42)]"
      ]
     },
     "execution_count": 75,
     "metadata": {},
     "output_type": "execute_result"
    }
   ],
   "source": [
    "Counter(verbs).most_common(10)"
   ]
  },
  {
   "cell_type": "code",
   "execution_count": 77,
   "metadata": {
    "hidden": true
   },
   "outputs": [],
   "source": [
    "normalized_tokens = []\n",
    "for s in tqdm(sents_w_verbs):\n",
    "    for w in s:\n",
    "        normalized_tokens.append(w[0])"
   ]
  },
  {
   "cell_type": "code",
   "execution_count": 78,
   "metadata": {
    "hidden": true,
    "run_control": {
     "frozen": false,
     "read_only": false
    }
   },
   "outputs": [],
   "source": [
    "wcounts = Counter(normalized_tokens)"
   ]
  },
  {
   "cell_type": "code",
   "execution_count": 79,
   "metadata": {
    "hidden": true
   },
   "outputs": [],
   "source": [
    "common = wcounts.most_common(40)"
   ]
  },
  {
   "cell_type": "code",
   "execution_count": 104,
   "metadata": {
    "code_folding": [
     0,
     10
    ],
    "hidden": true
   },
   "outputs": [],
   "source": [
    "free_words_less = ['a',\n",
    " 'is',\n",
    " 'of',\n",
    " 'the',\n",
    " 'and',\n",
    " 'it',\n",
    " 'are',\n",
    "#  'that',\n",
    " 'an']\n",
    "\n",
    "free_words = ['a',\n",
    " 'on',\n",
    " 'is',\n",
    " 'in',\n",
    " 'of',\n",
    " 'the',\n",
    " 'to',\n",
    " 'has',\n",
    " 'at',\n",
    " 'that',\n",
    " 'and',\n",
    " 'it',\n",
    " 'are',\n",
    " 'up',\n",
    " 'with',\n",
    " 'next',\n",
    " 'an',]"
   ]
  },
  {
   "cell_type": "markdown",
   "metadata": {},
   "source": [
    "## 7.2 parse exp"
   ]
  },
  {
   "cell_type": "code",
   "execution_count": 305,
   "metadata": {},
   "outputs": [],
   "source": [
    "reformed_sents = [' '.join(w[0] for w in sent) for sent in sents_w_verbs]"
   ]
  },
  {
   "cell_type": "code",
   "execution_count": 319,
   "metadata": {},
   "outputs": [
    {
     "name": "stdout",
     "output_type": "stream",
     "text": [
      "a boat is in the middle of a lake\n"
     ]
    },
    {
     "data": {
      "image/png": "[encoded data removed]",
      "text/plain": [
       "Tree('ROOT', [Tree('S', [Tree('NP', [Tree('DT', ['a']), Tree('NN', ['boat'])]), Tree('VP', [Tree('VBZ', ['is']), Tree('PP', [Tree('IN', ['in']), Tree('NP', [Tree('NP', [Tree('DT', ['the']), Tree('NN', ['middle'])]), Tree('PP', [Tree('IN', ['of']), Tree('NP', [Tree('DT', ['a']), Tree('NN', ['lake'])])])])])])])])"
      ]
     },
     "execution_count": 319,
     "metadata": {},
     "output_type": "execute_result"
    }
   ],
   "source": [
    "sent = random.choice(reformed_sents)\n",
    "# sent = ''\n",
    "print(sent)\n",
    "constituent_parse  = [list(i)[0] for i in core_parser.raw_parse_sents([sent])][0]\n",
    "\n",
    "constituent_parse"
   ]
  },
  {
   "cell_type": "markdown",
   "metadata": {},
   "source": [
    "_interesting examples_:\n",
    "\n",
    "a man is in a tie and suit\n",
    "\n",
    "a cat lying on top of a keyboard\n",
    "\n",
    "a truck is parked in a lot\n",
    "\n",
    "the door to a toilet room is open\n",
    "\n",
    "roses laid on the sheets of a bed\n",
    "\n",
    "a group of men hang out together\n",
    "\n",
    "a man flies his kite at a park\n",
    "\n",
    "a man sits on a bench by himself\n",
    "\n",
    "a sheep eyes a dog through a fence\n",
    "\n",
    "a man playing tennis on a hot day\n",
    "\n",
    "the man is at the table drinking\n",
    "\n",
    "some items sit next to the door\n",
    "\n"
   ]
  },
  {
   "cell_type": "code",
   "execution_count": 278,
   "metadata": {},
   "outputs": [],
   "source": []
  },
  {
   "cell_type": "code",
   "execution_count": 283,
   "metadata": {},
   "outputs": [
    {
     "data": {
      "text/plain": [
       "['an airplane is flying in the sky',\n",
       " 'a plane is flying in the sky',\n",
       " 'a plane flying high on a clear sky',\n",
       " 'a plane flying in the sky',\n",
       " 'a plane is flying up in the sky',\n",
       " 'the plane is flying up in the sky',\n",
       " 'a small plane is flying in the sky',\n",
       " 'a large plane is flying in the sky',\n",
       " 'a plane is smoking in the sky',\n",
       " 'a plane flying high up in the sky',\n",
       " 'a plane flying by on a cloudy sky',\n",
       " 'a plane is upside down in the sky']"
      ]
     },
     "execution_count": 283,
     "metadata": {},
     "output_type": "execute_result"
    }
   ],
   "source": [
    "[s for s in reformed_sents if 'sky' in s and 'plane' in s]"
   ]
  },
  {
   "cell_type": "markdown",
   "metadata": {
    "heading_collapsed": true,
    "run_control": {
     "frozen": false,
     "read_only": false
    }
   },
   "source": [
    "# 8. german experiments"
   ]
  },
  {
   "cell_type": "code",
   "execution_count": 468,
   "metadata": {
    "hidden": true,
    "run_control": {
     "frozen": false,
     "read_only": false
    }
   },
   "outputs": [],
   "source": [
    "german_words = pd.read_csv('./german_10k.txt', sep=' ', header=None).T\n",
    "german_words.columns = ['raw_word']\n",
    "\n",
    "german_words = german_words[german_words['raw_word'].str.isalpha().fillna(False)]"
   ]
  },
  {
   "cell_type": "code",
   "execution_count": 472,
   "metadata": {
    "hidden": true,
    "run_control": {
     "frozen": false,
     "read_only": false
    }
   },
   "outputs": [],
   "source": [
    "german_words['len'] = german_words.raw_word.str.len()"
   ]
  },
  {
   "cell_type": "code",
   "execution_count": 475,
   "metadata": {
    "hidden": true,
    "run_control": {
     "frozen": false,
     "read_only": false
    }
   },
   "outputs": [
    {
     "data": {
      "text/plain": [
       "<matplotlib.axes._subplots.AxesSubplot at 0x19cfd0278>"
      ]
     },
     "execution_count": 475,
     "metadata": {},
     "output_type": "execute_result"
    },
    {
     "data": {
      "image/png": "[encoded data removed]",
      "text/plain": [
       "<Figure size 1152x720 with 1 Axes>"
      ]
     },
     "metadata": {},
     "output_type": "display_data"
    }
   ],
   "source": [
    "german_words.len.hist()"
   ]
  },
  {
   "cell_type": "code",
   "execution_count": 478,
   "metadata": {
    "hidden": true,
    "run_control": {
     "frozen": false,
     "read_only": false
    }
   },
   "outputs": [],
   "source": [
    "long_words = german_words[german_words['len'] > 15]"
   ]
  },
  {
   "cell_type": "code",
   "execution_count": 485,
   "metadata": {
    "hidden": true,
    "run_control": {
     "frozen": false,
     "read_only": false
    }
   },
   "outputs": [],
   "source": [
    "from googletrans import Translator\n",
    "translator = Translator(service_urls=[\n",
    "      'translate.google.com',\n",
    "    ])"
   ]
  },
  {
   "cell_type": "code",
   "execution_count": 489,
   "metadata": {
    "hidden": true,
    "run_control": {
     "frozen": false,
     "read_only": false
    }
   },
   "outputs": [],
   "source": [
    "to_trans = long_words['raw_word'].tolist()"
   ]
  },
  {
   "cell_type": "code",
   "execution_count": 492,
   "metadata": {
    "hidden": true,
    "run_control": {
     "frozen": false,
     "read_only": false
    }
   },
   "outputs": [],
   "source": [
    "translations = translator.translate(to_trans, dest='en')"
   ]
  },
  {
   "cell_type": "code",
   "execution_count": 498,
   "metadata": {
    "hidden": true,
    "run_control": {
     "frozen": false,
     "read_only": false
    }
   },
   "outputs": [
    {
     "data": {
      "text/plain": [
       "'Waldbrand'"
      ]
     },
     "execution_count": 498,
     "metadata": {},
     "output_type": "execute_result"
    }
   ],
   "source": [
    "translator.translate('forest fire', dest='de').text"
   ]
  },
  {
   "cell_type": "code",
   "execution_count": 506,
   "metadata": {
    "hidden": true,
    "run_control": {
     "frozen": false,
     "read_only": false
    }
   },
   "outputs": [],
   "source": [
    "from wiktionaryparser import WiktionaryParser"
   ]
  },
  {
   "cell_type": "code",
   "execution_count": 510,
   "metadata": {
    "hidden": true,
    "run_control": {
     "frozen": false,
     "read_only": false
    }
   },
   "outputs": [],
   "source": [
    "parser = WiktionaryParser()\n",
    "word = parser.fetch('test')\n",
    "another_word = parser.fetch('Aasfresser', 'german')\n",
    "parser.set_default_language('french')"
   ]
  },
  {
   "cell_type": "code",
   "execution_count": 511,
   "metadata": {
    "hidden": true,
    "run_control": {
     "frozen": false,
     "read_only": false
    }
   },
   "outputs": [
    {
     "data": {
      "text/plain": [
       "[{'definitions': [{'examples': [],\n",
       "    'partOfSpeech': 'noun',\n",
       "    'relatedWords': [{'relationshipType': 'synonyms',\n",
       "      'words': ['Nekrophage']}],\n",
       "    'text': 'Aasfresser\\xa0m (genitive Aasfressers, plural Aasfresser)\\nscavenger (an animal that feeds on carrion)\\n'}],\n",
       "  'etymology': 'Aas +\\u200e Fresser (from fressen + -er \"-er\")',\n",
       "  'pronunciations': {'audio': ['//upload.wikimedia.org/wikipedia/commons/5/52/De-Aasfresser.ogg'],\n",
       "   'text': ['IPA: /ˈaːsˌfʀɛsɐ/']}}]"
      ]
     },
     "execution_count": 511,
     "metadata": {},
     "output_type": "execute_result"
    }
   ],
   "source": [
    "another_word"
   ]
  },
  {
   "cell_type": "markdown",
   "metadata": {
    "heading_collapsed": true,
    "run_control": {
     "frozen": false,
     "read_only": false
    }
   },
   "source": [
    "# 9. wordnet"
   ]
  },
  {
   "cell_type": "code",
   "execution_count": 320,
   "metadata": {
    "hidden": true,
    "run_control": {
     "frozen": false,
     "read_only": false
    }
   },
   "outputs": [
    {
     "name": "stdout",
     "output_type": "stream",
     "text": [
      "Synset('toast.n.01')\n"
     ]
    }
   ],
   "source": [
    "test_word = 'toast'\n",
    "sis_words, ssyns = get_word_sisters(test_word)"
   ]
  },
  {
   "cell_type": "code",
   "execution_count": 321,
   "metadata": {
    "hidden": true,
    "run_control": {
     "frozen": false,
     "read_only": false
    },
    "scrolled": true
   },
   "outputs": [
    {
     "data": {
      "text/plain": [
       "['anadama_bread',\n",
       " 'bap',\n",
       " 'barmbrack',\n",
       " 'breadstick',\n",
       " 'bread-stick',\n",
       " 'brown_bread',\n",
       " 'Boston_brown_bread',\n",
       " 'bun',\n",
       " 'roll',\n",
       " 'caraway_seed_bread',\n",
       " 'challah',\n",
       " 'hallah',\n",
       " 'cinnamon_bread',\n",
       " 'cracked-wheat_bread',\n",
       " 'cracker',\n",
       " 'crouton',\n",
       " 'dark_bread',\n",
       " 'whole_wheat_bread',\n",
       " 'whole_meal_bread',\n",
       " 'brown_bread',\n",
       " 'English_muffin',\n",
       " 'flatbread',\n",
       " 'garlic_bread',\n",
       " 'gluten_bread',\n",
       " 'Host',\n",
       " 'loaf_of_bread',\n",
       " 'loaf',\n",
       " 'matzo',\n",
       " 'matzoh',\n",
       " 'matzah',\n",
       " 'unleavened_bread',\n",
       " 'nan',\n",
       " 'naan',\n",
       " 'onion_bread',\n",
       " 'quick_bread',\n",
       " 'raisin_bread',\n",
       " 'rye_bread',\n",
       " 'salt-rising_bread',\n",
       " 'simnel',\n",
       " 'sour_bread',\n",
       " 'sourdough_bread',\n",
       " 'toast',\n",
       " 'wafer',\n",
       " 'white_bread',\n",
       " 'light_bread']"
      ]
     },
     "execution_count": 321,
     "metadata": {},
     "output_type": "execute_result"
    }
   ],
   "source": [
    "sis_words"
   ]
  },
  {
   "cell_type": "code",
   "execution_count": 565,
   "metadata": {
    "hidden": true,
    "run_control": {
     "frozen": false,
     "read_only": false
    }
   },
   "outputs": [],
   "source": [
    "tsns = ssyns[0]"
   ]
  },
  {
   "cell_type": "code",
   "execution_count": null,
   "metadata": {
    "hidden": true,
    "run_control": {
     "frozen": false,
     "read_only": false
    }
   },
   "outputs": [],
   "source": []
  },
  {
   "cell_type": "code",
   "execution_count": 640,
   "metadata": {
    "hidden": true,
    "run_control": {
     "frozen": false,
     "read_only": false
    }
   },
   "outputs": [],
   "source": [
    "# for syn in wordnet.synsets(test_word):\n",
    "#     print(syn.definition())"
   ]
  },
  {
   "cell_type": "code",
   "execution_count": null,
   "metadata": {
    "hidden": true,
    "run_control": {
     "frozen": false,
     "read_only": false
    }
   },
   "outputs": [],
   "source": []
  },
  {
   "cell_type": "code",
   "execution_count": null,
   "metadata": {
    "hidden": true,
    "run_control": {
     "frozen": false,
     "read_only": false
    }
   },
   "outputs": [],
   "source": []
  },
  {
   "cell_type": "code",
   "execution_count": null,
   "metadata": {
    "hidden": true,
    "run_control": {
     "frozen": false,
     "read_only": false
    }
   },
   "outputs": [],
   "source": []
  },
  {
   "cell_type": "code",
   "execution_count": null,
   "metadata": {
    "hidden": true,
    "run_control": {
     "frozen": false,
     "read_only": false
    }
   },
   "outputs": [],
   "source": []
  },
  {
   "cell_type": "code",
   "execution_count": null,
   "metadata": {
    "hidden": true,
    "run_control": {
     "frozen": false,
     "read_only": false
    }
   },
   "outputs": [],
   "source": []
  },
  {
   "cell_type": "code",
   "execution_count": null,
   "metadata": {
    "hidden": true,
    "run_control": {
     "frozen": false,
     "read_only": false
    }
   },
   "outputs": [],
   "source": []
  },
  {
   "cell_type": "code",
   "execution_count": null,
   "metadata": {
    "hidden": true,
    "run_control": {
     "frozen": false,
     "read_only": false
    }
   },
   "outputs": [],
   "source": []
  },
  {
   "cell_type": "code",
   "execution_count": null,
   "metadata": {
    "hidden": true,
    "run_control": {
     "frozen": false,
     "read_only": false
    }
   },
   "outputs": [],
   "source": []
  },
  {
   "cell_type": "code",
   "execution_count": null,
   "metadata": {
    "hidden": true,
    "run_control": {
     "frozen": false,
     "read_only": false
    }
   },
   "outputs": [],
   "source": []
  },
  {
   "cell_type": "code",
   "execution_count": null,
   "metadata": {
    "hidden": true,
    "run_control": {
     "frozen": false,
     "read_only": false
    }
   },
   "outputs": [],
   "source": []
  },
  {
   "cell_type": "code",
   "execution_count": null,
   "metadata": {
    "hidden": true,
    "run_control": {
     "frozen": false,
     "read_only": false
    }
   },
   "outputs": [],
   "source": []
  }
 ],
 "metadata": {
  "kernelspec": {
   "display_name": "Python 3",
   "language": "python",
   "name": "python3"
  },
  "notify_time": "30"
 },
 "nbformat": 4,
 "nbformat_minor": 2
}
