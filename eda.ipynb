{
 "cells": [
  {
   "cell_type": "markdown",
   "metadata": {
    "heading_collapsed": true
   },
   "source": [
    "# Table of Contents\n",
    "* [1. load](#1.-load)\n",
    "* [2. simple words](#2.-simple-words)\n",
    "* [3. filtering sample](#3.-filtering-sample)\n",
    "* [4. tag sentences](#4.-tag-sentences)\n",
    "* [5. parse npc extraction](#5.-parse-npc-extraction)\n",
    "* [6. clean and spellcheck](#6.-clean-and-spellcheck)\n",
    "\t* [6.1 grammar experiment](#6.1-grammar-experiment)\n",
    "* [7. MS coco captions](#7.-MS-coco-captions)\n",
    "* [8. german experiments](#8.-german-experiments)\n"
   ]
  },
  {
   "cell_type": "code",
   "execution_count": 10,
   "metadata": {
    "hidden": true,
    "run_control": {
     "frozen": false,
     "read_only": false
    }
   },
   "outputs": [],
   "source": [
    "%%capture\n",
    "from __future__ import division\n",
    "import numpy as np\n",
    "import pandas as pd\n",
    "import scipy.stats as st\n",
    "import itertools\n",
    "import math\n",
    "from collections import Counter, defaultdict\n",
    "%load_ext autoreload\n",
    "%autoreload 2\n",
    "\n",
    "from copy import deepcopy\n",
    "import pickle\n",
    "import os\n",
    "import json\n",
    "from tqdm import tqdm\n",
    "from tqdm import tqdm_notebook\n",
    "\n",
    "from IPython.display import Image\n",
    "import PIL.Image as pil\n",
    "import random\n",
    "import cv2\n",
    "import matplotlib as mpl\n",
    "mpl.use(\"Agg\")\n",
    "import matplotlib.pylab as plt\n",
    "#%matplotlib notebook\n",
    "%matplotlib inline\n",
    "%load_ext base16_mplrc\n",
    "%base16_mplrc light solarized\n",
    "#%base16_mplrc dark solarized\n",
    "plt.rcParams['grid.linewidth'] = 0\n",
    "plt.rcParams['figure.figsize'] = (16.0, 10.0)\n",
    "\n",
    "import nltk\n",
    "import spacy\n",
    "import string\n",
    "from nltk.draw.tree import TreeView\n",
    "from nltk.tokenize import sent_tokenize\n",
    "from nltk.tokenize import word_tokenize\n",
    "from nltk.tokenize import wordpunct_tokenize\n",
    "from nltk.stem.porter import PorterStemmer\n",
    "from nltk.stem.wordnet import WordNetLemmatizer\n",
    "from nltk.stem.snowball import EnglishStemmer\n",
    "from nltk.parse.stanford import StanfordParser\n",
    "from nltk.tree import ParentedTree\n",
    "from nltk.parse.corenlp import CoreNLPServer\n",
    "from nltk.parse.corenlp import CoreNLPParser\n",
    "from nltk.corpus import stopwords\n",
    "\n",
    "from word_mod import zipf_frequency\n",
    "import language_check\n",
    "from fuzzywuzzy import fuzz\n",
    "\n",
    "from anigen_tools.parsing import parse_description\n",
    "from anigen_tools.parsing import sanitize_text\n",
    "from anigen_tools.parsing import sentence_splitter"
   ]
  },
  {
   "cell_type": "code",
   "execution_count": 11,
   "metadata": {
    "hidden": true,
    "run_control": {
     "frozen": false,
     "read_only": false
    }
   },
   "outputs": [],
   "source": [
    "punct_set = set(string.punctuation)\n",
    "punct_set.remove('.')\n",
    "cached_sw = stopwords.words(\"english\") + list(string.punctuation)\n",
    "\n",
    "nlp = spacy.load('en')\n",
    "\n",
    "core_nlp_base = '/Users/schwenk/wrk/animation_gan/phrase_cues/deps/stanford_core_nlp/stanford-corenlp-full-2017-06-09/'\n",
    "core_parser = CoreNLPParser(url='http://localhost:9000')    "
   ]
  },
  {
   "cell_type": "markdown",
   "metadata": {},
   "source": [
    "# 1. load"
   ]
  },
  {
   "cell_type": "code",
   "execution_count": 782,
   "metadata": {},
   "outputs": [],
   "source": [
    "icon_list = os.listdir('/Users/schwenk/wrk/pictionary/vision-pictionary/iconary_webgame/public/images/')\n",
    "icon_list = [i[:-4] for i in icon_list]"
   ]
  },
  {
   "cell_type": "code",
   "execution_count": 94,
   "metadata": {
    "run_control": {
     "frozen": false,
     "read_only": false
    }
   },
   "outputs": [],
   "source": [
    "out_data_dir = '/Users/schwenk/wrk/pictionary/phrase_gen/sandbox-anikem/out/'"
   ]
  },
  {
   "cell_type": "code",
   "execution_count": 95,
   "metadata": {
    "run_control": {
     "frozen": false,
     "read_only": false
    },
    "scrolled": true
   },
   "outputs": [],
   "source": [
    "verb_df = pd.read_csv(out_data_dir + 'verbs.txt', header=None, names=['verb'])\n",
    "situations_df = pd.read_csv(out_data_dir + 'full_situations.txt', header=None, names=['situation'])\n",
    "\n",
    "situations_df['len'] = situations_df['situation'].apply(lambda x: len(x.split()))\n",
    "verb_df['len'] = verb_df['verb'].apply(lambda x: len(x))"
   ]
  },
  {
   "cell_type": "code",
   "execution_count": 96,
   "metadata": {
    "run_control": {
     "frozen": false,
     "read_only": false
    }
   },
   "outputs": [
    {
     "data": {
      "text/html": [
       "<div>\n",
       "<style scoped>\n",
       "    .dataframe tbody tr th:only-of-type {\n",
       "        vertical-align: middle;\n",
       "    }\n",
       "\n",
       "    .dataframe tbody tr th {\n",
       "        vertical-align: top;\n",
       "    }\n",
       "\n",
       "    .dataframe thead th {\n",
       "        text-align: right;\n",
       "    }\n",
       "</style>\n",
       "<table border=\"1\" class=\"dataframe\">\n",
       "  <thead>\n",
       "    <tr style=\"text-align: right;\">\n",
       "      <th></th>\n",
       "      <th>situation</th>\n",
       "      <th>len</th>\n",
       "    </tr>\n",
       "  </thead>\n",
       "  <tbody>\n",
       "    <tr>\n",
       "      <th>0</th>\n",
       "      <td>the person loads a cartridge holder</td>\n",
       "      <td>6</td>\n",
       "    </tr>\n",
       "  </tbody>\n",
       "</table>\n",
       "</div>"
      ],
      "text/plain": [
       "                             situation  len\n",
       "0  the person loads a cartridge holder    6"
      ]
     },
     "execution_count": 96,
     "metadata": {},
     "output_type": "execute_result"
    }
   ],
   "source": [
    "situations_df.head(1)"
   ]
  },
  {
   "cell_type": "code",
   "execution_count": 105,
   "metadata": {
    "run_control": {
     "frozen": false,
     "read_only": false
    }
   },
   "outputs": [],
   "source": [
    "def least_common_word(sent):\n",
    "    wlfs = [zipf_frequency(w, 'en') for w in sent.split()]\n",
    "    lowest_freq = min(wlfs)\n",
    "    return lowest_freq > 4"
   ]
  },
  {
   "cell_type": "code",
   "execution_count": 107,
   "metadata": {
    "run_control": {
     "frozen": false,
     "read_only": false
    }
   },
   "outputs": [],
   "source": [
    "common_verbs = verb_df[verb_df['verb'].apply(lambda x: least_common_word(x))]"
   ]
  },
  {
   "cell_type": "code",
   "execution_count": 108,
   "metadata": {
    "run_control": {
     "frozen": false,
     "read_only": false
    }
   },
   "outputs": [
    {
     "data": {
      "text/plain": [
       "(111, 2)"
      ]
     },
     "execution_count": 108,
     "metadata": {},
     "output_type": "execute_result"
    }
   ],
   "source": [
    "common_verbs.shape"
   ]
  },
  {
   "cell_type": "code",
   "execution_count": 109,
   "metadata": {
    "run_control": {
     "frozen": false,
     "read_only": false
    },
    "scrolled": true
   },
   "outputs": [
    {
     "data": {
      "text/html": [
       "<div>\n",
       "<style scoped>\n",
       "    .dataframe tbody tr th:only-of-type {\n",
       "        vertical-align: middle;\n",
       "    }\n",
       "\n",
       "    .dataframe tbody tr th {\n",
       "        vertical-align: top;\n",
       "    }\n",
       "\n",
       "    .dataframe thead th {\n",
       "        text-align: right;\n",
       "    }\n",
       "</style>\n",
       "<table border=\"1\" class=\"dataframe\">\n",
       "  <thead>\n",
       "    <tr style=\"text-align: right;\">\n",
       "      <th></th>\n",
       "      <th>verb</th>\n",
       "      <th>len</th>\n",
       "    </tr>\n",
       "  </thead>\n",
       "  <tbody>\n",
       "    <tr>\n",
       "      <th>5</th>\n",
       "      <td>applying</td>\n",
       "      <td>8</td>\n",
       "    </tr>\n",
       "    <tr>\n",
       "      <th>11</th>\n",
       "      <td>asking</td>\n",
       "      <td>6</td>\n",
       "    </tr>\n",
       "    <tr>\n",
       "      <th>14</th>\n",
       "      <td>attacking</td>\n",
       "      <td>9</td>\n",
       "    </tr>\n",
       "    <tr>\n",
       "      <th>26</th>\n",
       "      <td>blocking</td>\n",
       "      <td>8</td>\n",
       "    </tr>\n",
       "    <tr>\n",
       "      <th>36</th>\n",
       "      <td>breaking</td>\n",
       "      <td>8</td>\n",
       "    </tr>\n",
       "    <tr>\n",
       "      <th>42</th>\n",
       "      <td>building</td>\n",
       "      <td>8</td>\n",
       "    </tr>\n",
       "    <tr>\n",
       "      <th>44</th>\n",
       "      <td>burning</td>\n",
       "      <td>7</td>\n",
       "    </tr>\n",
       "    <tr>\n",
       "      <th>49</th>\n",
       "      <td>buying</td>\n",
       "      <td>6</td>\n",
       "    </tr>\n",
       "    <tr>\n",
       "      <th>50</th>\n",
       "      <td>calling</td>\n",
       "      <td>7</td>\n",
       "    </tr>\n",
       "    <tr>\n",
       "      <th>55</th>\n",
       "      <td>carrying</td>\n",
       "      <td>8</td>\n",
       "    </tr>\n",
       "    <tr>\n",
       "      <th>58</th>\n",
       "      <td>catching</td>\n",
       "      <td>8</td>\n",
       "    </tr>\n",
       "    <tr>\n",
       "      <th>59</th>\n",
       "      <td>celebrating</td>\n",
       "      <td>11</td>\n",
       "    </tr>\n",
       "    <tr>\n",
       "      <th>60</th>\n",
       "      <td>chasing</td>\n",
       "      <td>7</td>\n",
       "    </tr>\n",
       "    <tr>\n",
       "      <th>61</th>\n",
       "      <td>checking</td>\n",
       "      <td>8</td>\n",
       "    </tr>\n",
       "    <tr>\n",
       "      <th>70</th>\n",
       "      <td>cleaning</td>\n",
       "      <td>8</td>\n",
       "    </tr>\n",
       "    <tr>\n",
       "      <th>71</th>\n",
       "      <td>clearing</td>\n",
       "      <td>8</td>\n",
       "    </tr>\n",
       "    <tr>\n",
       "      <th>73</th>\n",
       "      <td>climbing</td>\n",
       "      <td>8</td>\n",
       "    </tr>\n",
       "    <tr>\n",
       "      <th>76</th>\n",
       "      <td>coaching</td>\n",
       "      <td>8</td>\n",
       "    </tr>\n",
       "    <tr>\n",
       "      <th>82</th>\n",
       "      <td>competing</td>\n",
       "      <td>9</td>\n",
       "    </tr>\n",
       "    <tr>\n",
       "      <th>83</th>\n",
       "      <td>complaining</td>\n",
       "      <td>11</td>\n",
       "    </tr>\n",
       "    <tr>\n",
       "      <th>87</th>\n",
       "      <td>cooking</td>\n",
       "      <td>7</td>\n",
       "    </tr>\n",
       "    <tr>\n",
       "      <th>89</th>\n",
       "      <td>counting</td>\n",
       "      <td>8</td>\n",
       "    </tr>\n",
       "    <tr>\n",
       "      <th>90</th>\n",
       "      <td>covering</td>\n",
       "      <td>8</td>\n",
       "    </tr>\n",
       "    <tr>\n",
       "      <th>99</th>\n",
       "      <td>crying</td>\n",
       "      <td>6</td>\n",
       "    </tr>\n",
       "    <tr>\n",
       "      <th>102</th>\n",
       "      <td>dancing</td>\n",
       "      <td>7</td>\n",
       "    </tr>\n",
       "    <tr>\n",
       "      <th>107</th>\n",
       "      <td>destroying</td>\n",
       "      <td>10</td>\n",
       "    </tr>\n",
       "    <tr>\n",
       "      <th>110</th>\n",
       "      <td>dining</td>\n",
       "      <td>6</td>\n",
       "    </tr>\n",
       "    <tr>\n",
       "      <th>113</th>\n",
       "      <td>discussing</td>\n",
       "      <td>10</td>\n",
       "    </tr>\n",
       "    <tr>\n",
       "      <th>123</th>\n",
       "      <td>drawing</td>\n",
       "      <td>7</td>\n",
       "    </tr>\n",
       "    <tr>\n",
       "      <th>125</th>\n",
       "      <td>drinking</td>\n",
       "      <td>8</td>\n",
       "    </tr>\n",
       "    <tr>\n",
       "      <th>...</th>\n",
       "      <td>...</td>\n",
       "      <td>...</td>\n",
       "    </tr>\n",
       "    <tr>\n",
       "      <th>342</th>\n",
       "      <td>saying</td>\n",
       "      <td>6</td>\n",
       "    </tr>\n",
       "    <tr>\n",
       "      <th>345</th>\n",
       "      <td>scoring</td>\n",
       "      <td>7</td>\n",
       "    </tr>\n",
       "    <tr>\n",
       "      <th>350</th>\n",
       "      <td>selling</td>\n",
       "      <td>7</td>\n",
       "    </tr>\n",
       "    <tr>\n",
       "      <th>351</th>\n",
       "      <td>serving</td>\n",
       "      <td>7</td>\n",
       "    </tr>\n",
       "    <tr>\n",
       "      <th>353</th>\n",
       "      <td>shaking</td>\n",
       "      <td>7</td>\n",
       "    </tr>\n",
       "    <tr>\n",
       "      <th>360</th>\n",
       "      <td>shooting</td>\n",
       "      <td>8</td>\n",
       "    </tr>\n",
       "    <tr>\n",
       "      <th>361</th>\n",
       "      <td>shopping</td>\n",
       "      <td>8</td>\n",
       "    </tr>\n",
       "    <tr>\n",
       "      <th>368</th>\n",
       "      <td>signing</td>\n",
       "      <td>7</td>\n",
       "    </tr>\n",
       "    <tr>\n",
       "      <th>369</th>\n",
       "      <td>singing</td>\n",
       "      <td>7</td>\n",
       "    </tr>\n",
       "    <tr>\n",
       "      <th>370</th>\n",
       "      <td>sitting</td>\n",
       "      <td>7</td>\n",
       "    </tr>\n",
       "    <tr>\n",
       "      <th>377</th>\n",
       "      <td>sleeping</td>\n",
       "      <td>8</td>\n",
       "    </tr>\n",
       "    <tr>\n",
       "      <th>386</th>\n",
       "      <td>smiling</td>\n",
       "      <td>7</td>\n",
       "    </tr>\n",
       "    <tr>\n",
       "      <th>396</th>\n",
       "      <td>speaking</td>\n",
       "      <td>8</td>\n",
       "    </tr>\n",
       "    <tr>\n",
       "      <th>404</th>\n",
       "      <td>spreading</td>\n",
       "      <td>9</td>\n",
       "    </tr>\n",
       "    <tr>\n",
       "      <th>413</th>\n",
       "      <td>standing</td>\n",
       "      <td>8</td>\n",
       "    </tr>\n",
       "    <tr>\n",
       "      <th>415</th>\n",
       "      <td>staring</td>\n",
       "      <td>7</td>\n",
       "    </tr>\n",
       "    <tr>\n",
       "      <th>424</th>\n",
       "      <td>striking</td>\n",
       "      <td>8</td>\n",
       "    </tr>\n",
       "    <tr>\n",
       "      <th>427</th>\n",
       "      <td>studying</td>\n",
       "      <td>8</td>\n",
       "    </tr>\n",
       "    <tr>\n",
       "      <th>436</th>\n",
       "      <td>swimming</td>\n",
       "      <td>8</td>\n",
       "    </tr>\n",
       "    <tr>\n",
       "      <th>440</th>\n",
       "      <td>talking</td>\n",
       "      <td>7</td>\n",
       "    </tr>\n",
       "    <tr>\n",
       "      <th>445</th>\n",
       "      <td>teaching</td>\n",
       "      <td>8</td>\n",
       "    </tr>\n",
       "    <tr>\n",
       "      <th>448</th>\n",
       "      <td>throwing</td>\n",
       "      <td>8</td>\n",
       "    </tr>\n",
       "    <tr>\n",
       "      <th>454</th>\n",
       "      <td>training</td>\n",
       "      <td>8</td>\n",
       "    </tr>\n",
       "    <tr>\n",
       "      <th>459</th>\n",
       "      <td>turning</td>\n",
       "      <td>7</td>\n",
       "    </tr>\n",
       "    <tr>\n",
       "      <th>474</th>\n",
       "      <td>voting</td>\n",
       "      <td>6</td>\n",
       "    </tr>\n",
       "    <tr>\n",
       "      <th>478</th>\n",
       "      <td>waiting</td>\n",
       "      <td>7</td>\n",
       "    </tr>\n",
       "    <tr>\n",
       "      <th>479</th>\n",
       "      <td>walking</td>\n",
       "      <td>7</td>\n",
       "    </tr>\n",
       "    <tr>\n",
       "      <th>480</th>\n",
       "      <td>washing</td>\n",
       "      <td>7</td>\n",
       "    </tr>\n",
       "    <tr>\n",
       "      <th>497</th>\n",
       "      <td>working</td>\n",
       "      <td>7</td>\n",
       "    </tr>\n",
       "    <tr>\n",
       "      <th>501</th>\n",
       "      <td>writing</td>\n",
       "      <td>7</td>\n",
       "    </tr>\n",
       "  </tbody>\n",
       "</table>\n",
       "<p>111 rows × 2 columns</p>\n",
       "</div>"
      ],
      "text/plain": [
       "            verb  len\n",
       "5       applying    8\n",
       "11        asking    6\n",
       "14     attacking    9\n",
       "26      blocking    8\n",
       "36      breaking    8\n",
       "42      building    8\n",
       "44       burning    7\n",
       "49        buying    6\n",
       "50       calling    7\n",
       "55      carrying    8\n",
       "58      catching    8\n",
       "59   celebrating   11\n",
       "60       chasing    7\n",
       "61      checking    8\n",
       "70      cleaning    8\n",
       "71      clearing    8\n",
       "73      climbing    8\n",
       "76      coaching    8\n",
       "82     competing    9\n",
       "83   complaining   11\n",
       "87       cooking    7\n",
       "89      counting    8\n",
       "90      covering    8\n",
       "99        crying    6\n",
       "102      dancing    7\n",
       "107   destroying   10\n",
       "110       dining    6\n",
       "113   discussing   10\n",
       "123      drawing    7\n",
       "125     drinking    8\n",
       "..           ...  ...\n",
       "342       saying    6\n",
       "345      scoring    7\n",
       "350      selling    7\n",
       "351      serving    7\n",
       "353      shaking    7\n",
       "360     shooting    8\n",
       "361     shopping    8\n",
       "368      signing    7\n",
       "369      singing    7\n",
       "370      sitting    7\n",
       "377     sleeping    8\n",
       "386      smiling    7\n",
       "396     speaking    8\n",
       "404    spreading    9\n",
       "413     standing    8\n",
       "415      staring    7\n",
       "424     striking    8\n",
       "427     studying    8\n",
       "436     swimming    8\n",
       "440      talking    7\n",
       "445     teaching    8\n",
       "448     throwing    8\n",
       "454     training    8\n",
       "459      turning    7\n",
       "474       voting    6\n",
       "478      waiting    7\n",
       "479      walking    7\n",
       "480      washing    7\n",
       "497      working    7\n",
       "501      writing    7\n",
       "\n",
       "[111 rows x 2 columns]"
      ]
     },
     "execution_count": 109,
     "metadata": {},
     "output_type": "execute_result"
    }
   ],
   "source": [
    "common_verbs"
   ]
  },
  {
   "cell_type": "code",
   "execution_count": 88,
   "metadata": {
    "run_control": {
     "frozen": false,
     "read_only": false
    }
   },
   "outputs": [],
   "source": [
    "# _ = situations_df['len'].hist(bins=12)"
   ]
  },
  {
   "cell_type": "code",
   "execution_count": 8,
   "metadata": {
    "run_control": {
     "frozen": false,
     "read_only": false
    }
   },
   "outputs": [],
   "source": [
    "# verb_df.sort_values('len')"
   ]
  },
  {
   "cell_type": "code",
   "execution_count": 10,
   "metadata": {
    "run_control": {
     "frozen": false,
     "read_only": false
    }
   },
   "outputs": [],
   "source": [
    "# ing_verbs = verb_df[verb_df['verb'].str.contains('ing')]"
   ]
  },
  {
   "cell_type": "markdown",
   "metadata": {},
   "source": [
    "not abstract, easy"
   ]
  },
  {
   "cell_type": "markdown",
   "metadata": {
    "heading_collapsed": true
   },
   "source": [
    "# 2. simple words"
   ]
  },
  {
   "cell_type": "code",
   "execution_count": 12,
   "metadata": {
    "hidden": true,
    "run_control": {
     "frozen": false,
     "read_only": false
    }
   },
   "outputs": [],
   "source": [
    "word_data_dir = '/Users/schwenk/wrk/pictionary/BasicEnglishTranslator/data/'"
   ]
  },
  {
   "cell_type": "code",
   "execution_count": 89,
   "metadata": {
    "hidden": true,
    "run_control": {
     "frozen": false,
     "read_only": false
    }
   },
   "outputs": [],
   "source": [
    "with open('./data/basic_words.csv') as f:\n",
    "    read_article = f.read()"
   ]
  },
  {
   "cell_type": "code",
   "execution_count": 92,
   "metadata": {
    "hidden": true,
    "run_control": {
     "frozen": false,
     "read_only": false
    }
   },
   "outputs": [],
   "source": [
    "with open(word_data_dir + 'basic_english.pickle', 'rb') as f:\n",
    "    all_words = pickle.load(f) "
   ]
  },
  {
   "cell_type": "code",
   "execution_count": 15,
   "metadata": {
    "hidden": true,
    "run_control": {
     "frozen": false,
     "read_only": false
    }
   },
   "outputs": [],
   "source": [
    "simple_words = pd.read_csv(word_data_dir + 'basic_english_words.csv')"
   ]
  },
  {
   "cell_type": "code",
   "execution_count": 94,
   "metadata": {
    "hidden": true,
    "run_control": {
     "frozen": false,
     "read_only": false
    }
   },
   "outputs": [
    {
     "data": {
      "text/html": [
       "<div>\n",
       "<style scoped>\n",
       "    .dataframe tbody tr th:only-of-type {\n",
       "        vertical-align: middle;\n",
       "    }\n",
       "\n",
       "    .dataframe tbody tr th {\n",
       "        vertical-align: top;\n",
       "    }\n",
       "\n",
       "    .dataframe thead th {\n",
       "        text-align: right;\n",
       "    }\n",
       "</style>\n",
       "<table border=\"1\" class=\"dataframe\">\n",
       "  <thead>\n",
       "    <tr style=\"text-align: right;\">\n",
       "      <th></th>\n",
       "      <th>WORD</th>\n",
       "    </tr>\n",
       "  </thead>\n",
       "  <tbody>\n",
       "    <tr>\n",
       "      <th>0</th>\n",
       "      <td>a</td>\n",
       "    </tr>\n",
       "  </tbody>\n",
       "</table>\n",
       "</div>"
      ],
      "text/plain": [
       "  WORD\n",
       "0    a"
      ]
     },
     "execution_count": 94,
     "metadata": {},
     "output_type": "execute_result"
    }
   ],
   "source": [
    "simple_words.head(1)"
   ]
  },
  {
   "cell_type": "code",
   "execution_count": null,
   "metadata": {
    "hidden": true,
    "run_control": {
     "frozen": false,
     "read_only": false
    }
   },
   "outputs": [],
   "source": []
  },
  {
   "cell_type": "code",
   "execution_count": null,
   "metadata": {
    "hidden": true,
    "run_control": {
     "frozen": false,
     "read_only": false
    }
   },
   "outputs": [],
   "source": []
  },
  {
   "cell_type": "code",
   "execution_count": null,
   "metadata": {
    "hidden": true,
    "run_control": {
     "frozen": false,
     "read_only": false
    }
   },
   "outputs": [],
   "source": []
  },
  {
   "cell_type": "markdown",
   "metadata": {
    "heading_collapsed": true
   },
   "source": [
    "# 3. filtering sample"
   ]
  },
  {
   "cell_type": "code",
   "execution_count": 690,
   "metadata": {
    "hidden": true,
    "run_control": {
     "frozen": false,
     "read_only": false
    }
   },
   "outputs": [],
   "source": [
    "gram_checker = language_check.LanguageTool('en-US')\n",
    "gram_checker.disabled = set(['UPPERCASE_SENTENCE_START'])\n",
    "# gram_checker.disable_spellchecking()\n",
    "\n",
    "def grammar_check_phrases(dataset):\n",
    "    corrected = {}\n",
    "    passed = []\n",
    "    for sentence in dataset:\n",
    "        corrections = gram_checker.check(sentence)\n",
    "        if corrections:\n",
    "            corrected[sentence] = corrections\n",
    "        else:\n",
    "            passed.append(sentence)\n",
    "    return corrected, passed"
   ]
  },
  {
   "cell_type": "code",
   "execution_count": 174,
   "metadata": {
    "hidden": true,
    "run_control": {
     "frozen": false,
     "read_only": false
    }
   },
   "outputs": [],
   "source": [
    "description_corpus = ' '.join(situations_df['situation'])\n",
    "\n",
    "tokenized_corpus = word_tokenize(description_corpus)\n",
    "\n",
    "normalized_tokens = []\n",
    "for toke in tokenized_corpus:\n",
    "    clean_toke = toke.strip().lower()\n",
    "    if clean_toke not in cached_sw and clean_toke:\n",
    "        normalized_tokens.append(clean_toke)"
   ]
  },
  {
   "cell_type": "code",
   "execution_count": 23,
   "metadata": {
    "hidden": true,
    "run_control": {
     "frozen": false,
     "read_only": false
    }
   },
   "outputs": [],
   "source": [
    "word_counts = Counter(normalized_tokens)\n",
    "most_common = word_counts.most_common(200)"
   ]
  },
  {
   "cell_type": "code",
   "execution_count": 24,
   "metadata": {
    "hidden": true,
    "run_control": {
     "frozen": false,
     "read_only": false
    }
   },
   "outputs": [],
   "source": [
    "filtered_words = [w for w, count in word_counts.items() if count == 1]"
   ]
  },
  {
   "cell_type": "code",
   "execution_count": 95,
   "metadata": {
    "hidden": true,
    "run_control": {
     "frozen": false,
     "read_only": false
    }
   },
   "outputs": [],
   "source": [
    "sentences = list(set(situations_df['situation'].tolist()))"
   ]
  },
  {
   "cell_type": "code",
   "execution_count": 97,
   "metadata": {
    "hidden": true,
    "run_control": {
     "frozen": false,
     "read_only": false
    }
   },
   "outputs": [],
   "source": [
    "test_sent = sentences[1]"
   ]
  },
  {
   "cell_type": "code",
   "execution_count": 33,
   "metadata": {
    "hidden": true,
    "run_control": {
     "frozen": false,
     "read_only": false
    }
   },
   "outputs": [],
   "source": [
    "# sent_gram_errors, passed_sents = grammar_check_phrases(tqdm(sentences))"
   ]
  },
  {
   "cell_type": "code",
   "execution_count": 165,
   "metadata": {
    "hidden": true,
    "run_control": {
     "frozen": false,
     "read_only": false
    }
   },
   "outputs": [
    {
     "data": {
      "text/plain": [
       "0.9645086556406461"
      ]
     },
     "execution_count": 165,
     "metadata": {},
     "output_type": "execute_result"
    }
   ],
   "source": [
    "len(passed_sents) / len(sentences)"
   ]
  },
  {
   "cell_type": "code",
   "execution_count": 164,
   "metadata": {
    "hidden": true,
    "run_control": {
     "frozen": false,
     "read_only": false
    }
   },
   "outputs": [
    {
     "data": {
      "text/plain": [
       "59950"
      ]
     },
     "execution_count": 164,
     "metadata": {},
     "output_type": "execute_result"
    }
   ],
   "source": [
    "len(passed_sents)"
   ]
  },
  {
   "cell_type": "markdown",
   "metadata": {
    "heading_collapsed": true
   },
   "source": [
    "# 4. tag sentences"
   ]
  },
  {
   "cell_type": "code",
   "execution_count": 644,
   "metadata": {
    "hidden": true,
    "run_control": {
     "frozen": false,
     "read_only": false
    }
   },
   "outputs": [],
   "source": [
    "def get_pos_tags(sentence):\n",
    "    constituent_parse  = [list(i)[0] for i in core_parser.raw_parse_sents([sentence])][0]\n",
    "    pos_tags = constituent_parse.pos()\n",
    "    return pos_tags\n",
    "\n",
    "def filter_pos_tags(tagged_sent):\n",
    "    include_as_article = []\n",
    "    for word, tag in tagged_sent:\n",
    "        if tag == 'DT':\n",
    "            include_as_article.append('True')\n",
    "        else:\n",
    "            include_as_article.append('False')\n",
    "    return include_as_article\n",
    "\n",
    "def least_common_word(sent, freq_thresh=4.7):\n",
    "    wlfs = [zipf_frequency(w, 'en') for w in sent.split()]\n",
    "    lowest_freq = min(wlfs)\n",
    "    return lowest_freq > freq_thresh\n",
    "\n",
    "def form_strings(tagged_sentence):\n",
    "    words = [w[0] for w in tagged_sentence]\n",
    "    include_word = filter_pos_tags(tagged_sentence)\n",
    "    return f\"{' '.join(words)} # {' '.join(include_word)}\"\n",
    "\n",
    "def form_strings_w_pos(tagged_sentence):\n",
    "    words = [w[0] for w in tagged_sentence]\n",
    "    include_word = [w[1] for w in tagged_sentence]\n",
    "    return f\"{' '.join(words)} # {' '.join(include_word)}\""
   ]
  },
  {
   "cell_type": "code",
   "execution_count": 187,
   "metadata": {
    "hidden": true,
    "run_control": {
     "frozen": false,
     "read_only": false
    }
   },
   "outputs": [],
   "source": [
    "with open('./data/unique_parsed_sents.pkl', 'rb') as f:\n",
    "    unique_parsed_sents = pickle.load(f)"
   ]
  },
  {
   "cell_type": "code",
   "execution_count": 216,
   "metadata": {
    "hidden": true,
    "run_control": {
     "frozen": false,
     "read_only": false
    }
   },
   "outputs": [],
   "source": [
    "simple_sentences = [sent for sent in unique_parsed_sents if least_common_word(sent, 3.7)]"
   ]
  },
  {
   "cell_type": "code",
   "execution_count": 217,
   "metadata": {
    "hidden": true,
    "run_control": {
     "frozen": false,
     "read_only": false
    }
   },
   "outputs": [],
   "source": [
    "import matplotlib"
   ]
  },
  {
   "cell_type": "code",
   "execution_count": 253,
   "metadata": {
    "hidden": true,
    "run_control": {
     "frozen": false,
     "read_only": false
    }
   },
   "outputs": [],
   "source": [
    "colors = list(matplotlib.colors.cnames.keys())"
   ]
  },
  {
   "cell_type": "code",
   "execution_count": 417,
   "metadata": {
    "hidden": true,
    "run_control": {
     "frozen": false,
     "read_only": false
    }
   },
   "outputs": [],
   "source": [
    "word_blacklist = set(['uses', 'using', 'people', 'helped', 'measures', 'records', 'data', 'works', 'teach', 'body', 'with', 'training', 'waste', 'plastic', 'gravity', 'commission', 'space'] + colors)"
   ]
  },
  {
   "cell_type": "code",
   "execution_count": 424,
   "metadata": {
    "hidden": true,
    "run_control": {
     "frozen": false,
     "read_only": false
    }
   },
   "outputs": [],
   "source": [
    "blacklist_removed = [s for s in simple_sentences if not set([w.lower() for w in s.split()]).intersection(word_blacklist)]"
   ]
  },
  {
   "cell_type": "code",
   "execution_count": 425,
   "metadata": {
    "hidden": true,
    "run_control": {
     "frozen": false,
     "read_only": false
    }
   },
   "outputs": [
    {
     "data": {
      "text/plain": [
       "'a young buck fries a meat'"
      ]
     },
     "execution_count": 425,
     "metadata": {},
     "output_type": "execute_result"
    }
   ],
   "source": [
    "random.choice(blacklist_removed)"
   ]
  },
  {
   "cell_type": "code",
   "execution_count": 426,
   "metadata": {
    "hidden": true,
    "run_control": {
     "frozen": false,
     "read_only": false
    }
   },
   "outputs": [
    {
     "data": {
      "text/plain": [
       "14050"
      ]
     },
     "execution_count": 426,
     "metadata": {},
     "output_type": "execute_result"
    }
   ],
   "source": [
    "len(blacklist_removed)"
   ]
  },
  {
   "cell_type": "code",
   "execution_count": 223,
   "metadata": {
    "hidden": true,
    "run_control": {
     "frozen": false,
     "read_only": false
    }
   },
   "outputs": [
    {
     "data": {
      "text/plain": [
       "14487"
      ]
     },
     "execution_count": 223,
     "metadata": {},
     "output_type": "execute_result"
    }
   ],
   "source": [
    "len(blacklist_removed)"
   ]
  },
  {
   "cell_type": "code",
   "execution_count": 171,
   "metadata": {
    "hidden": true,
    "run_control": {
     "frozen": false,
     "read_only": false
    }
   },
   "outputs": [
    {
     "data": {
      "text/plain": [
       "'a man works on a construction'"
      ]
     },
     "execution_count": 171,
     "metadata": {},
     "output_type": "execute_result"
    }
   ],
   "source": [
    "random.choice(simple_sentences)"
   ]
  },
  {
   "cell_type": "code",
   "execution_count": 173,
   "metadata": {
    "hidden": true,
    "run_control": {
     "frozen": false,
     "read_only": false
    }
   },
   "outputs": [],
   "source": [
    "def filter_on_freq(sent, higher_freq, lower_freq):\n",
    "    wlfs = [zipf_frequency(w, 'en') for w in sent.split()]\n",
    "    lowest_freq = min(wlfs)\n",
    "    return higher_freq > lowest_freq > lower_freq"
   ]
  },
  {
   "cell_type": "code",
   "execution_count": 183,
   "metadata": {
    "hidden": true,
    "run_control": {
     "frozen": false,
     "read_only": false
    }
   },
   "outputs": [],
   "source": [
    "freq_filt_words = [t for t in normalized_tokens if filter_on_freq(t, 4.7, 3)]"
   ]
  },
  {
   "cell_type": "code",
   "execution_count": 46,
   "metadata": {
    "hidden": true,
    "run_control": {
     "frozen": false,
     "read_only": false
    }
   },
   "outputs": [],
   "source": [
    "# with open('unique_parsed_sents.pkl', 'wb') as f:\n",
    "#     pickle.dump(unique_parsed_sents, f)"
   ]
  },
  {
   "cell_type": "code",
   "execution_count": 47,
   "metadata": {
    "hidden": true,
    "run_control": {
     "frozen": false,
     "read_only": false
    }
   },
   "outputs": [],
   "source": [
    "some_sents = unique_parsed_sents[3]"
   ]
  },
  {
   "cell_type": "code",
   "execution_count": 428,
   "metadata": {
    "hidden": true,
    "run_control": {
     "frozen": false,
     "read_only": false
    }
   },
   "outputs": [],
   "source": [
    "chosen_sample = blacklist_removed\n",
    "tagged_sentences = [get_pos_tags(s) for s in chosen_sample]"
   ]
  },
  {
   "cell_type": "code",
   "execution_count": 430,
   "metadata": {
    "hidden": true,
    "run_control": {
     "frozen": false,
     "read_only": false
    }
   },
   "outputs": [],
   "source": [
    "vocab_complete = list(set(normalized_tokens))\n",
    "vocab = list(set([w[0].lower() for s in tagged_sentences for w in s if w[1] in ['NN', 'NNS', 'NNP', 'NNPS']]))"
   ]
  },
  {
   "cell_type": "code",
   "execution_count": 431,
   "metadata": {
    "hidden": true,
    "run_control": {
     "frozen": false,
     "read_only": false
    }
   },
   "outputs": [],
   "source": [
    "voc_ser = pd.Series(vocab)\n",
    "\n",
    "voc_ser.to_csv('cleaned_sentences_nouns_harder.txt', index=False, header=None)"
   ]
  },
  {
   "cell_type": "code",
   "execution_count": 432,
   "metadata": {
    "hidden": true,
    "run_control": {
     "frozen": false,
     "read_only": false
    }
   },
   "outputs": [
    {
     "data": {
      "text/plain": [
       "(1663,)"
      ]
     },
     "execution_count": 432,
     "metadata": {},
     "output_type": "execute_result"
    }
   ],
   "source": [
    "voc_ser.shape"
   ]
  },
  {
   "cell_type": "code",
   "execution_count": 435,
   "metadata": {
    "hidden": true,
    "run_control": {
     "frozen": false,
     "read_only": false
    }
   },
   "outputs": [],
   "source": [
    "build_output = pd.Series([form_strings(s) for s in tagged_sentences])\n",
    "build_output.to_csv('cleaned_sentences_harder_pos_tags.txt', index=False, header=None)"
   ]
  },
  {
   "cell_type": "code",
   "execution_count": null,
   "metadata": {
    "hidden": true,
    "run_control": {
     "frozen": false,
     "read_only": false
    }
   },
   "outputs": [],
   "source": []
  },
  {
   "cell_type": "code",
   "execution_count": null,
   "metadata": {
    "hidden": true,
    "run_control": {
     "frozen": false,
     "read_only": false
    }
   },
   "outputs": [],
   "source": []
  },
  {
   "cell_type": "code",
   "execution_count": null,
   "metadata": {
    "hidden": true,
    "run_control": {
     "frozen": false,
     "read_only": false
    }
   },
   "outputs": [],
   "source": []
  },
  {
   "cell_type": "code",
   "execution_count": null,
   "metadata": {
    "hidden": true,
    "run_control": {
     "frozen": false,
     "read_only": false
    }
   },
   "outputs": [],
   "source": [
    "# def custom_filter_sentences(sentences):\n",
    "#     required = ['a ', 'the ']\n",
    "#     filtered = []\n",
    "#     for sent in sentences:"
   ]
  },
  {
   "cell_type": "markdown",
   "metadata": {
    "heading_collapsed": true
   },
   "source": [
    "# 5. parse npc extraction"
   ]
  },
  {
   "cell_type": "code",
   "execution_count": 24,
   "metadata": {
    "hidden": true,
    "run_control": {
     "frozen": false,
     "read_only": false
    }
   },
   "outputs": [],
   "source": [
    "s1 = constituent_parse[1]\n",
    "TreeView(s1)._cframe.print_to_file('s2.ps')"
   ]
  },
  {
   "cell_type": "code",
   "execution_count": 2231,
   "metadata": {
    "hidden": true,
    "run_control": {
     "frozen": false,
     "read_only": false
    }
   },
   "outputs": [
    {
     "name": "stdout",
     "output_type": "stream",
     "text": [
      "The red-haired businessman\n",
      "accountant\n",
      "the phone\n",
      "his office\n"
     ]
    }
   ],
   "source": [
    "grammar = r\"\"\"\n",
    "  NP: {<DT|PP\\$>?<JJ>*<NN>}   # chunk determiner/possessive, adjectives and noun\n",
    "  {<NNP>+}                # chunk sequences of proper nouns\n",
    "  {<NN>+}                 # chunk consecutive nouns\n",
    "  \"\"\"\n",
    "\n",
    "\n",
    "\n",
    "\n",
    "cp = nltk.RegexpParser(grammar)\n",
    "parsed_sent = cp.parse(sent_parses[0])\n",
    "for npstr in extract_np(parsed_sent):\n",
    "    print (npstr)"
   ]
  },
  {
   "cell_type": "code",
   "execution_count": 100,
   "metadata": {
    "code_folding": [],
    "hidden": true,
    "run_control": {
     "frozen": false,
     "read_only": false
    }
   },
   "outputs": [],
   "source": [
    "def extract_np(psent):\n",
    "    for subtree in psent.subtrees():\n",
    "        if subtree.label() == 'NP':\n",
    "            subprod = subtree.productions()[0].unicode_repr()\n",
    "            if 'NN' in subprod or 'NNP' in subprod:\n",
    "                yield ' '.join(word for word in subtree.leaves())\n",
    "\n",
    "\n",
    "def compute_token_spans(const_parse_sent, txt):\n",
    "    tokens = const_parse_sent.leaves()\n",
    "    offset = 0\n",
    "    for token in tokens:\n",
    "        offset = txt.find(token, offset)\n",
    "        yield token, offset, offset+len(token)\n",
    "        offset += len(token)\n",
    "\n",
    "        \n",
    "def assign_word_spans(noun_phrases_w_spans, doc, token_spans):\n",
    "    chunk_spans = []\n",
    "    for np in noun_phrases_w_spans:\n",
    "        char_span = [(m.start(), m.end()) for m in re.finditer(np, doc)][0]\n",
    "        start, end = char_span\n",
    "        start_w, end_w = None, None\n",
    "        for w_idx, token_span in enumerate(token_spans):\n",
    "            token, ts, te = token_span\n",
    "            if ts == start:\n",
    "                start_w = w_idx\n",
    "            if te == end:\n",
    "                end_w = w_idx + 1\n",
    "        if type(start_w) == int and type(end_w) == int:\n",
    "            chunk_spans.append([start_w, end_w])\n",
    "        else:\n",
    "            print('failed')\n",
    "    return chunk_spans\n",
    "\n",
    "\n",
    "def np_chunker(doc, parsed_sents):\n",
    "    noun_phrases = [list(extract_np(sent)) for sent in parsed_sents]\n",
    "#     noun_phrase_spans = [list(extract_np_spans(doc, sent)) for sent in noun_phrases]\n",
    "    token_spans = [list(compute_token_spans(sent, doc)) for sent in parsed_sents]\n",
    "    noun_phrase_spans = [assign_word_spans(noun_phrases[n], doc, token_spans[n]) for n in range(len(parsed_sents))]\n",
    "    return {'chunks': noun_phrase_spans, 'named_chunks': noun_phrases}"
   ]
  },
  {
   "cell_type": "markdown",
   "metadata": {
    "heading_collapsed": true
   },
   "source": [
    "# 6. clean and spellcheck"
   ]
  },
  {
   "cell_type": "code",
   "execution_count": 689,
   "metadata": {
    "hidden": true,
    "run_control": {
     "frozen": false,
     "read_only": false
    }
   },
   "outputs": [],
   "source": [
    "import enchant\n",
    "\n",
    "# import difflib\n",
    "# import diff_match_patch\n",
    "\n",
    "# dmp = diff_match_patch.diff_match_patch()\n",
    "\n",
    "edict = enchant.Dict(\"en_US\")\n",
    "anglo_edict = enchant.Dict(\"en_UK\")\n",
    "cached_sw = stopwords.words(\"english\") + list(string.punctuation)\n",
    "\n",
    "main_characters = {\n",
    "}\n",
    "\n",
    "other_chars_names = []\n",
    "\n",
    "other_words = []\n",
    "\n",
    "words_to_remove = []\n",
    "\n",
    "_ = [edict.remove_from_session(word) for word in words_to_remove]\n",
    "_ = [[edict.add(char_word.lower()) for char_word in char.split()] for char in list(main_characters) + other_chars_names + other_words]\n",
    "\n",
    "_ = [anglo_edict.remove_from_session(word) for word in words_to_remove]\n",
    "\n",
    "manual_corrections = {\n",
    "                     }\n",
    "\n",
    "def check_mispelled(word):\n",
    "    return word and word.isalpha() and not (edict.check(word))\n",
    "\n",
    "def check_word_rules(word):\n",
    "    split_len = 2 < min([len(w) for w in word.split()])\n",
    "    not_proper = word[0].islower()\n",
    "    return not_proper and split_len\n",
    "\n",
    "def correct_spelling_error(misspelled_word):\n",
    "    if misspelled_word in manual_corrections:\n",
    "        return manual_corrections[misspelled_word]\n",
    "    suggested_spellings = edict.suggest(misspelled_word)\n",
    "    match_ratios = [fuzz.token_sort_ratio(misspelled_word, word) for word in suggested_spellings]\n",
    "    words_sorted_by_ratio = sorted(zip(suggested_spellings, match_ratios), key=lambda x: x[1], reverse=True)\n",
    "    words_sorted_by_ratio = [wordscore for wordscore in words_sorted_by_ratio if check_word_rules(wordscore[0])]\n",
    "    check_compounds = [word[0] for word in words_sorted_by_ratio if word[0].replace(' ', '') == misspelled_word]\n",
    "    if check_compounds:\n",
    "        return check_compounds[0]\n",
    "    if words_sorted_by_ratio[0][1] > 80:\n",
    "        return words_sorted_by_ratio[0][0]\n",
    "\n",
    "    for word, score in words_sorted_by_ratio:\n",
    "        if score >= 75 and word[0] == misspelled_word[0]:\n",
    "            return word\n",
    "        elif score >= 75:                    \n",
    "            return word\n",
    "    return None\n",
    "\n",
    "def apply_spelling_fix(orig_text):\n",
    "    orig_text_tokens = wordpunct_tokenize(orig_text)\n",
    "    processed_tokens = []\n",
    "    for token in orig_text_tokens:\n",
    "        norm_token = token.lower()\n",
    "        if len(norm_token) < 4:\n",
    "            processed_tokens.append(token)\n",
    "            continue\n",
    "        if check_mispelled(norm_token):\n",
    "            suggested_replacements = edict.suggest(token)\n",
    "            replacement_text = correct_spelling_error(norm_token, suggested_replacements)\n",
    "            if replacement_text:\n",
    "                if norm_token[0].isupper():\n",
    "                    replacement_text = upper(replacement_text[0]) + replaced_text[1:]\n",
    "                processed_tokens.append(replacement_text)\n",
    "            else:\n",
    "                processed_tokens.append(token)\n",
    "        else:\n",
    "            processed_tokens.append(token)\n",
    "    return ' '.join(processed_tokens)\n",
    "\n",
    "def diff_corrected_text(orig_text, corrected_text):\n",
    "    diff = dmp.diff_main(orig_text, corrected_text)\n",
    "    return HTML(dmp.diff_prettyHtml(diff))\n",
    "\n",
    "def specify_lesson_q_path(lesson):\n",
    "    pass\n",
    "\n",
    "def apply_spelling_and_grammar_to_ds(ck12_ds):\n",
    "    return\n",
    "\n",
    "def spellcheck_entry(entry_words):\n",
    "    misspellings = [check_mispelled(word) for word in entry_words]\n",
    "    if sum(misspellings):\n",
    "        for idx, is_mispelled in enumerate(misspellings):\n",
    "            if is_mispelled:\n",
    "                suggested_replacement = correct_spelling_error(entry_words[idx])\n",
    "                if suggested_replacement:\n",
    "#                     words_changed.append([char_name_words[idx], suggested_replacement])\n",
    "                    entry_words[idx] = suggested_replacement\n",
    "        return entry_words\n",
    "    else:\n",
    "        return None\n",
    "\n",
    "def spellcheck_video(video):\n",
    "    corrected_words = []\n",
    "    for entity in video._data['characters'] + video._data['objects']:\n",
    "        if 'entityLabel' not in entity.data().keys():\n",
    "            pass\n",
    "        entry_words = wordpunct_tokenize(entity.data()['entityLabel'])\n",
    "#         print(entry_words)\n",
    "        new_corrected_words = spellcheck_entry(entry_words)\n",
    "        if new_corrected_words:\n",
    "            entity._data['originalSpelling'] = entity._data['entityLabel']\n",
    "            entity._data['entityLabel'] = ' '.join(new_corrected_words).replace(' , ', ', ').replace(' . ', '.')\n",
    "            corrected_words.append(new_corrected_words)\n",
    "    description_words = wordpunct_tokenize(video.description())\n",
    "    new_corrected_words = spellcheck_entry(description_words)\n",
    "    if new_corrected_words:\n",
    "        video._data['originalDescription'] = video._data['description']\n",
    "        video._data['description'] = ' '.join(new_corrected_words).replace(' , ', ', ').replace(' . ', '.')\n",
    "        corrected_words.append(new_corrected_words)\n",
    "    return corrected_words\n",
    "\n",
    "def spellcheck_dataset(dataset):\n",
    "    corrected = {}\n",
    "    for vid in dataset:\n",
    "        try:\n",
    "            corrections = spellcheck_video(vid)\n",
    "            if corrections:\n",
    "                corrected[vid.gid()] = corrections\n",
    "        except:\n",
    "            pass\n",
    "#             print(vid.gid())\n",
    "    return corrected\n",
    "\n",
    "def grammar_check_video(video):\n",
    "    all_errors = []\n",
    "    for entity in video._data['characters']:\n",
    "        errors = gram_checker.check(entity.data()['entityLabel'])\n",
    "        if errors:\n",
    "            all_errors.append(errors)\n",
    "    return all_errors\n",
    "\n",
    "def grammar_check_dataset(dataset):\n",
    "    corrected = {}\n",
    "    for vid in dataset:\n",
    "        corrections = grammar_check_video(vid)\n",
    "        if corrections:\n",
    "            corrected[vid.gid()] = corrections\n",
    "    return corrected"
   ]
  },
  {
   "cell_type": "markdown",
   "metadata": {
    "hidden": true
   },
   "source": [
    "## 6.1 grammar experiment"
   ]
  },
  {
   "cell_type": "code",
   "execution_count": 12,
   "metadata": {
    "hidden": true,
    "run_control": {
     "frozen": false,
     "read_only": false
    }
   },
   "outputs": [],
   "source": [
    "import language_check\n",
    "\n",
    "gram_checker = language_check.LanguageTool('en-US')\n",
    "gram_checker.disabled = set(['UPPERCASE_SENTENCE_START'])\n",
    "gram_checker.disable_spellchecking()"
   ]
  },
  {
   "cell_type": "code",
   "execution_count": 16,
   "metadata": {
    "hidden": true,
    "run_control": {
     "frozen": false,
     "read_only": false
    }
   },
   "outputs": [],
   "source": [
    "desc_with_errors = {}\n",
    "corrected_desc = {}\n",
    "for diag, desc_text in diagram_desc_dict.items():\n",
    "    errors = gram_checker.check(desc_text)\n",
    "    if errors:\n",
    "        desc_with_errors[diag] = errors\n",
    "        corrected_desc[diag] = gram_checker.correct(desc_text)"
   ]
  },
  {
   "cell_type": "code",
   "execution_count": null,
   "metadata": {
    "hidden": true,
    "run_control": {
     "frozen": false,
     "read_only": false
    }
   },
   "outputs": [],
   "source": []
  },
  {
   "cell_type": "code",
   "execution_count": null,
   "metadata": {
    "hidden": true,
    "run_control": {
     "frozen": false,
     "read_only": false
    }
   },
   "outputs": [],
   "source": []
  },
  {
   "cell_type": "code",
   "execution_count": null,
   "metadata": {
    "hidden": true,
    "run_control": {
     "frozen": false,
     "read_only": false
    }
   },
   "outputs": [],
   "source": []
  },
  {
   "cell_type": "code",
   "execution_count": null,
   "metadata": {
    "hidden": true,
    "run_control": {
     "frozen": false,
     "read_only": false
    }
   },
   "outputs": [],
   "source": []
  },
  {
   "cell_type": "code",
   "execution_count": 58,
   "metadata": {
    "hidden": true,
    "run_control": {
     "frozen": false,
     "read_only": false
    }
   },
   "outputs": [],
   "source": [
    "import viterbi_tagger, perceptron_tagger, cfg\n",
    "\n",
    "# test values for developers\n",
    "test_sentence = [\"I\", \"saw\", \"the\", \"duck\"]\n",
    "cfg_test = [\"NNP\",\"VBD\",\"NNP\"]\n",
    "from nltk.corpus import conll2000, brown"
   ]
  },
  {
   "cell_type": "code",
   "execution_count": null,
   "metadata": {
    "hidden": true,
    "run_control": {
     "frozen": false,
     "read_only": false
    }
   },
   "outputs": [],
   "source": [
    "# Build HMM\n",
    "print(\"Generating Hidden Markov Model...\")\n",
    "viterbi_tagger = viterbi_tagger.PartOfSpeechTagger()\n",
    "# Build probability distributions for each of the corpora we want to use\n",
    "print(\"Building POS tag probability distributions based on...\")\n",
    "print(\"Corpora 1: Conll2000,\")\n",
    "viterbi_tagger.buildProbDist(conll2000)\n",
    "print(\"Corpora 2: Brown.\")\n",
    "viterbi_tagger.buildProbDist(brown)"
   ]
  },
  {
   "cell_type": "code",
   "execution_count": null,
   "metadata": {
    "hidden": true,
    "run_control": {
     "frozen": false,
     "read_only": false
    }
   },
   "outputs": [],
   "source": [
    "#Train the AP Tagger weights\n",
    "print(\"Prepare Averaged Perceptron tagger based on tagged corpora\")\n",
    "# taggerAP = perceptron_tagger.AP_Tagger(False)\n",
    "#\n",
    "# Build CFG rule set based on treebank\n",
    "print(\"Generating Context Free Grammar based on Treebank...\")\n",
    "cfg_checker = cfg.Grammar()\n",
    "tbank_grammar = cfg_checker.buildFromTreebank()\n",
    "#\n",
    "# Loop input to get and check sentences\n",
    "print(\"If an input word is not in the corpora, the averaged perceptron \\\n",
    "tagger will be used instead of the Viterbi tagger.\\n\")"
   ]
  },
  {
   "cell_type": "code",
   "execution_count": null,
   "metadata": {
    "hidden": true,
    "run_control": {
     "frozen": false,
     "read_only": false
    }
   },
   "outputs": [],
   "source": [
    "# while True:\n",
    "#     tag_sequence = viterbi_tagger.inputToPOS()\n",
    "#     print(\"TAG SEQUENCE:\", tag_sequence)\n",
    "#     cfg_checker.verify(tbank_grammar, tag_sequence)"
   ]
  },
  {
   "cell_type": "markdown",
   "metadata": {
    "heading_collapsed": true
   },
   "source": [
    "# 7. MS coco captions"
   ]
  },
  {
   "cell_type": "code",
   "execution_count": 12,
   "metadata": {
    "hidden": true,
    "run_control": {
     "frozen": false,
     "read_only": false
    }
   },
   "outputs": [],
   "source": [
    "with open('/Users/schwenk/wrk/pictionary/coco/annotations/captions_train2014.json') as f:\n",
    "    coco_captions = json.load(f)"
   ]
  },
  {
   "cell_type": "code",
   "execution_count": 641,
   "metadata": {
    "hidden": true,
    "run_control": {
     "frozen": false,
     "read_only": false
    }
   },
   "outputs": [],
   "source": [
    "caption_sentences = [c['caption'] for c in coco_captions['annotations']]"
   ]
  },
  {
   "cell_type": "code",
   "execution_count": 642,
   "metadata": {
    "hidden": true,
    "run_control": {
     "frozen": false,
     "read_only": false
    }
   },
   "outputs": [
    {
     "data": {
      "text/plain": [
       "414113"
      ]
     },
     "execution_count": 642,
     "metadata": {},
     "output_type": "execute_result"
    }
   ],
   "source": [
    "len(caption_sentences)"
   ]
  },
  {
   "cell_type": "code",
   "execution_count": 25,
   "metadata": {
    "hidden": true,
    "run_control": {
     "frozen": false,
     "read_only": false
    }
   },
   "outputs": [
    {
     "name": "stderr",
     "output_type": "stream",
     "text": [
      "100%|██████████| 414113/414113 [00:45<00:00, 9010.75it/s]\n"
     ]
    }
   ],
   "source": [
    "caption_corpus = [w for s in tqdm(caption_sentences) for w in word_tokenize(s)]\n",
    "\n",
    "# tokenized_corpus = word_tokenize(caption_corpus)"
   ]
  },
  {
   "cell_type": "code",
   "execution_count": 26,
   "metadata": {
    "hidden": true,
    "run_control": {
     "frozen": false,
     "read_only": false
    }
   },
   "outputs": [],
   "source": [
    "caption_token_set = list(set(caption_corpus))"
   ]
  },
  {
   "cell_type": "code",
   "execution_count": 50,
   "metadata": {
    "hidden": true,
    "run_control": {
     "frozen": false,
     "read_only": false
    }
   },
   "outputs": [
    {
     "name": "stderr",
     "output_type": "stream",
     "text": [
      "100%|██████████| 4680702/4680702 [00:14<00:00, 322245.31it/s]\n"
     ]
    }
   ],
   "source": [
    "normalized_tokens = []\n",
    "for toke in tqdm(caption_corpus):\n",
    "    clean_toke = toke.strip().lower()\n",
    "    if clean_toke not in cached_sw and clean_toke:\n",
    "        normalized_tokens.append(clean_toke)"
   ]
  },
  {
   "cell_type": "code",
   "execution_count": 51,
   "metadata": {
    "hidden": true,
    "run_control": {
     "frozen": false,
     "read_only": false
    }
   },
   "outputs": [],
   "source": [
    "token_counts = Counter(normalized_tokens)"
   ]
  },
  {
   "cell_type": "code",
   "execution_count": 643,
   "metadata": {
    "hidden": true,
    "run_control": {
     "frozen": false,
     "read_only": false
    },
    "scrolled": true
   },
   "outputs": [
    {
     "data": {
      "text/plain": [
       "[('man', 51530),\n",
       " ('sitting', 36823),\n",
       " ('two', 34093),\n",
       " ('standing', 30060),\n",
       " ('people', 29662),\n",
       " ('next', 25916),\n",
       " ('white', 25383),\n",
       " ('woman', 24220),\n",
       " ('table', 21318),\n",
       " ('street', 21190),\n",
       " ('holding', 19435),\n",
       " ('person', 17428),\n",
       " ('large', 17179),\n",
       " ('top', 15478),\n",
       " ('group', 15245),\n",
       " ('field', 14655),\n",
       " ('small', 14126),\n",
       " ('near', 13714),\n",
       " ('tennis', 13652),\n",
       " ('front', 13527),\n",
       " ('black', 13395),\n",
       " ('plate', 12997),\n",
       " ('room', 12939),\n",
       " ('train', 12758),\n",
       " ('riding', 12672),\n",
       " ('dog', 12669),\n",
       " ('red', 12080),\n",
       " ('young', 11952),\n",
       " ('cat', 11731),\n",
       " ('water', 11534),\n",
       " ('baseball', 11398),\n",
       " ('walking', 10327),\n",
       " ('playing', 10257),\n",
       " ('bathroom', 10111),\n",
       " ('sign', 9714),\n",
       " ('blue', 9573),\n",
       " ('food', 9394),\n",
       " ('kitchen', 9366),\n",
       " ('grass', 9215),\n",
       " ('bus', 8990),\n",
       " ('pizza', 8791),\n",
       " ('parked', 8775),\n",
       " ('green', 8736),\n",
       " ('side', 8571),\n",
       " ('building', 8376),\n",
       " ('looking', 8348),\n",
       " ('snow', 8317),\n",
       " ('bed', 8288),\n",
       " ('ball', 7989),\n",
       " ('beach', 7953),\n",
       " ('couple', 7851),\n",
       " ('three', 7774),\n",
       " ('boy', 7768),\n",
       " ('men', 7675),\n",
       " ('flying', 7289),\n",
       " ('toilet', 7286),\n",
       " ('city', 7213),\n",
       " ('road', 7101),\n",
       " ('skateboard', 7005),\n",
       " ('wearing', 6938),\n",
       " ('player', 6914),\n",
       " ('clock', 6890),\n",
       " ('game', 6816),\n",
       " ('several', 6619),\n",
       " ('girl', 6614),\n",
       " ('laying', 6602),\n",
       " ('sits', 6425),\n",
       " ('wooden', 6332),\n",
       " ('bear', 6179),\n",
       " ('picture', 6159),\n",
       " ('bench', 6090),\n",
       " ('area', 6087),\n",
       " ('one', 6080),\n",
       " ('around', 6079),\n",
       " ('laptop', 6029),\n",
       " ('eating', 5973),\n",
       " ('cake', 5929),\n",
       " ('horse', 5836),\n",
       " ('brown', 5810),\n",
       " ('yellow', 5807),\n",
       " ('phone', 5672),\n",
       " ('board', 5648),\n",
       " ('sink', 5647),\n",
       " ('giraffe', 5639),\n",
       " ('computer', 5623),\n",
       " ('frisbee', 5566),\n",
       " ('outside', 5443),\n",
       " ('living', 5439),\n",
       " ('air', 5412),\n",
       " ('truck', 5319),\n",
       " ('window', 5177),\n",
       " ('desk', 5133),\n",
       " (\"'s\", 5105),\n",
       " ('car', 4986),\n",
       " ('trees', 4982),\n",
       " ('umbrella', 4966),\n",
       " ('motorcycle', 4941),\n",
       " ('tree', 4902),\n",
       " ('open', 4890),\n",
       " ('covered', 4874)]"
      ]
     },
     "execution_count": 643,
     "metadata": {},
     "output_type": "execute_result"
    }
   ],
   "source": [
    "token_counts.most_common(100)"
   ]
  },
  {
   "cell_type": "code",
   "execution_count": 49,
   "metadata": {
    "hidden": true,
    "run_control": {
     "frozen": false,
     "read_only": false
    },
    "scrolled": true
   },
   "outputs": [
    {
     "data": {
      "text/plain": [
       "31498"
      ]
     },
     "execution_count": 49,
     "metadata": {},
     "output_type": "execute_result"
    }
   ],
   "source": [
    "len(normalized_tokens)"
   ]
  },
  {
   "cell_type": "code",
   "execution_count": 48,
   "metadata": {
    "hidden": true,
    "run_control": {
     "frozen": false,
     "read_only": false
    }
   },
   "outputs": [
    {
     "data": {
      "text/plain": [
       "'A group of teddy bears are in a basket.'"
      ]
     },
     "execution_count": 48,
     "metadata": {},
     "output_type": "execute_result"
    }
   ],
   "source": [
    "random.choice(caption_sentences)"
   ]
  },
  {
   "cell_type": "code",
   "execution_count": 650,
   "metadata": {
    "hidden": true,
    "run_control": {
     "frozen": false,
     "read_only": false
    }
   },
   "outputs": [],
   "source": [
    "cap_df = pd.DataFrame(caption_sentences)\n",
    "cap_df.columns = ['cap']"
   ]
  },
  {
   "cell_type": "code",
   "execution_count": 652,
   "metadata": {
    "hidden": true,
    "run_control": {
     "frozen": false,
     "read_only": false
    }
   },
   "outputs": [],
   "source": [
    "cap_df['len'] = cap_df['cap'].str.len()"
   ]
  },
  {
   "cell_type": "code",
   "execution_count": 654,
   "metadata": {
    "hidden": true,
    "run_control": {
     "frozen": false,
     "read_only": false
    }
   },
   "outputs": [
    {
     "data": {
      "text/plain": [
       "<matplotlib.axes._subplots.AxesSubplot at 0x1a057dd30>"
      ]
     },
     "execution_count": 654,
     "metadata": {},
     "output_type": "execute_result"
    },
    {
     "data": {
      "image/png": "[encoded data removed]",
      "text/plain": [
       "<Figure size 1152x720 with 1 Axes>"
      ]
     },
     "metadata": {},
     "output_type": "display_data"
    }
   ],
   "source": [
    "cap_df['len'].hist(bins=30)"
   ]
  },
  {
   "cell_type": "code",
   "execution_count": 671,
   "metadata": {
    "hidden": true,
    "run_control": {
     "frozen": false,
     "read_only": false
    }
   },
   "outputs": [],
   "source": [
    "cap_len_thresh = 30\n",
    "short_caps = cap_df[cap_df['len'] < 35]"
   ]
  },
  {
   "cell_type": "code",
   "execution_count": 672,
   "metadata": {
    "hidden": true,
    "run_control": {
     "frozen": false,
     "read_only": false
    }
   },
   "outputs": [],
   "source": [
    "short_cap_l = short_caps['cap'].tolist()"
   ]
  },
  {
   "cell_type": "code",
   "execution_count": 673,
   "metadata": {
    "hidden": true,
    "run_control": {
     "frozen": false,
     "read_only": false
    }
   },
   "outputs": [
    {
     "data": {
      "text/plain": [
       "6051"
      ]
     },
     "execution_count": 673,
     "metadata": {},
     "output_type": "execute_result"
    }
   ],
   "source": [
    "len(short_cap_l)"
   ]
  },
  {
   "cell_type": "code",
   "execution_count": 674,
   "metadata": {
    "hidden": true,
    "run_control": {
     "frozen": false,
     "read_only": false
    }
   },
   "outputs": [],
   "source": [
    "blacklist_removed = [s for s in simple_sentences if not set([w.lower() for w in s.split()]).intersection(word_blacklist)]"
   ]
  },
  {
   "cell_type": "code",
   "execution_count": 675,
   "metadata": {
    "hidden": true,
    "run_control": {
     "frozen": false,
     "read_only": false
    }
   },
   "outputs": [
    {
     "name": "stderr",
     "output_type": "stream",
     "text": [
      "100%|██████████| 6051/6051 [00:00<00:00, 58634.96it/s]\n"
     ]
    }
   ],
   "source": [
    "common_short = [c for c in tqdm(short_cap_l) if least_common_word(c, 4)]"
   ]
  },
  {
   "cell_type": "code",
   "execution_count": 676,
   "metadata": {
    "hidden": true,
    "run_control": {
     "frozen": false,
     "read_only": false
    }
   },
   "outputs": [
    {
     "data": {
      "text/plain": [
       "3446"
      ]
     },
     "execution_count": 676,
     "metadata": {},
     "output_type": "execute_result"
    }
   ],
   "source": [
    "len(common_short)"
   ]
  },
  {
   "cell_type": "code",
   "execution_count": 677,
   "metadata": {
    "hidden": true,
    "run_control": {
     "frozen": false,
     "read_only": false
    }
   },
   "outputs": [
    {
     "data": {
      "text/plain": [
       "['six people on a bus at night time',\n",
       " 'A woman in green is riding a bike.',\n",
       " 'This is a bathroom sink in a hotel',\n",
       " 'A view of a mirror in a bathroom.',\n",
       " 'Guy reading with a dog on his lap.',\n",
       " 'A car is shown next to other cars.',\n",
       " 'A man with his through a fake tv.',\n",
       " 'This is a toilet with a black top\\n',\n",
       " 'A cat is sitting next to a car.',\n",
       " 'A man holding a baby in a kitchen.']"
      ]
     },
     "execution_count": 677,
     "metadata": {},
     "output_type": "execute_result"
    }
   ],
   "source": [
    "common_short[:10]"
   ]
  },
  {
   "cell_type": "code",
   "execution_count": 680,
   "metadata": {
    "hidden": true,
    "run_control": {
     "frozen": false,
     "read_only": false
    }
   },
   "outputs": [],
   "source": [
    "color_set = set(colors)"
   ]
  },
  {
   "cell_type": "code",
   "execution_count": 683,
   "metadata": {
    "hidden": true,
    "run_control": {
     "frozen": false,
     "read_only": false
    }
   },
   "outputs": [],
   "source": [
    "blacklist_removed = [s for s in common_short if not set([w.lower() for w in s.split()]).intersection(color_set)]"
   ]
  },
  {
   "cell_type": "code",
   "execution_count": 684,
   "metadata": {
    "hidden": true,
    "run_control": {
     "frozen": false,
     "read_only": false
    }
   },
   "outputs": [
    {
     "data": {
      "text/plain": [
       "3013"
      ]
     },
     "execution_count": 684,
     "metadata": {},
     "output_type": "execute_result"
    }
   ],
   "source": [
    "len(blacklist_removed)"
   ]
  },
  {
   "cell_type": "code",
   "execution_count": 685,
   "metadata": {
    "hidden": true,
    "run_control": {
     "frozen": false,
     "read_only": false
    }
   },
   "outputs": [
    {
     "data": {
      "text/plain": [
       "['six people on a bus at night time',\n",
       " 'This is a bathroom sink in a hotel',\n",
       " 'A view of a mirror in a bathroom.',\n",
       " 'Guy reading with a dog on his lap.',\n",
       " 'A car is shown next to other cars.',\n",
       " 'A man with his through a fake tv.',\n",
       " 'A cat is sitting next to a car.',\n",
       " 'A man holding a baby in a kitchen.',\n",
       " 'a public transit bus at a bus stop',\n",
       " 'Two men sit laughing on a bench. ',\n",
       " 'a counter top with a plate of food',\n",
       " 'a toy ,with a dog riding a bike ',\n",
       " 'A cat is lying awake on a car hood',\n",
       " 'A bunch of food on a counter top.',\n",
       " 'A dog and a man play in the snow.',\n",
       " 'A man on his laptop in the kitchen',\n",
       " 'A picture of a sink in a bathroom.',\n",
       " 'A bird sits on top of a car',\n",
       " 'A picture of a bike by a building.',\n",
       " 'A picture of a bike on the road.',\n",
       " 'New bike is taken out of its box.',\n",
       " 'A little girl plays with a toy gun',\n",
       " 'A woman mixing some food in a pot.',\n",
       " 'a young woman uses her cell phone ',\n",
       " 'A woman who has a cat on her back.',\n",
       " 'A bathroom door with a sink by it.',\n",
       " 'A side view of a room in a house.',\n",
       " 'A sink that is on top of a table.',\n",
       " 'A person that is naked on a couch.',\n",
       " 'A desk that has some books on it.',\n",
       " 'A man with a hat is on a horse.',\n",
       " 'A cat has a mouse in his mouth.',\n",
       " 'A BOY IS JUMPING ON THE SIDE WALK ',\n",
       " 'A his and her sink in a bathroom',\n",
       " 'A toilet is sitting up on a step.',\n",
       " 'A man on a bike on a busy street',\n",
       " 'A portrait of a man with a beard.',\n",
       " 'Actors in an old cabin in a museum',\n",
       " 'The kitchen is set up for a meal.',\n",
       " 'A rock under a tree in a park',\n",
       " 'A man with a suit on and a hat.',\n",
       " 'a man in a tie sits on a bench',\n",
       " 'A mirror on a wall in a bathroom. ',\n",
       " 'A toilet at the end of a bathroom',\n",
       " 'The view of a sink in a bathroom.',\n",
       " 'A wet bar with a sink and soap.',\n",
       " 'A sink and a mirror in a bathroom.',\n",
       " 'A bathroom has a fish tank in it.',\n",
       " 'A sink in a room with stone walls.',\n",
       " 'There is a man waiting for a ride.',\n",
       " 'A dog is laying down on the floor.',\n",
       " 'A cat sits on the back of a man.  ',\n",
       " 'A cat sitting on top of a car.',\n",
       " 'I am unable to see an image above.',\n",
       " 'an image of three guys on a bike',\n",
       " 'an image of a man on the phone',\n",
       " 'A man on a bike near the beach. ',\n",
       " 'A picture of a bathroom up close ',\n",
       " 'I am unable to see an image above.',\n",
       " 'A bath and a sink in a small room.',\n",
       " 'A sink and a toilet in a bathroom.',\n",
       " 'A man holding a dog in a kitchen.',\n",
       " 'A woman on a bench with a laptop.',\n",
       " 'A sink and a window in a kitchen.',\n",
       " 'a kitchen with a sink and a window',\n",
       " 'A cat laying on top of a surface.',\n",
       " 'A sink and a mirror in a bathroom.',\n",
       " 'A man on a motor bike on a road.',\n",
       " 'A sink and toilet in a small room.',\n",
       " 'A cat is in a car by a blanket.',\n",
       " 'a cat sits and looks up at a car ',\n",
       " 'A bath and a sink in a small room.',\n",
       " 'A bus that is driving on the road.',\n",
       " 'A man and a bike by a large bus.',\n",
       " 'A group of people sit on a bench.',\n",
       " 'a close up of a sink with a mirror',\n",
       " 'a cat in a toilet in a bath room',\n",
       " 'A bath and toilet in a small room.',\n",
       " 'A sink and mirror in a small room.',\n",
       " 'A sink and mirror in a small room.',\n",
       " 'A man on a bike with a small dog.',\n",
       " 'A sink and bath in a small room.',\n",
       " 'A bath and window in a large room.',\n",
       " 'A clock and a counter in a room.',\n",
       " 'A sink and window in a small room.',\n",
       " 'A bowl of rice on a wooden table.',\n",
       " 'many people and dogs in a field ',\n",
       " 'a cat in the trunk of a car ',\n",
       " 'A person on a bike on a street.',\n",
       " 'A mirror in a room above a sink.',\n",
       " 'a bike store on a indian street ',\n",
       " 'A jet inside of a museum show room',\n",
       " 'a cat laying on a car driver seat',\n",
       " 'a sink sits in front of a mirror ',\n",
       " 'A counter and a plate on a table.',\n",
       " 'A bed and door in a small room.',\n",
       " 'A bath and sink in a small room.',\n",
       " 'A man with a bike passing a car',\n",
       " 'A man is working in a home kitchen',\n",
       " 'A sink and window in a small room.',\n",
       " 'A chair and a table in a room.',\n",
       " 'A sink and toilet in a small room.',\n",
       " 'A cat laying in a sink staring up.',\n",
       " 'A light that is on above a mirror.',\n",
       " 'A person and a dog on a bike.',\n",
       " 'A cat sitting on top of a bike.',\n",
       " 'THERE IS A DOG LYING ON THE STEP ',\n",
       " 'A DOG IS JUMPING HIGH IN THE AIR ',\n",
       " 'A very cute cat on top of a bike.',\n",
       " 'A sink and a toilet in a bathroom',\n",
       " 'A toilet and sink in a bathroom ',\n",
       " 'A man and a woman next to a horse.',\n",
       " 'a room showing a toilet and a sink',\n",
       " 'A cat that is sitting on a sink.',\n",
       " 'a child at a table preparing food ',\n",
       " 'A mirror and sink in a bathroom. ',\n",
       " 'An open toilet door and a mirror ',\n",
       " 'a man that is on top of his bike',\n",
       " 'A man that is sitting at a laptop.',\n",
       " 'A cat that is sitting on a car.',\n",
       " 'A bottle and a mirror in a room.',\n",
       " 'A person with a tie in a room.',\n",
       " 'a room showing a sink and a toilet',\n",
       " 'A man looks out from a window. ',\n",
       " 'The man holds a phone to his ear. ',\n",
       " 'a man is cutting a big turkey ',\n",
       " 'A table and a chair in a room.',\n",
       " 'A dog is standing next to a person',\n",
       " 'A chair and a sink in a kitchen.',\n",
       " 'A person in a room holding a cat.',\n",
       " 'A toilet and a window in a room.',\n",
       " 'a couple of kids riding on a bike',\n",
       " 'a cat is laying in a bathroom sink',\n",
       " 'The man led the horse on a rope.',\n",
       " 'A mirror and a window in a room.',\n",
       " 'A woman that is sitting on a bike.',\n",
       " 'A sink that has a mirror over it.',\n",
       " 'A kitchen sink in a hotel room. ',\n",
       " 'a bathroom with a large sink in it',\n",
       " 'A kitchen in a large empty house ',\n",
       " 'two people at a table with a cake ',\n",
       " 'A boy and girl are in the kitchen.',\n",
       " 'A light that is on above a mirror.',\n",
       " 'A cat is under the back of a car.',\n",
       " 'A man walking his dog in the park.',\n",
       " 'A man who is working on a laptop.',\n",
       " 'a man working on a laptop on a bus',\n",
       " 'a woman takes a pic of a sink ',\n",
       " 'A person and a bed in a room.',\n",
       " 'A cat is playing in a wash room.',\n",
       " 'A woman with a cake in a room.',\n",
       " 'A bed and a bath in a room.',\n",
       " 'a small bike is sitting in a room',\n",
       " 'A guy in a bow tie tips his hat.',\n",
       " 'A part of a shadow of an bike. ',\n",
       " 'a cat is standing up in a bathroom',\n",
       " 'a kitchen that has a ice box in it',\n",
       " 'a number of people in a kitchen ',\n",
       " 'a bike that is on a metal fence',\n",
       " 'a bike that has a bench in it',\n",
       " 'a sink and a window in a bathroom',\n",
       " 'a man that is riding on a bike',\n",
       " 'a bathroom that has a sink in it',\n",
       " 'A man and woman cook in a kitchen.',\n",
       " 'A man and woman are in the kitchen',\n",
       " 'A toilet and a window in a room.',\n",
       " 'A room with a sink and a mirror. ',\n",
       " 'a car is behind a truck on a road',\n",
       " 'a room showing a sink and a toilet',\n",
       " 'a man that is sitting in a window',\n",
       " 'a man on a bike with his dog',\n",
       " 'a lady that is in a big kitchen',\n",
       " 'A cat is sitting on top of a car.',\n",
       " 'a lock on a door under a window',\n",
       " 'A jet that has the top of it open.',\n",
       " 'A view of a tiny kitchen and sink.',\n",
       " 'a room with many things and a sink',\n",
       " 'a man on a bike with so much loads',\n",
       " 'a pan with some food on a table',\n",
       " 'a kitchen with a map on the wall ',\n",
       " 'A man enjoying a ride on a bike',\n",
       " 'a bike that is next to a road way',\n",
       " 'a traffic light on a city street ',\n",
       " 'A cat that is sitting in a sink.',\n",
       " 'A man feeding a wild bird by hand.',\n",
       " 'a light is hanging in a wood room',\n",
       " 'A man that is sitting on a bike.',\n",
       " 'a bath room with a fish bowl ',\n",
       " 'A man that is sitting on a bike.',\n",
       " 'A man that is sitting on a bike.',\n",
       " 'a bathroom that has a toilet in it',\n",
       " 'a room that has wooden walls in it',\n",
       " 'a lady in a dress riding a bike',\n",
       " 'A bike that is next to a bench.',\n",
       " 'A toilet that is next to a sink.',\n",
       " 'A lit bathroom with a sink in it.',\n",
       " 'a cat is standing on a car window',\n",
       " 'A woman using a walker in a home.',\n",
       " 'a small cat is on top of a car',\n",
       " 'A light that is on above a mirror.',\n",
       " 'a fold up bike next to a desk',\n",
       " 'a room with a sink and a mirror',\n",
       " 'a man is riding a board in a bowl',\n",
       " 'a man is laying down in a bathroom',\n",
       " 'an image of some cars on a street ',\n",
       " 'An old man is sitting on a bench.',\n",
       " 'a close up of a person with a dog ',\n",
       " 'A woman at a table with a laptop.',\n",
       " 'Man on a TV in a Asian Bus\\n',\n",
       " 'A cat is climbing up a book shelf',\n",
       " 'The seat is up on a public toilet.',\n",
       " 'A bowl of fruit sitting on a table',\n",
       " 'A plane taking off in the sun set.',\n",
       " 'A plane in a field of high grass.',\n",
       " 'A plane is shown next to a cloud.',\n",
       " 'A man cutting his cake at a party.',\n",
       " 'a big air plane on a run way',\n",
       " 'a big air plane at an air port',\n",
       " 'A flight taking a turn in the sky.',\n",
       " 'a race car a building and a jet',\n",
       " 'A desk with two computers on it. ',\n",
       " 'There is a clock on a church tower',\n",
       " 'This is a cat sitting in a bowl.',\n",
       " 'A dog is driving a small toy car.',\n",
       " 'a large air plane at an air port',\n",
       " 'A group of jet perform in the sky.',\n",
       " 'A picture of a plane in the sky. ',\n",
       " 'A shelf full of books and a cat.',\n",
       " 'A TV and a bed in a room.',\n",
       " 'A toilet that is in a dirty room.',\n",
       " 'A bowl of food sitting on a table.',\n",
       " 'A plane flying high up in the sky.',\n",
       " 'The back door of a house at night.',\n",
       " 'an image of the top of a church',\n",
       " 'a tall tower with a clock on top',\n",
       " 'A dog sitting on top of a toilet.',\n",
       " 'An American jet flies in the air. ',\n",
       " 'A cat is in a small model plane. ',\n",
       " 'A mirror on the side of a vehicle.',\n",
       " 'A man sits in front of a computer.',\n",
       " 'A picture of a bird by a mirror.',\n",
       " 'A plane that is about to take off.',\n",
       " 'A picture of a car in some water.',\n",
       " 'There is a TV at the end of a bed',\n",
       " 'A computer and a phone on a table.',\n",
       " 'A cop stopping a person in a car.',\n",
       " 'A tv screen on a desk with phones',\n",
       " 'A large wall with a small tv on it',\n",
       " 'Two people and a dish on a bike.',\n",
       " 'a stone castle with a large clock ',\n",
       " 'A picture of a plane in the air.',\n",
       " 'A lot of food that is in a bowl.',\n",
       " 'A side of a house that is wooden.',\n",
       " 'A close up of a clean toilet bowl',\n",
       " 'A car waiting for a train to pass.',\n",
       " 'There is a TV next to a hotel bed',\n",
       " 'A table with a lot of food on it.',\n",
       " 'A plane that is flying in the air.',\n",
       " 'A MOTOR BIKE IS IN THE GRASS ',\n",
       " 'An air force jet flying in the sky',\n",
       " 'THERE IS A MAN STANDING BY A BIKE ',\n",
       " 'A boy in a car on a laptop',\n",
       " 'A ROOM WITH A WINDOW IN IT ',\n",
       " 'A laptop is open and on a desk. ',\n",
       " 'A man in a suit playing an organ. ',\n",
       " 'a close up of a dog in a door way',\n",
       " 'A man playing a piano in a room.',\n",
       " 'a close up of a jet on a run way',\n",
       " 'A woman is sitting on a park bench',\n",
       " 'A military style jet on a run way.',\n",
       " 'A parade with a bike squad in it.',\n",
       " 'A plane in a airport parking lot. ',\n",
       " 'A man standing in front of a bus.',\n",
       " 'A bench in the grass in a park. ',\n",
       " 'A tiny bowl of fruit and a penny',\n",
       " 'a bucket is next to the toilet. \\n',\n",
       " 'An old tower with a clock on it.',\n",
       " 'A cat on a desk sitting in a box.',\n",
       " 'A sink and a toilet in a bathroom.',\n",
       " 'I am unable to see an image above.',\n",
       " 'Two large air planes on a run way.',\n",
       " 'A cup of coffee on a wooden bench.',\n",
       " 'There is a plane flying in the sky',\n",
       " 'a close up of a tv on the ground',\n",
       " 'a guy sitting in traffic on a bike',\n",
       " 'an image of a person on a laptop',\n",
       " 'I am unable to see an image above.',\n",
       " 'a close up of an air plane wing',\n",
       " 'A bed and some books in a room.',\n",
       " 'A statue with a bird on top of it.',\n",
       " 'a close up of a laptop on a table',\n",
       " 'A plate of cooked food on a table.',\n",
       " 'A man hanging on to a motor bike.',\n",
       " 'A man laying on a bed in a room.',\n",
       " 'a cat drinking water out of a bowl',\n",
       " 'a motor cycle in front of a store',\n",
       " 'A bike of some sort near a home.',\n",
       " 'Some fruit and a woman at a table.',\n",
       " 'A laptop in a room on a table.',\n",
       " 'A cat that is looking at a tv.',\n",
       " 'A desk and chair in a small room.',\n",
       " 'a plane is shown behind a board ',\n",
       " 'a space ship on a large air plane',\n",
       " 'a mess of grass covering up a bike',\n",
       " 'a man holding a dog under his arm ',\n",
       " 'A man who is holding a small dog.',\n",
       " 'A large bowl of fruit on a table.',\n",
       " 'A bed and a desk in a small room.',\n",
       " 'a large air plane on an air port ',\n",
       " 'A lot of food that is in a bowl.',\n",
       " 'a large air plane on a run way',\n",
       " 'a small air plane on a run way',\n",
       " 'A picture of a mirror on a bike.',\n",
       " 'a clock at the top of a tall tower',\n",
       " 'A car and a bus on a city street.',\n",
       " 'A cat laying down next to a door.',\n",
       " 'a large air plane on a run way',\n",
       " 'A computer and a laptop on a desk.',\n",
       " 'A laptop is on a stand on a desk',\n",
       " 'Many bags of chips are on a bench.',\n",
       " 'A street light that is on a pole.',\n",
       " 'A toilet and a sink in a room.',\n",
       " 'A man is in the air on a dirt bike',\n",
       " 'A man on a motor bike on a street.',\n",
       " 'A cat is standing on a open toilet',\n",
       " 'a table with tea and a cake on it',\n",
       " 'a large air plane on a run way',\n",
       " 'a large air plane on a run way',\n",
       " 'A person on motor bike on a road.',\n",
       " 'a large air plane on a run way',\n",
       " 'a Ryan Air plan is in flight ',\n",
       " 'A very cute cat laying in a bowl.',\n",
       " 'a large air plane on a run way',\n",
       " 'A plane that is flying in the air.',\n",
       " 'A chair and books in a small room.',\n",
       " 'A sign on a wall on a street.',\n",
       " 'A fire place and a door in a room.',\n",
       " 'a large air plane on a run way',\n",
       " 'a large air plane on a run way',\n",
       " 'two large air planes on a run way',\n",
       " 'a large air plane on a run way',\n",
       " 'a large air plane flying in he sky',\n",
       " 'a close up of a laptop on a table ',\n",
       " 'A dog sitting on a bike outside. ',\n",
       " 'THERE IS A MAN ON A MOTOR BIKE',\n",
       " 'a large air plane on a run way',\n",
       " 'a large air plane on a run way',\n",
       " 'A cat looks out of a back pack.',\n",
       " 'a large air plane on a run way',\n",
       " 'A dog is eating from a dog bowl. ',\n",
       " 'a man eating at his work desk ',\n",
       " 'The alter of a large old church ',\n",
       " 'A laptop and a computer on a desk',\n",
       " 'some fruits in a bowl on a table',\n",
       " 'A plane flying high on a clear sky',\n",
       " 'A women who is laying on a bench.',\n",
       " 'a toilet sits on a wooden floor ',\n",
       " 'A bowl of fruit next to a penny ',\n",
       " 'A crowded traffic area of a city ',\n",
       " 'A plate of food on a table ',\n",
       " 'Dust on a busy street in a city.',\n",
       " 'a drawing of the inside of plane ',\n",
       " 'A bench is in a park and is empty.',\n",
       " 'a large air plane on a run way',\n",
       " 'a large air plane on a run way',\n",
       " 'A tower that has a clock on it.',\n",
       " 'a toilet next to a parking meter ',\n",
       " 'Many bird sit on a wooden stand. ',\n",
       " 'There is a man on the TV screen.',\n",
       " 'a large air plane in a run way',\n",
       " 'a group of kids near a toilet ',\n",
       " 'a large air plane on a run way',\n",
       " 'A toy is arranged in a toy room.',\n",
       " 'a clock on the top of a building',\n",
       " 'a bunch of food that is on a plate',\n",
       " 'a large air plane on a run way',\n",
       " 'a bowl full of some kind of soup',\n",
       " 'a man is standing next to a plane',\n",
       " 'A man wearing a hat and glasses ',\n",
       " 'A cat sleeping a bowl on a table.',\n",
       " 'a large air plane on a run way',\n",
       " 'a small air plane on a run way',\n",
       " 'A light that is on in a bathroom.',\n",
       " 'The woman holds a cat near the car',\n",
       " 'A bench in the shade in a park.',\n",
       " 'A cow that is walking in a field.',\n",
       " 'a man that has a big bag of fruit',\n",
       " 'a large plane is flying in the sky',\n",
       " 'a large plane is flying in the sky',\n",
       " 'A toilet and some plant in a room.',\n",
       " 'A large cake on a table in a room.',\n",
       " 'a man is half way on to a train',\n",
       " 'A happy dog in the back of a car.',\n",
       " 'a bed room with a tv and a bed ',\n",
       " 'a guy standing next to a old plane',\n",
       " 'The door to a toilet room is open.',\n",
       " 'a bowl of food that is on a table',\n",
       " 'there is a toilet in a wooden box ',\n",
       " 'a dog sitting in front of a door ',\n",
       " 'a close up of a jet on a run way ',\n",
       " 'A dog that is sitting by a door.',\n",
       " 'A small plane in a bay with fence',\n",
       " 'A bench is on a path in the woods.',\n",
       " 'A plate of food sits on the table',\n",
       " 'A cat is looking out a glass door.',\n",
       " 'A plane is sitting on the run way.',\n",
       " 'a man that is on a park bench',\n",
       " 'a dog sits in front of a car ',\n",
       " 'a man sits on top of a motor bike ',\n",
       " 'a big plane sits on a run way ',\n",
       " 'A plane that is flying in the sky.',\n",
       " 'this is a man and his baby outside',\n",
       " 'three girls and a bike in a room. ',\n",
       " 'A bag that is sitting on a bed.',\n",
       " 'a man is sitting on a hotel bed',\n",
       " 'a small plane is flying in the sky',\n",
       " 'A person with a tie and a shirt.',\n",
       " 'a plate that has some food on it',\n",
       " 'a light that is attached to a pole',\n",
       " 'a large air plane on a run way',\n",
       " 'a large air plane on a run way',\n",
       " 'A bowl of food on a table surface.',\n",
       " 'A jet that is flying in the air.',\n",
       " 'The motor cycle is up on a lift.',\n",
       " 'A picture on the wall of a baby.',\n",
       " 'a couple of sheep are in a field',\n",
       " 'a dog staring at another dog on tv',\n",
       " 'a car that crashed into a big bus',\n",
       " 'this is a bike race in the dirt',\n",
       " 'an air plane on a run way ',\n",
       " 'a large air plane on a run way ',\n",
       " 'a close up of a cat in a bed ',\n",
       " 'an air plane flying in the air ',\n",
       " 'a train on a track near a platform',\n",
       " 'a close up of a tv near a wall',\n",
       " 'The man is smiling while on a bike',\n",
       " 'a close up photo of a cat on a bed',\n",
       " 'a large plane is flying in the sky',\n",
       " 'a large plane is flying in the sky',\n",
       " 'This is a city street at sun set.',\n",
       " 'a toilet that was next to a wall',\n",
       " 'a room with chairs and a tv ',\n",
       " 'a large air plane on a run way ',\n",
       " 'An old plane is in an old garage',\n",
       " 'The plane is flying up in the sky.',\n",
       " 'a close up of a wood bench outside',\n",
       " 'a bathroom that has a toilet in it',\n",
       " 'a room that has some stuff in it',\n",
       " 'a small air plane on a run way',\n",
       " 'a large air plane on a run way',\n",
       " 'a large air plane on a run way',\n",
       " 'A plane that is flying in the sky.',\n",
       " 'a large air plane on a run way ',\n",
       " 'A man watching a show on a TV. ',\n",
       " 'A small dog sits on a car seat.',\n",
       " 'a couple of cats are on a toilet',\n",
       " 'a large plane is out in the dirt',\n",
       " 'a couple of clouds are in the sky',\n",
       " 'A small room with a toilet in it ',\n",
       " 'a street that has some cars on it',\n",
       " 'a large air plane on a run way',\n",
       " 'a close up of a bowl of food ',\n",
       " 'a close up of a cat on a toilet ',\n",
       " 'A big fighter jet sits on the te',\n",
       " 'Cars on a busy street in the city.',\n",
       " 'a bus pulling up to a bus stop',\n",
       " 'A bus is stopped at a bus stop.',\n",
       " 'A large plane going down a run way',\n",
       " 'close up of toy truck on a table',\n",
       " 'a birds eye view of an air port',\n",
       " 'A few cars and a bus on the road.',\n",
       " 'A number of jets flying in the air',\n",
       " 'A boat is sitting next to a bench.',\n",
       " 'A man sits on a bench by himself.',\n",
       " 'A bus is stopped at a bus stop',\n",
       " 'A guy sitting on a bench in sand. ',\n",
       " 'a bench next to a tall thick tree',\n",
       " 'A park bench next to a large tree.',\n",
       " 'A city bus stopped at a bus stop',\n",
       " 'a body of water in the distance ',\n",
       " 'a sheep on a field behind a fence ',\n",
       " 'Traffic on a busy day in the city.',\n",
       " 'A bird is on a wooden park bench.',\n",
       " 'a close up of a school bus mirror ',\n",
       " 'A picture of a bus on a street.',\n",
       " 'A picture of a building in a sign.',\n",
       " 'A picture of a bus on the street.',\n",
       " 'A picture of a plane in the air.',\n",
       " 'A public bus sits at the bus stop.',\n",
       " 'a group of sheep together in a pen',\n",
       " 'A large jet is flying in the air.',\n",
       " 'A stop light is shown over a road.',\n",
       " 'A plane that is flying in the air.',\n",
       " 'A bus turns a corner in a city.',\n",
       " 'A bus that is driving down a road.',\n",
       " 'a man stands in front of a bus ',\n",
       " 'A bench next to a tree and trail.',\n",
       " 'A bus that is driving on the road.',\n",
       " 'A dog sits on a board on the grass',\n",
       " 'A bus that is driving on the road.',\n",
       " 'A plane that is flying in the air.',\n",
       " 'an image of a plane at an airport',\n",
       " 'THERE IS A CITY BUS ON THE STREET ',\n",
       " 'A SCHOOL BUS IS IN THE STREET ',\n",
       " 'A MAN IS SITTING ON THE BENCH ',\n",
       " 'AN IMAGE OF A STOP TRAFFIC SIGN ',\n",
       " 'A man operates a CAT to work hard',\n",
       " 'A SCENE OF WATER AND A PATH WAY',\n",
       " 'A PLANE IS SMOKING IN THE SKY ',\n",
       " 'This is an image of a rainbow bus',\n",
       " 'An empty bench is next to a path.',\n",
       " 'a number of cars on a city street',\n",
       " 'A boy looking at a bunch of sheep.',\n",
       " 'I am unable to see an image above.',\n",
       " 'A man sitting on a bench at night.',\n",
       " 'A bus is in front of a building.',\n",
       " 'A dog is sitting next to a hole.',\n",
       " 'a man and dog sitting on a bench ',\n",
       " 'A sheep and a cat near some trees.',\n",
       " 'A city bus stopped at a bus stop.',\n",
       " 'a cat sleeping on a bench outside ',\n",
       " 'A boat jets down a body of water.',\n",
       " 'A bench in a park covered in snow.',\n",
       " 'a wooden bench on top of a hill',\n",
       " 'A park sitting in front of a town.',\n",
       " 'A bench near a lake and grass. ',\n",
       " 'The men play a game on a bench.',\n",
       " 'A jet that is flying in the sky.',\n",
       " 'A lady placing her hat on a bench.',\n",
       " 'A large long bus on a city street.',\n",
       " 'A couple of cars on a city street.',\n",
       " 'A dog laying up on a wooden bench.',\n",
       " 'A large long bus on a city street.',\n",
       " 'A wooden bench in front of a door',\n",
       " 'A small bird on the top of a pole.',\n",
       " 'a walk way in a garden to a bench',\n",
       " 'A sheep eyes a dog through a fence',\n",
       " 'A group of sheep are in the field.',\n",
       " 'A woman sits in a seat on the bus.',\n",
       " 'a large air plane on a run way',\n",
       " 'A dog laying on a bench in a park.',\n",
       " 'A dog stands on a bench in a park',\n",
       " 'a public transit bus at a bus stop',\n",
       " 'A man laying on a cast iron bench.',\n",
       " 'A bus with dogs and people on it.',\n",
       " 'A plane sits in a field of grass.',\n",
       " 'A photo of a rainbow in a city.',\n",
       " 'A bus is pulled up to a bus stop.',\n",
       " 'I am unable to see an image above.',\n",
       " 'a large air plane on a run way',\n",
       " 'A girl with a dog on a bus.',\n",
       " 'a woman who is sitting on a bench',\n",
       " 'A bird is on a bench by the water.',\n",
       " 'I am unable to see an image above.',\n",
       " 'a large air plane on a run way',\n",
       " 'One cat sits in a group of sheep.',\n",
       " 'a bus riding down a small street ',\n",
       " 'A man reading a paper on a bench.',\n",
       " 'A group of planes on a dirt field.',\n",
       " 'a city bus stops at a bus stop',\n",
       " 'a number of sheep in a field ',\n",
       " 'a close up of a bench near a tree ',\n",
       " 'a bench on a path in a field ',\n",
       " 'A large bus on a open city street.',\n",
       " 'A women who is sitting on a bench.',\n",
       " 'A woman sits on a bench in a park.',\n",
       " 'a large air plane on a run way',\n",
       " 'A woman is laying down on a bench.',\n",
       " 'A large double deck bus on a road.',\n",
       " 'A large long bus on a city street.',\n",
       " 'A large bus on a open city street.',\n",
       " 'A large bus on a open city street.',\n",
       " 'A large bus on a open city street.',\n",
       " 'A bus on a street next to a tree',\n",
       " 'a road with so many road signs ',\n",
       " 'a bus that is in some deep water',\n",
       " 'a close up of a traffic light ',\n",
       " 'A man that is sitting near a sign.',\n",
       " 'An old wooden bench by the water. ',\n",
       " 'A small bus is traveling up hill. ',\n",
       " 'A stop light in a very big city',\n",
       " 'a bench in front of a building ',\n",
       " 'a cat sitting up on a wooden bench',\n",
       " 'THERE IS A CITY BUS ON THE STREET ',\n",
       " 'a person laying on a bench on sand',\n",
       " 'A car in the street next to a bus.',\n",
       " 'a bird flies over a body of water ',\n",
       " 'a bench near a field near a tree',\n",
       " 'an old car driving next to a bus ',\n",
       " 'the car made the turn at the light',\n",
       " 'A view of a bench in the woods.',\n",
       " 'A dark bench is in the wet woods.',\n",
       " 'A bus coming down a small street ',\n",
       " 'A large long bus on a city street.',\n",
       " 'A woman on a pole on the street.',\n",
       " 'A pile of fruit on a wooden table.',\n",
       " 'A sheep that is looking at a cat.',\n",
       " 'a large mountain is behind a city ',\n",
       " 'a little boy giving a sheep a hug',\n",
       " 'The mirror of a car and a road.',\n",
       " 'A plane that is flying in the sky.',\n",
       " 'A plane that is flying in the sky.',\n",
       " 'A large long bus on a city street.',\n",
       " 'A plane that is flying in the sky.',\n",
       " 'A man sits on a bench in the park.',\n",
       " 'Two cats on a table in a room',\n",
       " 'A bench at a park near the grass. ',\n",
       " 'a woman is hand feeding a lamb ',\n",
       " 'a large air plane in a run way',\n",
       " 'A bull and five sheep in a field.',\n",
       " 'A dog inside a pen full of sheep.',\n",
       " 'A plane is flying up in the sky',\n",
       " 'A dog is laying by a wooden bench',\n",
       " 'a book on a bench near a tree',\n",
       " 'a tree in a field near a building ',\n",
       " 'a large air plane on a run way',\n",
       " 'a dog in a field with many sheep ',\n",
       " 'The plane is flying up in the sky',\n",
       " 'A busy down town area in a city.',\n",
       " 'The park bench is nest to a fence.',\n",
       " 'A bus going down a country road ',\n",
       " 'A bus at a bus stop near a store. ',\n",
       " 'a dog in a field next to a sheep ',\n",
       " 'two large air planes on a run way',\n",
       " 'a bench on a path near a field ',\n",
       " 'A man that is sitting in a bus.',\n",
       " 'a school bus on a road near trees ',\n",
       " 'A cat that is laying on a bench.',\n",
       " 'a park bench out front of  a store',\n",
       " 'a cat sits on a wooden surface ',\n",
       " 'm m m mm m mm m m m m m m m ',\n",
       " 'A stone bench that is in a field.',\n",
       " 'a plane is flying high in the air',\n",
       " 'a small plane is flying in the sky',\n",
       " 'a wood bench is by a long fence',\n",
       " 'The people are sitting on a bench ',\n",
       " 'A large long bus on a city street.',\n",
       " 'The bus is stopped at a bus stop.',\n",
       " 'A large group of sheep in a road. ',\n",
       " 'a park bench that has a cat on it',\n",
       " 'a bus that is driving down a road',\n",
       " 'A bus and person at the bus stop.',\n",
       " 'a couple of bed sit in a room',\n",
       " 'A cow stands in a field of grass',\n",
       " 'the wing of a plane above a sky ',\n",
       " 'A plane flying low on an airport ',\n",
       " 'A bus and truck on a parking bay ',\n",
       " 'A bus with several people on it. ',\n",
       " 'a park bench sits next to a stream',\n",
       " 'A bench in a park with bare trees.',\n",
       " 'A group of people at a bus stop.',\n",
       " 'this is a bus in a parking lot',\n",
       " 'a bus next to a road on the corner',\n",
       " 'a street that has some cars on it',\n",
       " 'a bench with a hat sitting on it ',\n",
       " 'A woman is waiting at a bus stop.',\n",
       " 'a car is driving down a wet road',\n",
       " 'a large air plane on a run way',\n",
       " 'two large air planes on a run way',\n",
       " 'a bus drives down a city street ',\n",
       " 'A CD case is sitting on a bench.',\n",
       " 'A large long bus on a city road.',\n",
       " 'A traffic light on a country road ',\n",
       " 'A large long bus on a city street.',\n",
       " 'A man that is standing near a bus.',\n",
       " 'A man that is sitting with a dog.',\n",
       " 'A MAN AND A CHILD ARE IN A PARK',\n",
       " 'this is a shot of a city at night',\n",
       " 'a stop light sits over a street ',\n",
       " 'A bunch of toys set up on a table.',\n",
       " 'a man and a child are in a park',\n",
       " 'A dog sits up on a park bench.  ',\n",
       " 'A woman that is sitting on a bike.',\n",
       " 'A dog is sitting on a park bench.',\n",
       " 'A cat laying on a bench in a park.',\n",
       " 'a park bench sits next to a tree ',\n",
       " 'a pair of shoes under a bench ',\n",
       " 'A lamb is standing next to a rock.',\n",
       " 'a large air plane on a run way ',\n",
       " 'a close up of a sheep on a field ',\n",
       " 'a road that has  a big bus in it',\n",
       " 'A cat that is standing on a bench.',\n",
       " 'a lady who is sitting on a bench',\n",
       " 'a person and a dog are on a bench',\n",
       " 'a small air plane on a run way',\n",
       " 'a boy is holding up a small dog',\n",
       " 'a man is on his laptop on a bench',\n",
       " 'a public transit bus on a road ',\n",
       " 'a small air plane on a run way ',\n",
       " 'a mirror with a bus inside of it ',\n",
       " 'a long wood bench is in a park',\n",
       " 'a truck sits next to a big plane ',\n",
       " 'A bench sitting near a big wall ',\n",
       " 'a large air plane on a run way',\n",
       " 'A line of sheep in a open field.',\n",
       " 'A bus is driven on a city street.',\n",
       " 'A bench next to a tree on a hill.',\n",
       " 'A group stands in front of a bus.',\n",
       " 'A cake is in the shape of a train.',\n",
       " 'A street sign that says W 76 ST.',\n",
       " 'The back end of a large city bus.',\n",
       " 'An angry cat wearing a bucket hat ',\n",
       " 'a bird on the water during sun set',\n",
       " 'A cat with a bucket on its head.',\n",
       " 'Birds are sitting in a field.  ',\n",
       " 'A bus terminal is seen in a city.',\n",
       " 'a train in a city street on tracks',\n",
       " 'A man wearing a hat holding a box.',\n",
       " 'A MAN WITH A GUN IN HIS HAND.',\n",
       " 'A No U Turn sign on a street pole.',\n",
       " 'A clay face hanging on a wall. ',\n",
       " 'A man at a table with a drink',\n",
       " 'A picture of a dog in some snow.',\n",
       " 'A street sign of a car on fire.',\n",
       " 'A woman is waiting next to a bus. ',\n",
       " 'A man taking a picture of a bird. ',\n",
       " 'A bird next to a branch and rock.',\n",
       " 'A bird on a fence next to flowers',\n",
       " 'A tiny bird rest on a car mirror.',\n",
       " 'A sign can be seen in the mirror.',\n",
       " 'A picture of a part of a room.',\n",
       " 'A picture of a train in the night.',\n",
       " 'There is a bird sitting in a tree',\n",
       " 'A picture of a frame and the wild.',\n",
       " 'A bird stands on a branch in water',\n",
       " 'A city bus on a wet city road',\n",
       " 'A train is on a track near water.',\n",
       " 'A picture of a bird in the grass.',\n",
       " 'A bird that is sitting on a tree.',\n",
       " 'A picture of a cake on a table.',\n",
       " 'A cake that is on top of a table.',\n",
       " 'A stop sign on a pole at night.',\n",
       " 'A car that is driving on a road.',\n",
       " 'A train in the middle of a town.',\n",
       " 'A PHOTO OF A WOMAN WITH A DOG ',\n",
       " 'A man in a suit holding his hat.',\n",
       " 'A very up close picture of a sign.',\n",
       " 'A gas sign post on a dark street.',\n",
       " 'A hat that is on top of a shelf.',\n",
       " 'A car that is driving on the road.',\n",
       " 'A stop sign that is by a street.',\n",
       " 'A one way sign hanging on a pole',\n",
       " 'Birds flying in to land on a lake ',\n",
       " 'A picture of a street and a sign.',\n",
       " 'A lot of signs that are on a rail.',\n",
       " 'A street sign is hanging on a pole',\n",
       " 'THERE IS A TRAIN ON THE TRACKS ',\n",
       " 'A laptop and a tablet on a table',\n",
       " 'A TRASH CAN THAT IS FULL OF TRASH',\n",
       " 'A bus stops at a bus stop area.',\n",
       " 'A PERSON IS WALKING DOWN A STREET ',\n",
       " 'People in line to get on a bus.',\n",
       " 'A BIRD IS SITTING ON THE WATER ',\n",
       " 'A TRAIN IS ON THE TRAIN TRACKS ',\n",
       " 'A close up of leaves on a tree.',\n",
       " 'a pair of trains in a rail yard',\n",
       " 'a stop light a md del line road ',\n",
       " ' a close up of a dog wearing a hat',\n",
       " 'A man sitting on top of a horse.',\n",
       " 'Four sleep in a field at sun down.',\n",
       " 'an image of a bird in the water',\n",
       " 'A man driving a bus down the road',\n",
       " 'a street sign on a city side walk',\n",
       " 'a street sign near a body of water',\n",
       " 'A bus has stopped at a bus stop.',\n",
       " 'A train on a track near a station.',\n",
       " 'A one way sign on a street post.',\n",
       " 'A bus sits next to a bus stop.',\n",
       " 'A bird is in mid air over a log.',\n",
       " 'A woman her bike past a stop sign.',\n",
       " 'Two men on a boat in the water.',\n",
       " 'A stop sign at a corner of a town.',\n",
       " 'Two kinds of birds sit on a wire.',\n",
       " 'A bus that is driving on the road.',\n",
       " 'A large two story bus on a street.',\n",
       " 'I am unable to see an image above.',\n",
       " 'A body of water on a cold day.',\n",
       " 'A large long bus on a city street.',\n",
       " 'A stop sign that is by a road.',\n",
       " 'A cake that is on top of a table.',\n",
       " 'A close up of a bird of prey.',\n",
       " 'A man in a motor boat on a lake.',\n",
       " 'A large bus on a open city street.',\n",
       " 'a close up of a bird on a rope',\n",
       " 'A sign on the side of a building.',\n",
       " 'A couple of cars on a city street.',\n",
       " 'A view of street signs on a pole. ',\n",
       " 'A bird stands on the top of rocks.',\n",
       " 'There was no room for him to sit.',\n",
       " 'a person getting on to a bus ',\n",
       " 'An old man in a funny hat eating.',\n",
       " 'A man with a hat sits on a bench.',\n",
       " 'A lot of signs that are on a post.',\n",
       " 'A lot of signs that are on a post.',\n",
       " 'A car that is driving in the road.',\n",
       " 'A large bus on a open city street.',\n",
       " 'A sign is shown mounted on a pole.',\n",
       " 'a close up of a bird on a box',\n",
       " 'A sign is shown next to a road.',\n",
       " 'a close up of a public transit bus',\n",
       " 'A bus on the side of the road.',\n",
       " 'The sign is on a very tall pole.',\n",
       " 'A girl with a hat on eating cake.',\n",
       " 'A man holds a bird with a stick',\n",
       " 'A man in a hat riding on a  horse',\n",
       " 'A sign and car on a city street.',\n",
       " 'A group of sheep on a grass field.',\n",
       " 'A person and a cow on a field.',\n",
       " 'A sign on a pole on a city street.',\n",
       " 'A train on the tracks at a station',\n",
       " 'A road is shown with birds on it.',\n",
       " 'A bus is driving down a busy road.',\n",
       " 'A street sign in front of a bush.',\n",
       " 'A street sign is shown on a pole.',\n",
       " 'a person in a field with a dog ',\n",
       " 'A street sign on a pole by a road.',\n",
       " 'A street sign is shown on a pole.',\n",
       " 'A large long bus on a city street.',\n",
       " 'A sign on a pole on a city street.',\n",
       " 'A sign on a pole on a street.',\n",
       " 'A bus driving on a brick street ',\n",
       " 'A small bird sitting in a branch ',\n",
       " 'A small bird sitting on a branch ',\n",
       " 'a street sign on a city street ',\n",
       " 'many street signs on a light pole ',\n",
       " 'A cat that is laying in a hat.',\n",
       " 'A bird that is sitting on a pole.',\n",
       " 'a bird in a nest with an egg',\n",
       " 'A street sign that is on a corner ',\n",
       " 'A view through a window of a lake.',\n",
       " 'Two signs on a pole under a light.',\n",
       " 'A city street all lit up at night',\n",
       " 'THERE IS A RAM THAT IS LYING DOWN ',\n",
       " 'THERE IS A TRAIN ON THE TRACKS ',\n",
       " 'A bird is on a rock in the river',\n",
       " ' a small bird on a branch in tree',\n",
       " 'a sign on a pole near a park ',\n",
       " 'A street sign is seen in a city.',\n",
       " 'A very cute looking cat in a hat.',\n",
       " 'the cat has a bow in her hair',\n",
       " 'A bus turning left onto a street. ',\n",
       " 'A bus on a street in the city ',\n",
       " 'A pole with a sign on it in a city',\n",
       " 'A sign on the side of a building.',\n",
       " 'I do not know what this image is.',\n",
       " 'a guy on a bike next to a bus',\n",
       " 'a pole that has some signs on it',\n",
       " 'The cake is the shape of a train. ',\n",
       " 'A large sign and flag on a pole.',\n",
       " 'a big bird flies over the ocean ',\n",
       " 'A woman is standing next to a sign',\n",
       " 'a woman and her son on a boat ',\n",
       " 'A stop sign on a one way street.',\n",
       " 'a bird walks on a rocky ground ',\n",
       " 'A stop sign on a pole on a street.',\n",
       " 'A sign on a pole on a city street.',\n",
       " 'two street signs over a high way ',\n",
       " 'A large bus and truck on a street.',\n",
       " 'A boat is in the middle of a lake',\n",
       " 'a close up of a laptop near a box ',\n",
       " 'a small boat in a body of water ',\n",
       " 'a couple of signs on a street pole',\n",
       " 'a street sign on a city street ',\n",
       " 'a bird on top of a small boat ',\n",
       " 'a small kid sitting on a rock ',\n",
       " 'We see the side of a train car.',\n",
       " 'A dog that is walking on a beach.',\n",
       " 'A sign on the side of a wall.',\n",
       " 'A large bus on a open city street.',\n",
       " 'A toy train that is on a desk.',\n",
       " 'a street light that is by a road',\n",
       " 'A man walking near a big city bus.',\n",
       " 'a person that is in a suit and tie',\n",
       " 'a train that is  on a train track',\n",
       " 'a train on a track near many trees',\n",
       " 'an old boat on a body of water ',\n",
       " 'a kid is holding a bat in a room',\n",
       " 'a bird eating on a fallen apple ',\n",
       " 'a boat is going down a large river',\n",
       " 'a figure is on a no crossing  sign',\n",
       " 'A view of a train in a mirror. ',\n",
       " 'a train on a track near a building',\n",
       " 'Two sheep in a pen near two humans',\n",
       " 'The hat is laying on the table. ',\n",
       " 'a person on a horse chasing a cow',\n",
       " 'A hat is on a desk in a room.',\n",
       " 'a train on a track near a high way',\n",
       " 'A bird that is sitting in a tree.',\n",
       " 'A bird is sitting under a tree. ',\n",
       " 'a hat is sitting on a wood table',\n",
       " 'a one way sign up on a pole',\n",
       " 'a bird is on top of a tree',\n",
       " 'A poll with a street sign on it.',\n",
       " 'a couple of people are in a boat',\n",
       " 'A stop sign above a all way sign.',\n",
       " 'A person on a laptop on a bed.',\n",
       " 'A bird sits on a branch of a tree.',\n",
       " 'Two men on a boat on the water.',\n",
       " 'A duck walking on a sandy beach. ',\n",
       " 'a duck that is standing on a brick',\n",
       " 'The man was sitting on a mini bike',\n",
       " 'a sign is hanging on a brick wall',\n",
       " 'a few birds that are on a beach',\n",
       " 'a train that is on a train track',\n",
       " 'a pole that has some signs on it',\n",
       " 'a bird that is standing on a tree',\n",
       " 'a train that is on a train track',\n",
       " 'a train full of people on a track ',\n",
       " 'A city street with a lot of signs.',\n",
       " 'A blue/white train on a rail line ',\n",
       " 'a man that is catching a fly ball',\n",
       " 'a street sign next to a few cars\\n',\n",
       " 'a sign that is on a big long pole',\n",
       " 'A man who is sleeping by a window.',\n",
       " 'a vintage photo of a train yard ',\n",
       " 'a train that is on a train track',\n",
       " 'a pole that has a few signs on it',\n",
       " 'a person that has a cat in hand',\n",
       " 'a bird that has many colors on it',\n",
       " 'A dog and a hat on a city street.',\n",
       " 'A sign with an arrow on a street.',\n",
       " 'A cat that is eating a dead bird',\n",
       " 'Two horses tied up in a field ',\n",
       " 'A small bird sitting on a branch ',\n",
       " 'A man wearing a hat and tie ',\n",
       " 'A group of sheep are inside a pen.',\n",
       " 'this is a sign at a gas station',\n",
       " 'A GROUP OF MEN STANDING BY A POLE',\n",
       " 'a couple of street signs on a pole',\n",
       " 'a old train car on some old tracks',\n",
       " 'A train on the tracks in a city ',\n",
       " 'A cat catching a bird in mid air.',\n",
       " 'A soldier pets a cow in a village.',\n",
       " 'A FUNNY STREET SIGN IS ON A POST',\n",
       " 'a bird and another bird on a tree',\n",
       " 'a couple of birds are in the water',\n",
       " 'a bird is standing on top of a cup',\n",
       " 'A couple of signs on a metal pole.',\n",
       " 'a road that is next to some trees',\n",
       " 'a hotel sign that is in some grass',\n",
       " 'A person with two birds by a pool.',\n",
       " 'a bus that is going down a road',\n",
       " 'A cake that has a train on it.',\n",
       " 'A bird that is standing in a tree.',\n",
       " 'A cake that has a vehicle on it.',\n",
       " 'two street signs on top of a pole.',\n",
       " 'Part of the ship is stuck on land.',\n",
       " 'A sign that is on top of a pole.',\n",
       " 'A bus that is sitting on a street.',\n",
       " 'A bus is stopped at a bus station.',\n",
       " 'this is a cat with a hat on it',\n",
       " 'a small bird is on top of a branch',\n",
       " 'A sign on a pole on a city street.',\n",
       " 'a couple of birds are on a table',\n",
       " 'view from above of a bus on a road',\n",
       " 'a lit street light next to a bar',\n",
       " 'a couple of birds fly over a lake ',\n",
       " 'a bunch of birds stand in a cage ',\n",
       " 'A duck is swimming in the water. ',\n",
       " 'a train on a track near a platform',\n",
       " 'A man that is sitting in a train.',\n",
       " 'a women that has a bird in her lap',\n",
       " 'a person that has a sheep in hand',\n",
       " 'A bird sits on a branch in a tree.',\n",
       " 'a big animal that is in some grass',\n",
       " 'a close up of a cat wearing a hat ',\n",
       " 'There I a train cake in the room.',\n",
       " 'a bird that is sitting on a branch',\n",
       " 'a big boat that is in the ocean',\n",
       " 'a pole that has some signs on it',\n",
       " 'A bird that is sitting in a tree.',\n",
       " 'a large boat is out in the water',\n",
       " 'a large wood sign is by the road',\n",
       " 'A cat eating a bird in the yard',\n",
       " 'a car passing by on a street ',\n",
       " 'A street pole with signs on it ',\n",
       " 'a train that is on a train track',\n",
       " 'a train on a track near a platform',\n",
       " 'a close up of a street sign ',\n",
       " 'a child riding on top of a horse ',\n",
       " 'a train on a track near a fence ',\n",
       " 'a train on a out door train track',\n",
       " 'a bird that is on a small branch',\n",
       " 'a field that has some sheep in it',\n",
       " 'a bird that is standing on a stick',\n",
       " 'A cat trying to get into a shoe.',\n",
       " 'A dog and a cat stand side by side',\n",
       " 'a child pushing a toy in the snow.',\n",
       " 'A train is at the end of the line',\n",
       " 'A train on a set of train tracks.',\n",
       " 'A public pay phone at the beach. ',\n",
       " 'A cat laying on a chair in a home.',\n",
       " 'a man on a bike near a busy street',\n",
       " 'a cat laying in a bed with clothes',\n",
       " 'A view of the tail end of a plane.',\n",
       " 'A close up image of a stop sign.',\n",
       " 'A dog on a boat in a river.',\n",
       " 'A person is looking at a cute cat.',\n",
       " 'A man and a cat face to face.',\n",
       " 'A cat is laying in a bed ',\n",
       " ...]"
      ]
     },
     "execution_count": 685,
     "metadata": {},
     "output_type": "execute_result"
    }
   ],
   "source": [
    "blacklist_removed"
   ]
  },
  {
   "cell_type": "code",
   "execution_count": 686,
   "metadata": {
    "hidden": true,
    "run_control": {
     "frozen": false,
     "read_only": false
    }
   },
   "outputs": [],
   "source": [
    "voc_ser = pd.Series(blacklist_removed)\n",
    "voc_ser.to_csv('simple_coco_captions.txt', index=False, header=None)"
   ]
  },
  {
   "cell_type": "code",
   "execution_count": 687,
   "metadata": {
    "hidden": true,
    "run_control": {
     "frozen": false,
     "read_only": false
    }
   },
   "outputs": [
    {
     "data": {
      "text/plain": [
       "3013"
      ]
     },
     "execution_count": 687,
     "metadata": {},
     "output_type": "execute_result"
    }
   ],
   "source": [
    "len(blacklist_removed)"
   ]
  },
  {
   "cell_type": "code",
   "execution_count": 691,
   "metadata": {
    "hidden": true,
    "run_control": {
     "frozen": false,
     "read_only": false
    }
   },
   "outputs": [
    {
     "name": "stderr",
     "output_type": "stream",
     "text": [
      "100%|██████████| 3013/3013 [00:24<00:00, 120.67it/s]\n"
     ]
    }
   ],
   "source": [
    "sent_gram_errors, passed_sents = grammar_check_phrases(tqdm(blacklist_removed))"
   ]
  },
  {
   "cell_type": "code",
   "execution_count": 692,
   "metadata": {
    "hidden": true,
    "run_control": {
     "frozen": false,
     "read_only": false
    }
   },
   "outputs": [
    {
     "data": {
      "text/plain": [
       "2885"
      ]
     },
     "execution_count": 692,
     "metadata": {},
     "output_type": "execute_result"
    }
   ],
   "source": [
    "len(passed_sents)"
   ]
  },
  {
   "cell_type": "code",
   "execution_count": 763,
   "metadata": {
    "hidden": true,
    "run_control": {
     "frozen": false,
     "read_only": false
    }
   },
   "outputs": [],
   "source": [
    "nuisance_phrases = ['a picture of ', 'this is ', 'there is ', ' shown ', 'an image of ', 'view of a ', 'close up of ']\n",
    "\n",
    "def normalize_sent(sent):\n",
    "    nsent = sent.lower()\n",
    "    for np in nuisance_phrases:\n",
    "        nsent = nsent.replace(np, '')\n",
    "    nsent = nsent[0].upper() + nsent[1:]\n",
    "    if nsent[-1] not in ['.', '!']:\n",
    "        nsent += '.'\n",
    "    \n",
    "    return nsent"
   ]
  },
  {
   "cell_type": "code",
   "execution_count": 764,
   "metadata": {
    "hidden": true,
    "run_control": {
     "frozen": false,
     "read_only": false
    }
   },
   "outputs": [],
   "source": [
    "normed_sents = list(set([normalize_sent(s) for s in passed_sents if 'image' not in s]))"
   ]
  },
  {
   "cell_type": "code",
   "execution_count": 765,
   "metadata": {
    "hidden": true,
    "run_control": {
     "frozen": false,
     "read_only": false
    },
    "scrolled": true
   },
   "outputs": [
    {
     "data": {
      "text/plain": [
       "2497"
      ]
     },
     "execution_count": 765,
     "metadata": {},
     "output_type": "execute_result"
    }
   ],
   "source": [
    "len(normed_sents)"
   ]
  },
  {
   "cell_type": "code",
   "execution_count": 766,
   "metadata": {
    "hidden": true,
    "run_control": {
     "frozen": false,
     "read_only": false
    }
   },
   "outputs": [
    {
     "data": {
      "text/plain": [
       "['A bucket is next to the toilet. \\n.',\n",
       " 'A cat sitting on top of a man lap.',\n",
       " 'A boat is in the middle of a lake.',\n",
       " 'A man enjoying a ride on a bike.',\n",
       " 'A pot is full of some food cooking.',\n",
       " 'A a horse in a field.',\n",
       " 'A jet inside of a museum show room.',\n",
       " 'A bench at a park near the grass. .',\n",
       " 'A man playing a piano in a room.',\n",
       " 'New bike is taken out of its box.',\n",
       " 'A small clock is next to a shelf.',\n",
       " 'Some type of sand which on a plate.',\n",
       " 'A man is holding up a toy guitar.',\n",
       " 'A dog is in a boat on the lake.',\n",
       " 'A cat sitting on a bag and a map.',\n",
       " 'A man playing a pro sport.',\n",
       " 'A large bus and truck on a street.',\n",
       " 'A cat stands on top of a horse .',\n",
       " 'A table that has a computer on it.',\n",
       " 'A sign on a wall on a street.',\n",
       " 'A young boy is sitting at a table.',\n",
       " 'A guy with a hot dog at a fair.',\n",
       " 'A laptop turned on laying on a bed.',\n",
       " 'A big animal inside of a big cage.',\n",
       " 'A man in a suit holding a glass.',\n",
       " 'A clock on a shelf with some books.',\n",
       " 'A cat is looking out a glass door.',\n",
       " 'A a cat in a window.',\n",
       " 'A painted on stop sign on a bus.',\n",
       " 'A woman cutting a cake at a party.',\n",
       " 'Two street signs on top of a pole.',\n",
       " 'A cat is lying in a persons lap.',\n",
       " 'A woman is laying down on a bench.',\n",
       " 'A stop sign on pole in the sand.',\n",
       " 'A stuff bear is sitting on the bed.',\n",
       " 'An old boat on a body of water .',\n",
       " 'A cat is laying on a wooden chair.',\n",
       " 'A dog is standing next to a person.',\n",
       " 'A cat laying on a chair in a room .',\n",
       " 'A room with a bed and a phone .',\n",
       " 'A laptop and a mouse on a table.',\n",
       " 'A man sitting in a boat with a tv.',\n",
       " 'A salad in a bowl with an apple.',\n",
       " 'A woman playing a game of tennis .',\n",
       " 'A woman mixing some food in a pot.',\n",
       " 'Actors in an old cabin in a museum.',\n",
       " 'A woman is standing next to a sign.',\n",
       " 'A train in a city street on tracks.',\n",
       " 'A woman her bike past a stop sign.',\n",
       " 'A small dog is sleeping on a sheet.',\n",
       " 'A man holds a hot dog in his hand.',\n",
       " 'A a cake on a table.',\n",
       " 'A bike race in the dirt.',\n",
       " 'A young boy sits up in his bed.',\n",
       " 'A side of a house that is wooden.',\n",
       " 'A lot of kids at a tennis event.',\n",
       " 'A dog in a bow tie looking up.',\n",
       " 'The seat is up on a public toilet.',\n",
       " 'A toilet and some plant in a room.',\n",
       " 'A picture on the wall of a baby.',\n",
       " 'A cat that is in a kitchen sink.',\n",
       " 'A man watching a show on a tv. .',\n",
       " 'A building with a clock on the top.',\n",
       " 'A cup of hot coffee on a desk.',\n",
       " 'A sandwich with eggs on it.',\n",
       " 'A window and a bed in a room.',\n",
       " 'A fire place and a door in a room.',\n",
       " 'A pizza on a plate is cut open.',\n",
       " 'An apple computer on a table top .',\n",
       " 'A wall with a clock on it.',\n",
       " 'A hot summer day on a sandy beach.',\n",
       " 'A girl is pointing at the hot dog.',\n",
       " 'A man is in a boat on the water.',\n",
       " 'A person with laptop and two cats .',\n",
       " 'Six people on a bus at night time.',\n",
       " 'A kid sits and holds a cell phone.',\n",
       " 'A big truck is at the candy store.',\n",
       " \"A hot dog has a man's head on it.\",\n",
       " 'A long light post near a street .',\n",
       " 'A plane in the sky. .',\n",
       " 'Some fruits in a bowl on a table.',\n",
       " 'A man that is on top of his bike.',\n",
       " 'A man that is catching a fly ball.',\n",
       " 'A woman takes a hill.',\n",
       " 'A bird stands on a branch in water.',\n",
       " 'A person wearing a suit and tie .',\n",
       " 'A remote and a clock on a table.',\n",
       " 'A few birds that are on a beach.',\n",
       " 'A man and woman on a tennis court.',\n",
       " 'A person with a board in his arms.',\n",
       " 'A woman plays on her phone in bed .',\n",
       " 'A street sign of a car on fire.',\n",
       " 'A bull and five sheep in a field.',\n",
       " 'A cell phone on a table.',\n",
       " 'A man walking a horse on the track.',\n",
       " 'A window open near a bed by a wall.',\n",
       " 'A little girl plays with a toy gun.',\n",
       " 'A cat puts its head in a tall cup.',\n",
       " 'A man is riding a board in a bowl.',\n",
       " 'Fruit on a plate next to a book.',\n",
       " 'A food dish is served in a bowl.',\n",
       " 'A pizza in a metal pan on a table.',\n",
       " 'A sandwich and a cup on a table.',\n",
       " 'A couple of clouds are in the sky.',\n",
       " 'A close up photo of a cut pizza .',\n",
       " 'A couch and a window in a room.',\n",
       " 'A bear is behind a wood park bench.',\n",
       " 'A woman walking a dog down a road.',\n",
       " 'A room in a house.',\n",
       " 'A man on a laptop at a table.',\n",
       " 'A pair of shoes on a bed .',\n",
       " 'A cat that is on top of a shelf.',\n",
       " 'A man that is sitting on a cow.',\n",
       " 'A cat is laying of its right side.',\n",
       " 'A bed room with a bed and a window.',\n",
       " 'A bus in a parking lot.',\n",
       " 'A kid on a laptop in a room.',\n",
       " 'A dog asleep on a bed.',\n",
       " 'The door to a toilet room is open.',\n",
       " 'A woman hitting a ball with a bat .',\n",
       " 'A guy sitting with a girl talking .',\n",
       " 'A person on a horse on a beach.',\n",
       " 'A bunch of fruit on a market stand.',\n",
       " 'A close shot of a dinner plate. .',\n",
       " 'A man sits on a bench in the park.',\n",
       " 'A person with a laptop at a table.',\n",
       " 'A man on a bike near the beach. .',\n",
       " 'A bed can be seen across a room. .',\n",
       " 'A man sitting on top of a horse.',\n",
       " 'A man in a suit is on a phone.',\n",
       " 'A cat that is sitting on a sink.',\n",
       " 'A bus on a street in the city .',\n",
       " 'A woman with a drink at an event.',\n",
       " 'A room with a sink and a mirror.',\n",
       " 'A pan with a pizza inside of it .',\n",
       " 'A a plant with leaves .',\n",
       " 'A man with a shirt and tie on .',\n",
       " 'A pizza is in a box at the beach.',\n",
       " 'A child and a baby eating cake .',\n",
       " 'A man in a tie sits on a bench.',\n",
       " 'A dog up on a fence near a horse.',\n",
       " 'A sink and toilet in a small room.',\n",
       " 'A man stands in a suit in a room.',\n",
       " 'A person in a room holding a cat.',\n",
       " ' a a dog wearing a hat.',\n",
       " 'A drawing of the inside of plane .',\n",
       " 'A lady that has a phone in hand.',\n",
       " 'A chair and a table in a room.',\n",
       " 'A man laying on a cast iron bench.',\n",
       " 'A cat with a hat on it.',\n",
       " 'A bird sits on a branch of a tree.',\n",
       " 'A man riding a wave in the ocean.',\n",
       " 'A dog laying on its back in a bed.',\n",
       " 'A man about to hit a tennis ball.',\n",
       " 'A cup of coffee on a wooden bench.',\n",
       " 'A plane isnext to a cloud.',\n",
       " 'A bed above a desk with a computer.',\n",
       " 'A dump truck in an empty lot .',\n",
       " 'A plate with a mix of food on it .',\n",
       " 'A man is standing by a stop sign.',\n",
       " 'A one way sign up on a pole.',\n",
       " 'A woman looks at a glass of wine .',\n",
       " 'A statue of a dog is on display.',\n",
       " 'A city tree with a clock on it.',\n",
       " 'A man holds a laptop on his lap .',\n",
       " 'A table with tea and a cake on it.',\n",
       " 'A man in uniform riding a horse .',\n",
       " 'A bed and door in a small room.',\n",
       " 'A dog and a cat laying on a couch.',\n",
       " 'A boy on a field with a ball.',\n",
       " 'A man outside in a suit.',\n",
       " 'A military style jet on a run way.',\n",
       " 'A woman giving her pet cat a hug.',\n",
       " 'A clock that is sitting on a wall.',\n",
       " 'A business truck on a city street .',\n",
       " 'A city bus on the street .',\n",
       " 'A sheep and a cat near some trees.',\n",
       " 'A mirror and a window in a room.',\n",
       " 'A person by a desk in a room.',\n",
       " 'A group of people are at a market .',\n",
       " 'A group of men sitting at a table.',\n",
       " 'A man leads a cow into a market.',\n",
       " 'A man with a tie and a shirt.',\n",
       " 'The man led the horse on a rope.',\n",
       " 'A couch and table in a large room.',\n",
       " 'A clock that is on top of a pole.',\n",
       " 'A a pizza and a tv.',\n",
       " 'A cat laying in a small animal bed.',\n",
       " 'A sheep that is looking at a cat.',\n",
       " 'A man that is getting his hair cut.',\n",
       " 'A dog and cat sitting on a couch.',\n",
       " 'A bed that has a blanket on it.',\n",
       " 'A man stands in front of a wall.',\n",
       " 'A bus on a street.',\n",
       " 'A bus is stopped at a bus station.',\n",
       " 'A street pole with signs on it .',\n",
       " 'A boat that is sitting on a beach.',\n",
       " 'A frame and the wild.',\n",
       " 'The apple is on top of the orange.',\n",
       " 'A piece of cake sitting in a bowl.',\n",
       " 'A horse in a field behind a fence .',\n",
       " 'A man riding a horse on the beach .',\n",
       " 'A tall man is putting on a tie.',\n",
       " 'A small boat in a body of water .',\n",
       " 'A beer and a sandwich on a table.',\n",
       " 'A man at a table with a drink.',\n",
       " 'An inside of a house.',\n",
       " 'A boy and girl are in the kitchen.',\n",
       " 'People in line to get on a bus.',\n",
       " 'A cat is laying on a wooden table.',\n",
       " 'A clock on top of a post.',\n",
       " 'A clock isnext to a window.',\n",
       " 'A toilet that is next to a sink.',\n",
       " 'A laptop on a bed near a person.',\n",
       " 'A man stands next to a stop sign.',\n",
       " 'A pizza that is in a square box.',\n",
       " 'A wood bench is by a long fence.',\n",
       " 'A a clock near a wall .',\n",
       " 'The desk has a glass top on it.',\n",
       " 'A woman and a baby lay on the bed.',\n",
       " 'A large pizza sits in a pizza box.',\n",
       " 'A man playing tennis on a hot day.',\n",
       " 'A man that is sitting at a table.',\n",
       " 'A bus and truck on a parking bay .',\n",
       " 'Many people and dogs in a field .',\n",
       " 'Many bags of chips are on a bench.',\n",
       " 'A few people that is on a train.',\n",
       " 'This cake has the number 13 on it.',\n",
       " 'A a person with a dog .',\n",
       " 'A bench in the woods.',\n",
       " 'An empty bench is next to a path.',\n",
       " 'A public pay phone at the beach. .',\n",
       " 'A cat laying on a laptop on a desk.',\n",
       " 'A keyboard is next to an open book.',\n",
       " 'A man and a bike by a large bus.',\n",
       " 'A man standing in a lobby.',\n",
       " 'A boat sits on the side of a road.',\n",
       " 'A group of ties hang off a pole.',\n",
       " 'A lady that is talking on a phone.',\n",
       " 'A baby laying on a bed in a room.',\n",
       " 'A man that is in a suite and a tie.',\n",
       " 'A man is wearing a suit and tie.',\n",
       " 'A small piece of pizza on a plate.',\n",
       " 'A nicely made bed in a hotel room .',\n",
       " 'A pair of beds are in a bedroom.',\n",
       " 'A dump truck sits by a stop sign.',\n",
       " 'A boy is eating food in the yard.',\n",
       " 'A bathroom has a fish tank in it.',\n",
       " 'A bedroom with a view of the city.',\n",
       " 'A cat laying in a basket in a sink.',\n",
       " 'A bird that is standing on a stick.',\n",
       " 'A cat sitting on top of a chair.',\n",
       " 'A pizza is sitting next to a salad.',\n",
       " 'A man in a suit and tie in a room.',\n",
       " 'A large room with a bed on a boat.',\n",
       " 'A cow is standing off in a field.',\n",
       " 'A a wood bench outside.',\n",
       " 'The cat is wearing a clip on tie.',\n",
       " 'A man is kicking sand on the beach.',\n",
       " 'A lot of food that is on a table.',\n",
       " 'A woman at a table with some food.',\n",
       " 'A bench in the grass in a park. .',\n",
       " 'A bed in a room.',\n",
       " 'A blanket with a cat laying on it.',\n",
       " 'A man that is standing on a plate.',\n",
       " 'A street light that is by a road.',\n",
       " 'Girl eating a hot dog in the yard.',\n",
       " 'A man holds a dog above a hat.',\n",
       " 'A sign is hanging on a brick wall.',\n",
       " 'A couch and chair in a small room.',\n",
       " 'A bike that is next to a road way.',\n",
       " 'The man holds a phone to his ear. .',\n",
       " 'A stop sign in a field.',\n",
       " 'A bowl of food on a dining table.',\n",
       " 'A bed and desk in a small room.',\n",
       " 'A keyboard rest in front of a mac.',\n",
       " 'A clock on a tower on a clear day.',\n",
       " 'A plane isbehind a board .',\n",
       " 'A kitchen sink in a hotel room. .',\n",
       " 'A cat is sleeping next to a laptop.',\n",
       " 'A jet that is flying in the sky.',\n",
       " 'A man in a suit and tie outside .',\n",
       " 'A pizza with a knife on top of it.',\n",
       " 'A man is on a beach with two dogs.',\n",
       " 'A girl is riding on a horse. .',\n",
       " 'A sign ismounted on a pole.',\n",
       " 'A table that has some pizza on it.',\n",
       " 'A lady who is sitting on a bench.',\n",
       " 'A large ship in a body of water .',\n",
       " 'A clock lit up on a city street.',\n",
       " 'A cake on a table.',\n",
       " 'A bus on the side of the road.',\n",
       " 'A small air plane on a run way .',\n",
       " 'A bunch of toys set up on a table.',\n",
       " 'A clock on a tower with a bell.',\n",
       " 'A laptop set up on a wooden table.',\n",
       " 'A room with a sink and a mirror. .',\n",
       " 'A cup that is next to a laptop.',\n",
       " 'A large bed and window in a room.',\n",
       " 'A cat is lying in a bed on a desk.',\n",
       " 'A cat is laying out on a wood desk.',\n",
       " 'A woman is in a suit and a tie.',\n",
       " 'A duck walking on a sandy beach. .',\n",
       " 'A wide odd tree in a zoo.',\n",
       " 'A dog and a man play in the snow.',\n",
       " 'A girl is on a laptop on a desk.',\n",
       " 'A bed in a floor with some food.',\n",
       " 'The bed has a doll sitting on it.',\n",
       " 'A person with a cat and a laptop.',\n",
       " 'A large group of people in a park.',\n",
       " 'A stop sign and a no u-turn sign.',\n",
       " 'A young male is eating a hot dog.',\n",
       " 'A man cutting a cake on a table.',\n",
       " 'A one way sign hanging on a pole.',\n",
       " 'A smiling man in a suit and tie.',\n",
       " 'A mirror on a wall in a bathroom. .',\n",
       " 'A man cuts a single piece of pie.',\n",
       " 'A young man in a suit and tie.',\n",
       " 'A man holds up a wave.',\n",
       " 'A desk with a cat laying a laptop .',\n",
       " 'A cow walks on boats in a field.',\n",
       " 'A man guides a boat down a river.',\n",
       " 'A lot of boats that are in a lake.',\n",
       " 'A a clock and a date .',\n",
       " 'A small boat is tied up to a rock .',\n",
       " 'A man is half way on to a train.',\n",
       " 'A table set with a plate of food.',\n",
       " 'A man working on a laptop on a bus.',\n",
       " 'A small made bed in a hotel room.',\n",
       " 'A bird is sitting on the water .',\n",
       " 'A hat that is on top of a shelf.',\n",
       " 'A a street sign .',\n",
       " 'A plate with fish on it.',\n",
       " 'A parking meter with a sign on it.',\n",
       " 'A horse is eating grass in a field.',\n",
       " 'A cat laying on a couch in a room.',\n",
       " 'A woman taking a swing at a ball.',\n",
       " 'A lady placing her hat on a bench.',\n",
       " 'A boat jets down a body of water.',\n",
       " 'A bus that is driving down a road.',\n",
       " 'A mess of grass covering up a bike.',\n",
       " 'Two men are on a bed with a dog.',\n",
       " 'A dog looking out a car window .',\n",
       " 'A small child is laying in a bed.',\n",
       " 'The pizza is on a paper plate. .',\n",
       " 'A dog and a cat pose for a photo.',\n",
       " 'Toy truck on a table.',\n",
       " 'A cow out in a field by itself.',\n",
       " 'A bed that has some animals on it.',\n",
       " 'A cat laying on top of a bed.',\n",
       " 'A small dog sitting next to a cow.',\n",
       " 'A person in a field with a dog .',\n",
       " 'A woman that has a cat on her lap.',\n",
       " 'A table set for a meal for two. .',\n",
       " 'A truck is on the city street .',\n",
       " 'A a plate on a table.',\n",
       " 'A man is sleeping next to a laptop.',\n",
       " 'A clock on display in a museum .',\n",
       " 'A bus and person at the bus stop.',\n",
       " 'Two bottles of wine on a bar top.',\n",
       " 'A large double deck bus on a road.',\n",
       " 'Picture of a dog out in the water.',\n",
       " 'A clock tower isin a park.',\n",
       " 'A clock on the side of the road.',\n",
       " 'A dual monitor set up in a room.',\n",
       " 'A woman is giving a man a hair cut.',\n",
       " 'A dark bench is in the wet woods.',\n",
       " 'Two large dogs asleep on a bed .',\n",
       " 'Two men on a boat on the water.',\n",
       " 'A palm tree in front of a poster.',\n",
       " 'A person and a dog are on a bench.',\n",
       " 'A room showing a sink and a toilet.',\n",
       " 'A woman is hand feeding a lamb .',\n",
       " 'A man and his baby outside.',\n",
       " 'A woman on a pole on the street.',\n",
       " 'A ball is next to a wood desk.',\n",
       " 'A man trying to slide into a base .',\n",
       " 'A baby is looking at a hair brush.',\n",
       " 'A bench next to a tree on a hill.',\n",
       " 'A man in a tie next to a flag.',\n",
       " 'Two pieces of meat sit on a plate.',\n",
       " 'A a cow in a field.',\n",
       " 'An old computer is on a wood desk.',\n",
       " 'A girl about to hit a tennis ball.',\n",
       " 'A kitchen with a map on the wall .',\n",
       " 'A man eating a very long hot dog.',\n",
       " 'A clock sits in a building wall .',\n",
       " 'A man is helping another tie a tie.',\n",
       " 'A ram that is lying down .',\n",
       " 'A sign isnext to a road.',\n",
       " 'A soldier pets a cow in a village.',\n",
       " 'A small bird is on top of a branch.',\n",
       " 'A cat is sitting on top of a car.',\n",
       " 'A boy in glasses is reading a book.',\n",
       " 'A stop sign on a pole at night.',\n",
       " 'A man with a hat sits on a bench.',\n",
       " 'A dog that is sitting in a window.',\n",
       " 'A clock that is on top of a wall.',\n",
       " 'A dog and a cat stand side by side.',\n",
       " 'A person in a chair in a room.',\n",
       " 'A couple of bears are on a road.',\n",
       " 'A man and a child are in a park.',\n",
       " 'A bus that is going down a road.',\n",
       " 'A man is giving a bottle to a baby.',\n",
       " 'A desk and a bed in a hotel room.',\n",
       " 'A woman and a man cutting a cake.',\n",
       " 'A bus that is sitting on a street.',\n",
       " 'A bus turning left onto a street. .',\n",
       " 'A bear that is hanging in a tree.',\n",
       " 'A man riding a wave in the ocean .',\n",
       " 'Some men on a speed boat at sea.',\n",
       " 'A plane that is flying in the sky.',\n",
       " 'A person laying on a bench on sand.',\n",
       " 'An old car driving next to a bus .',\n",
       " 'A bunch of food on a counter top.',\n",
       " \"A woman doing a man's tie for him .\",\n",
       " 'Two people and a dish on a bike.',\n",
       " 'A a child and a dog.',\n",
       " 'A boy in a car on a laptop.',\n",
       " 'A room with a large bedroom in it.',\n",
       " 'A pan of pizza on a wooden surface.',\n",
       " 'The bed is next to a small couch.',\n",
       " 'A clock is on display on the wall.',\n",
       " 'A space ship on a large air plane.',\n",
       " 'A man cutting a cake with a knife.',\n",
       " 'A little boy giving a sheep a hug.',\n",
       " 'A man that is on his cell phone.',\n",
       " 'A dead deer is laying on the road.',\n",
       " 'A bird stands on the top of rocks.',\n",
       " 'Two men on a metal bed with a dog.',\n",
       " 'A toilet that is in a dirty room.',\n",
       " 'A couple of birds are on a table.',\n",
       " 'Some food on a wood table.',\n",
       " 'A bedroom with a bed that is made.',\n",
       " 'A cat is on the bed looking .',\n",
       " 'A man that is bent over in a boat.',\n",
       " 'A knife is laying next to an apple.',\n",
       " 'A table and a couch in a room.',\n",
       " 'A hot dog and a bottle on a table.',\n",
       " 'A dog is laying on a bed at home.',\n",
       " 'A man in a business suit and tie. .',\n",
       " 'A woman is wear a shirt and tie.',\n",
       " 'A lake with boats on it .',\n",
       " 'A flight taking a turn in the sky.',\n",
       " 'A man on a laptop in a small room.',\n",
       " 'A room with a large bed in side it.',\n",
       " 'A city street all lit up at night.',\n",
       " 'A baby wearing a suit and tie .',\n",
       " 'A man in glasses is wearing a tie.',\n",
       " 'A man who is holding a small dog.',\n",
       " 'A boy running to hit a tennis ball.',\n",
       " 'A man plays disc golf at a park. .',\n",
       " 'A bird on a fence next to flowers.',\n",
       " 'A table that has some fruit on it.',\n",
       " 'A very cute cat laying on a couch.',\n",
       " 'A jet that has the top of it open.',\n",
       " 'A dog having his head over a book.',\n",
       " 'A bear is swimming in the water. .',\n",
       " 'A a public transit bus.',\n",
       " 'A a bowl of food .',\n",
       " 'A rock under a tree in a park.',\n",
       " 'A laptop that is laying on a bed.',\n",
       " 'A plate of food on a table .',\n",
       " 'A couple of horses in a stable .',\n",
       " 'A young man being fed a hot dog.',\n",
       " 'A sink and a window in a kitchen.',\n",
       " 'A well made bed in a small room.',\n",
       " 'A clock on a pole near a bench .',\n",
       " 'People shop at a road side stand. .',\n",
       " 'A car in the street next to a bus.',\n",
       " 'A bed in a room with two windows. .',\n",
       " 'A woman is holding a glass in hand.',\n",
       " 'A four way stop sign on a pole.',\n",
       " 'A lot of toys that are on a table.',\n",
       " 'A person on motor bike on a road.',\n",
       " 'A dog sits on the bed by a man.',\n",
       " 'A large cake on a table in a room.',\n",
       " 'The cake is the shape of a train. .',\n",
       " 'A desk with chairs in it .',\n",
       " 'A a pizza on a surface.',\n",
       " 'A plane flying low on an airport .',\n",
       " 'A bed with big sheets in a room.',\n",
       " 'A dog and a cat sitting on a couch.',\n",
       " 'We see the side of a train car.',\n",
       " 'A small kid hits a tennis ball .',\n",
       " 'A dog in the living room .',\n",
       " 'A man driving in a car.',\n",
       " 'A piece of pizza is on a plate.',\n",
       " 'A boat by some water.',\n",
       " 'A bed in a room and some food.',\n",
       " 'A cat and a dog.',\n",
       " 'A man is sitting in a large truck.',\n",
       " 'A man holds a bat about to swing.',\n",
       " 'Two men on a court playing a game.',\n",
       " 'A cheese pizza sitting on a plate .',\n",
       " 'A cat sits in front of a laptop.',\n",
       " 'A cat laying down next to a door.',\n",
       " 'A person with some food in a room.',\n",
       " 'A glass is sitting on top of a map.',\n",
       " 'A dog is in the air over a field.',\n",
       " 'A man is laying down in a bathroom.',\n",
       " 'A person with a remote in a room.',\n",
       " 'A bed is lying on the floor .',\n",
       " 'A child using a cell phone.',\n",
       " 'A very cute cat laying in a bowl.',\n",
       " 'A a cute dog face .',\n",
       " 'A clock on the outside of a market.',\n",
       " 'A computer lying on a bed.',\n",
       " 'A meal has been set on a table.',\n",
       " 'A cake that has a train on it.',\n",
       " 'A man in a hood is eating outside.',\n",
       " 'Many boys play soccer on a field. .',\n",
       " 'A man that is sitting on a bike.',\n",
       " 'A woman and a man pose for a photo.',\n",
       " 'A crowd of people in a large room.',\n",
       " 'A bath and a sink in a small room.',\n",
       " 'A car in some water.',\n",
       " 'A a pizza on a pan .',\n",
       " 'An old clock tower in a village .',\n",
       " 'A stop sign on the side of a road.',\n",
       " 'A person and some cups on a table.',\n",
       " 'People sit at a table for a party.',\n",
       " 'A a glass on a table .',\n",
       " 'A view of the sunset on the ocean.',\n",
       " 'The dog is laying down in a chair.',\n",
       " 'A plate of food sitting on a table.',\n",
       " 'Cat sitting on top of a cable box.',\n",
       " 'A knife has split an apple in half.',\n",
       " 'A stop sign is hanging up by a car.',\n",
       " 'A couple of bears are in the water.',\n",
       " 'A motor cycle in front of a store.',\n",
       " 'A bear in a stream eating a fish.',\n",
       " 'A hot dog and a drink on a table.',\n",
       " 'A food in a paper box .',\n",
       " 'A plate of food on a glass table .',\n",
       " 'A large group of sheep in a road. .',\n",
       " 'A clock on a tower against the sky.',\n",
       " 'A baby in a high chair at a table.',\n",
       " 'A large pizza is laying on a table.',\n",
       " 'A light that is attached to a pole.',\n",
       " 'A man that has a phone in his hand.',\n",
       " 'A couple of cats are on a toilet.',\n",
       " 'An air plane flying in the air .',\n",
       " 'A small pizza that is being cut up.',\n",
       " 'A man operates a cat to work hard.',\n",
       " 'A dog laying on a bed with a toy.',\n",
       " 'A dog laying up on a wooden bench.',\n",
       " 'A bird in the grass.',\n",
       " 'A bowl full of some kind of soup.',\n",
       " 'A man takes a picture in a mirror.',\n",
       " 'A woman in a hat cuts a pizza.',\n",
       " 'A child at a table eating food .',\n",
       " 'Dust on a busy street in a city.',\n",
       " 'A man walking near a big city bus.',\n",
       " 'A plate that has some salad on it.',\n",
       " 'A small girl on a bed with a cat.',\n",
       " 'A cat sitting rolled up by a chair.',\n",
       " 'A stone castle with a large clock .',\n",
       " 'A plate of food on top of a table.',\n",
       " 'A keyboard with a mouse on a desk.',\n",
       " 'A sky keyboard and mouse.',\n",
       " 'A train on a track near a fence .',\n",
       " 'A couch that has a dog beside it.',\n",
       " 'A cat on the floor of a kitchen.',\n",
       " 'A clock and a window in a room.',\n",
       " 'A lap top is on the desk .',\n",
       " 'A plate of food is set on a table.',\n",
       " 'A couple of horses are on a beach.',\n",
       " 'A man that is sitting in a bus.',\n",
       " 'Some ends from a pizza for a meal.',\n",
       " 'Food wrapped in paper on a plate .',\n",
       " 'A man reading a paper on a bench.',\n",
       " 'A man using a knife to cut a cake.',\n",
       " 'A plate that has some food on it.',\n",
       " 'A sandwich cut in half on a plate.',\n",
       " 'A kitchen in a large empty house .',\n",
       " 'A tall tower with a clock on top.',\n",
       " 'A boy about to hit a tennis ball. .',\n",
       " 'A small boat on a body of water .',\n",
       " 'Cars on a busy street in the city.',\n",
       " 'A pole with a bunch of signs on it.',\n",
       " 'A plate that has a big pizza on it.',\n",
       " 'A cat is playing in a wash room.',\n",
       " 'A cow is walking down a dirt road.',\n",
       " 'A man with a hammer and a clock. .',\n",
       " ' a a parking meter .',\n",
       " 'A girl in front of a stop sign.',\n",
       " 'A one way sign on a street post.',\n",
       " 'A couple of signs on a metal pole.',\n",
       " 'A no right turn side on a post.',\n",
       " 'A dog that is laying down on a bed.',\n",
       " 'A bowl of food that is on a table.',\n",
       " 'A piece of food is on a tin .',\n",
       " 'A man is making a pizza on a board.',\n",
       " 'A bird by a mirror.',\n",
       " 'A public transit bus on a road .',\n",
       " 'A boat is sitting on a large lake.',\n",
       " 'A man with kids are on the floor .',\n",
       " 'A a set of books.',\n",
       " 'A bench is on a path in the woods.',\n",
       " 'A dog laying on bed beside a book.',\n",
       " 'A hat is sitting on a wood table.',\n",
       " 'A plate of food on a square plate.',\n",
       " 'The motor cycle is up on a lift.',\n",
       " 'A baby and a man are near a horse.',\n",
       " 'A man on a bench on a cell phone.',\n",
       " 'A person that is naked on a couch.',\n",
       " 'A street light that is on a pole.',\n",
       " 'A table with wine glasses on it .',\n",
       " 'A bathroom door with a sink by it.',\n",
       " 'A bus on the street.',\n",
       " 'A man standing in front of a door.',\n",
       " 'A big stop sign sitting on a pole .',\n",
       " 'A paper plate with a hot dog on it.',\n",
       " 'A group of men in suits and ties.',\n",
       " 'A bus stops at a bus stop area.',\n",
       " 'A very cute cat laying on a bed.',\n",
       " 'A cat is sitting next to a cake.',\n",
       " 'A woman with a knife at a table.',\n",
       " 'A man giving a boy a piece of cake.',\n",
       " 'A clock on a table in the house.',\n",
       " 'An elephant living in a zoo home .',\n",
       " 'I think a huge food court.',\n",
       " 'A laptop on a table in a room.',\n",
       " 'A cat sits and looks up at a car .',\n",
       " 'A a plate of food.',\n",
       " 'A couch and some chairs in a room.',\n",
       " 'A sign with a menu on it.',\n",
       " 'A table that has some food on it.',\n",
       " 'A dog wearing a top had and a tie.',\n",
       " 'A large boat in a body of water.',\n",
       " 'A group of men eating at a table.',\n",
       " 'The lady has a bat behind her neck.',\n",
       " 'A man by a fence using the phone.',\n",
       " 'A woman is behind a busy wine bar.',\n",
       " 'A pizza and some food at a table.',\n",
       " 'A woman and a kid on a bed.',\n",
       " 'A hotel room with a bed and desk.',\n",
       " 'A young boy in a swing.',\n",
       " 'A two boxes of pizza.',\n",
       " 'A a pizza n a plate .',\n",
       " 'A bird eating on a fallen apple .',\n",
       " 'A man is sitting on the bench .',\n",
       " 'A cake on the table .',\n",
       " 'Two photos of a man side by side.',\n",
       " 'A girl puts her arm around a cow.',\n",
       " 'A wooden bench in front of a door.',\n",
       " 'A walk way in a garden to a bench.',\n",
       " 'A pizza while in a box.',\n",
       " 'A a clock on a tower.',\n",
       " 'A laptop and mouse are on a desk.',\n",
       " 'A bed made in a hotel room. .',\n",
       " 'A bus is stopped at a bus stop.',\n",
       " 'Two sheep in a pen near two humans.',\n",
       " 'The cow has a tag on its left ear.',\n",
       " 'A man is cutting in to a cake.',\n",
       " 'A cut in half pizza in a pan. .',\n",
       " 'A bottle of wine next to a glass.',\n",
       " 'A cat laying on top of a couch.',\n",
       " 'A woman in the dark with a laptop.',\n",
       " 'A man with a shirt and a tie.',\n",
       " 'A dog sits in front of a car .',\n",
       " 'A a cat on a toilet .',\n",
       " 'A man on a motor bike on a street.',\n",
       " 'A truck driving on a city street .',\n",
       " 'A bear in the middle of a road.',\n",
       " 'A car that has some lights on it.',\n",
       " 'A woman is at work on her computer.',\n",
       " 'A woman looking back on a ski lift.',\n",
       " 'A desk that has some books on it.',\n",
       " 'A small cat is on top of a car.',\n",
       " 'A vintage photo of a train yard .',\n",
       " 'A chair at a desk in a room.',\n",
       " 'A small room with a bed and table.',\n",
       " 'A room with many things and a sink.',\n",
       " 'A watch on a leaf, on a table.',\n",
       " 'Six people with a dog in the snow.',\n",
       " 'A man walks away from a ski lift.',\n",
       " 'A bed and window in a small room.',\n",
       " 'A woman taking a bite of pizza .',\n",
       " 'A bench in a park with bare trees.',\n",
       " 'Two boats out on a lake at sunset.',\n",
       " 'A sink in a room with stone walls.',\n",
       " 'A man that has a tie and a suit on.',\n",
       " 'A cow is standing in a door way.',\n",
       " 'A person that is out in the snow.',\n",
       " 'A stop sign that is by a street.',\n",
       " 'A tower that has a clock on it.',\n",
       " 'A bear that is sitting on a rock.',\n",
       " 'A few plates o food set on a table.',\n",
       " 'A bed and chair in a small room.',\n",
       " 'A child reading a book in bed .',\n",
       " 'A man serving ice cream to a lady.',\n",
       " 'Food and drink on a table outside .',\n",
       " 'A book in french laying on a bed.',\n",
       " 'A person using a laptop on a desk .',\n",
       " 'A bed and a table sit in a room.',\n",
       " 'A split photo of a tennis player .',\n",
       " 'A number of jets flying in the air.',\n",
       " 'A boy is playing with a play set.',\n",
       " 'A group of kids on the lap top .',\n",
       " 'A glass plate that has food on it.',\n",
       " 'A dog that is sitting in the dirt.',\n",
       " 'A street sign near a body of water.',\n",
       " 'A jet that is flying in the air.',\n",
       " 'A man doing a ski jump in the air.',\n",
       " 'A girl has a bee out fit on.',\n",
       " 'A man in a hat hits a tennis ball .',\n",
       " 'A plate of food and an empty glass.',\n",
       " 'A man and woman cook in a kitchen.',\n",
       " 'A man is hitting a ball with a bat.',\n",
       " 'A man in a suit on a city street.',\n",
       " 'Two dogs in the waves of an ocean.',\n",
       " 'A plate of food on a paper plate.',\n",
       " 'Two men at some kind of festival .',\n",
       " 'A number of sheep in a field .',\n",
       " 'A man in a tie in a grass field.',\n",
       " 'A large pizza is sitting on a pan.',\n",
       " 'A woman using a cell phone.',\n",
       " 'A plate of food at a wooden table.',\n",
       " 'A couple of guys are on a bed.',\n",
       " 'A man and a kid on a table looking.',\n",
       " 'A boy about to hit a tennis ball.',\n",
       " 'A bird that is sitting on a branch.',\n",
       " 'A man cuts a cake at a party. .',\n",
       " 'A line of vegetables in a garden .',\n",
       " 'A a plate with food .',\n",
       " 'A man in a small boat with his dog.',\n",
       " 'A bunch of small boats in a harbor.',\n",
       " 'A desk top with a keyboard on it .',\n",
       " 'A cake is on a plate with a knife.',\n",
       " 'An old lady sits in a dark room.',\n",
       " 'A a cake on a plate .',\n",
       " 'Two toys, one a toy cow, on a bed.',\n",
       " 'A laptop and a screen on a desk.',\n",
       " 'The cat is laying on the chair. .',\n",
       " 'A laptop and some food on a table.',\n",
       " 'A man and a woman cutting a cake.',\n",
       " 'A group of people in a large room.',\n",
       " 'A car that is green.',\n",
       " 'A computer and a phone on a table.',\n",
       " 'An old man looking out on a train.',\n",
       " 'A man that has a suite and tie on.',\n",
       " 'A woman is standing next to a bed.',\n",
       " 'A dog is laying down next to a cat.',\n",
       " 'A laptop and a book on the ground.',\n",
       " 'The pizza on the pan is half gone.',\n",
       " 'A man walking his dog in the park.',\n",
       " 'A man sits on a couch in a house.',\n",
       " 'A man in a picture wearing a suit .',\n",
       " 'A cake is in the shape of a train.',\n",
       " 'A tall stop sign next to a street.',\n",
       " 'A person at a table with a cake .',\n",
       " 'A plate of cooked food on a table.',\n",
       " 'A couple of guys next to a base.',\n",
       " 'A number of cars on a city street.',\n",
       " 'A room that has some beds in it.',\n",
       " 'A man on his lap top on a bench.',\n",
       " 'The person is on a boat in a lake.',\n",
       " 'A made up picture of a jail cell.',\n",
       " 'A bunch of bears that are in cases.',\n",
       " 'A couple of bed sit in a room.',\n",
       " 'A large dog on a bed in a room.',\n",
       " 'A dog that is playing in the snow.',\n",
       " 'A large bed in a very small room.',\n",
       " 'A bowl full of a salad with cheese.',\n",
       " 'A boy hits a ball at a game.',\n",
       " 'A group of people meet in a room.',\n",
       " 'A horse and car on a city street.',\n",
       " 'A woman on a horse.',\n",
       " 'A lady that has a beer in her hand.',\n",
       " 'A lazy cat laying on top of a desk.',\n",
       " 'A small boat is out on the water.',\n",
       " 'A a pizza on a table.',\n",
       " 'The sink in a bathroom.',\n",
       " 'A woman laying on a bed with a dog.',\n",
       " 'A cat is laying next to a window.',\n",
       " 'A piece of pizza sits on a plate .',\n",
       " 'A pizza is being eaten from a box.',\n",
       " 'A man on his laptop in the kitchen.',\n",
       " 'A cat and a dog laying on a bed.',\n",
       " 'A man riding a horse .',\n",
       " 'A jacket and bag on a hotel bed.',\n",
       " 'A man hanging on to a motor bike.',\n",
       " 'Some fruit and a woman at a table.',\n",
       " 'The wing of a plane above a sky .',\n",
       " 'A girl laying face down on a bed. .',\n",
       " 'A group of horses on a dirt road.',\n",
       " 'A wrap has many foods inside of it.',\n",
       " 'A woman is making a clay pot. .',\n",
       " 'A cow is laying down in a field.',\n",
       " 'A person on a horse on a street.',\n",
       " 'A lot of people at a concert .',\n",
       " 'A toilet in a wooden box .',\n",
       " 'A small girl sits on a suit case .',\n",
       " 'A clock is hanging up on a wall.',\n",
       " 'A dog sitting on a bike outside. .',\n",
       " 'A man is playing tennis in a field.',\n",
       " 'A man that is sitting at a laptop.',\n",
       " 'Some food in a plate.',\n",
       " 'A a laptop near a box .',\n",
       " 'A large pizza that is on a pan.',\n",
       " 'A cat that is eating a dead bird.',\n",
       " 'A cake on a plate on a table .',\n",
       " 'Two horses tied up in a field .',\n",
       " ' many people in a room near tables.',\n",
       " 'A metal circle with a pizza on it.',\n",
       " 'A king sized bed in a hotel room. .',\n",
       " 'A child at a table preparing food .',\n",
       " 'A computer on a desk in a room.',\n",
       " 'A boy hits a baseball with his bat.',\n",
       " 'A dog is standing on top of a cow.',\n",
       " 'A man and woman are taking a bite.',\n",
       " 'A clock on a pole near some trees.',\n",
       " 'A woman eating a hot dog in a car.',\n",
       " 'A plate of food with a full spread.',\n",
       " 'A sign on the side of a wall.',\n",
       " 'A stop light isover a road.',\n",
       " 'A girl riding a horse on a trail.',\n",
       " 'A boy riding a wave in the ocean.',\n",
       " 'A bus is driven on a city street.',\n",
       " 'A woman is helping a boy to ski.',\n",
       " 'A cat on a keyboard.',\n",
       " 'A castle in the country. .',\n",
       " 'A stack of mail on top of a desk.',\n",
       " 'A man tries to hit a tennis ball. .',\n",
       " 'A building in a sign.',\n",
       " 'A sheep on a field behind a fence .',\n",
       " 'A person that has a cat in hand.',\n",
       " 'A small cat is laying on a laptop.',\n",
       " 'A boat that is out in the water.',\n",
       " 'A big boat that is in the ocean.',\n",
       " 'A cat is sitting on a desk chair.',\n",
       " 'A bunch of train cars in a garage .',\n",
       " 'A room with two beds and a chair.',\n",
       " 'A woman using a walker in a home.',\n",
       " 'A dog laying next to an open book.',\n",
       " 'A man in a suit and a tie.',\n",
       " 'A bus going down a country road .',\n",
       " 'A bowl that has some fruit in it.',\n",
       " 'Two boats in a large body of water.',\n",
       " 'A cat is laying down on a table.',\n",
       " 'Two small dogs sit up on a couch.',\n",
       " 'A group of people in a small room.',\n",
       " 'A bus turns a corner in a city.',\n",
       " 'A man putting on a tie.',\n",
       " 'A flower that is up close and red.',\n",
       " 'A dog next to a street and a truck.',\n",
       " 'A close up photo of a cat on a bed.',\n",
       " 'A man in his car using his phone.',\n",
       " 'A table that has a monitor on it.',\n",
       " 'A man laying on top of a couch.',\n",
       " 'People with a dog at an airport .',\n",
       " 'A pan with a pizza on top of it.',\n",
       " 'A cat and baby sleeping on a bed.',\n",
       " 'A horse in a field behind a fence.',\n",
       " 'A large horse is standing in a pin.',\n",
       " 'A man driving a bus down the road.',\n",
       " 'A truck sits in a line of traffic.',\n",
       " 'A person in a field with a ball.',\n",
       " 'A man with a bike passing a car.',\n",
       " 'A cat that is laying on a bench.',\n",
       " 'A cat with a bucket on its head.',\n",
       " 'A a pizza on a plate.',\n",
       " 'A big pizza sits on a table top .',\n",
       " 'A walk way that leads to a tower.',\n",
       " 'A dog lying in a pile of shoes.',\n",
       " 'A a basket of fruits.',\n",
       " 'A man drives a train down a track.',\n",
       " 'A couple of model boats on a table.',\n",
       " 'A dog that is sitting on a couch.',\n",
       " 'A cut in half sandwich on a plate.',\n",
       " 'A sign at a gas station.',\n",
       " 'A small dish of fruit on a table.',\n",
       " 'A man throws his bat on a field. .',\n",
       " 'A bench in a park covered in snow.',\n",
       " 'A stone bench that is in a field.',\n",
       " 'A close up cow is shown.',\n",
       " 'A cat trying to get into a shoe.',\n",
       " 'A garden in the yard of a house.',\n",
       " 'A cat laying on top of a laptop.',\n",
       " 'A room showing a toilet and a sink.',\n",
       " 'A a school bus mirror .',\n",
       " 'A a pizza on a table .',\n",
       " 'A very big pizza on a wooden table.',\n",
       " 'A person with a tie in a room.',\n",
       " 'Two animals at the base of a hill.',\n",
       " 'A bunch of wine bottles on a table.',\n",
       " 'A bunch of boats are in the water.',\n",
       " 'A small table on a bed in a room.',\n",
       " 'A man and little girl in the sand.',\n",
       " 'A cake that is sitting on a plate.',\n",
       " 'A sink and mirror in a small room.',\n",
       " 'A man is taking a bite of food.',\n",
       " 'A cake that is sitting on a table.',\n",
       " 'A cat that is standing on a bench.',\n",
       " 'A little girl is laying in a bed.',\n",
       " 'An old man cuts a cake on a desk.',\n",
       " 'A pizza on a pan ready to be eaten.',\n",
       " 'A pizza that is laying on a table.',\n",
       " 'Two kinds of birds sit on a wire.',\n",
       " 'A man signing a tie on a table.',\n",
       " 'A bird next to a branch and rock.',\n",
       " 'A bike that is next to a bench.',\n",
       " 'A woman with a hat in serving area.',\n",
       " 'The car made the turn at the light.',\n",
       " 'A a bird of prey.',\n",
       " 'A boy is in the air above the bed.',\n",
       " 'I see a pan with vegetables in it.',\n",
       " 'A cat sitting up on a wooden bench.',\n",
       " 'The bus is stopped at a bus stop.',\n",
       " 'A large clock on a wall in a room.',\n",
       " 'A large bed in a room with a desk.',\n",
       " 'The plane is flying up in the sky.',\n",
       " 'A man is standing next to a plane.',\n",
       " 'A couple of desk chairs in a room.',\n",
       " 'A fan that is in front of a bed.',\n",
       " 'A shelf with many books in a room.',\n",
       " 'A bed and a chair in a small room.',\n",
       " 'A street sign next to a few cars\\n.',\n",
       " 'A boy is standing out by the water.',\n",
       " 'A pizza is on a plate on a table.',\n",
       " 'A man puts his phone in his hand.',\n",
       " 'A clock with the time on a table.',\n",
       " 'A bad in a bedroom during the day.',\n",
       " 'A man in a field on a laptop.',\n",
       " 'A couch that has some cats on it.',\n",
       " 'A person on a bed in a small room.',\n",
       " 'A lady and a dog sit on a couch.',\n",
       " 'A woman sits on a hotel room bed.',\n",
       " 'A cat lying in the sun on a couch .',\n",
       " 'A plane taking off in the sun set.',\n",
       " 'A bench is in a park and is empty.',\n",
       " 'A small boat by a body of water.',\n",
       " 'A bus at a bus stop near a store. .',\n",
       " 'A guy holding a guitar in a store.',\n",
       " 'A cat laying on a child.',\n",
       " 'A boy is at the pool on a board .',\n",
       " 'A dog laying on a bed in a cage.',\n",
       " 'A man at a bar holding a phone.',\n",
       " 'A big clock on top of a building.',\n",
       " 'A man and two dogs in the snow.',\n",
       " 'A man that has a shirt and tie on.',\n",
       " 'A man on a boat in the ocean. .',\n",
       " 'A person on a bed with a laptop.',\n",
       " 'A man that is holding a cell phone.',\n",
       " 'A stop sign on a pole on a street.',\n",
       " 'A man in a suit that has a tie on.',\n",
       " 'A pie and pizza on a table outside.',\n",
       " 'A fire truck is on a city street.',\n",
       " 'A bird is on a bench by the water.',\n",
       " 'A table has dishes and food on it.',\n",
       " 'A clock on a church tower.',\n",
       " 'A bench next to a tree and trail.',\n",
       " 'A couple of birds fly over a lake .',\n",
       " 'A a hot dog on a plate.',\n",
       " 'A small boat sits empty by a field.',\n",
       " 'A man is taking a self picture .',\n",
       " 'A sink in a bathroom.',\n",
       " 'A bench near a field near a tree.',\n",
       " 'Two women with horses at a stable .',\n",
       " 'A room with a desk and a monitor .',\n",
       " 'A horse and a dog are in a field.',\n",
       " 'A tennis player is making a serve .',\n",
       " 'The tower has a clock at the top.',\n",
       " 'The woman holds a cat near the car.',\n",
       " 'A laptop is sitting on a wood desk.',\n",
       " 'A lazy cat is laying across a bed .',\n",
       " 'A woman sits in a seat on the bus.',\n",
       " 'A cat being reflected in a mirror .',\n",
       " 'A plane sits in a field of grass.',\n",
       " 'A bed and a desk in a room.',\n",
       " 'A cat sits on the back of a man.  .',\n",
       " 'A dog that is looking at a cage.',\n",
       " 'A person on a bench on a street.',\n",
       " 'A plate of food and cup of coffee.',\n",
       " 'A calm ocean and land.',\n",
       " 'A a plate of food .',\n",
       " 'A body of water in the distance .',\n",
       " 'A bedroom with a large bed in it.',\n",
       " 'A piece of cake that is on a plate.',\n",
       " 'A plate of some food on the table.',\n",
       " 'Part of the ship is stuck on land.',\n",
       " 'The cheese on top of a pizza pie. .',\n",
       " 'A train on the tracks .',\n",
       " 'The boy is eating a long hot dog.',\n",
       " 'A room that has wooden walls in it.',\n",
       " 'A bird that is sitting on a pole.',\n",
       " 'A small bed and desk in a room.',\n",
       " 'A plate with a hot dog and salad.',\n",
       " 'A man holding a dog under his arm .',\n",
       " 'A cat that is laying on a bed.',\n",
       " 'A a dog in a field .',\n",
       " 'A close up picture of a tie .',\n",
       " 'A desk top on the desk .',\n",
       " 'A big bed is displayed in a room.',\n",
       " 'Here is a soul in the icon alone.\\n.',\n",
       " 'A dog sits on a board on the grass.',\n",
       " 'A field that has some horses in it.',\n",
       " 'A building with a bell at the top.',\n",
       " ...]"
      ]
     },
     "execution_count": 766,
     "metadata": {},
     "output_type": "execute_result"
    }
   ],
   "source": [
    "normed_sents"
   ]
  },
  {
   "cell_type": "code",
   "execution_count": 767,
   "metadata": {
    "hidden": true,
    "run_control": {
     "frozen": false,
     "read_only": false
    }
   },
   "outputs": [
    {
     "name": "stderr",
     "output_type": "stream",
     "text": [
      "100%|██████████| 2497/2497 [00:39<00:00, 62.81it/s]\n"
     ]
    }
   ],
   "source": [
    "tagged_sentences = [get_pos_tags(s) for s in tqdm(normed_sents)]"
   ]
  },
  {
   "cell_type": "code",
   "execution_count": 768,
   "metadata": {
    "hidden": true,
    "run_control": {
     "frozen": false,
     "read_only": false
    }
   },
   "outputs": [],
   "source": [
    "verb_tags = set(['VB', 'VBD', 'VBG', 'VBN', 'VBP', 'VBZ'])"
   ]
  },
  {
   "cell_type": "code",
   "execution_count": 769,
   "metadata": {
    "hidden": true,
    "run_control": {
     "frozen": false,
     "read_only": false
    }
   },
   "outputs": [],
   "source": [
    "sents_w_verbs = [ts[:-1] for ts in tagged_sentences if set([t[1] for t in ts]).intersection(verb_tags)]"
   ]
  },
  {
   "cell_type": "code",
   "execution_count": 770,
   "metadata": {
    "hidden": true,
    "run_control": {
     "frozen": false,
     "read_only": false
    }
   },
   "outputs": [
    {
     "data": {
      "text/plain": [
       "1409"
      ]
     },
     "execution_count": 770,
     "metadata": {},
     "output_type": "execute_result"
    }
   ],
   "source": [
    "len(sents_w_verbs)"
   ]
  },
  {
   "cell_type": "code",
   "execution_count": 771,
   "metadata": {
    "hidden": true,
    "run_control": {
     "frozen": false,
     "read_only": false
    }
   },
   "outputs": [],
   "source": [
    "build_output = pd.Series([form_strings(s) for s in sents_w_verbs])\n",
    "build_output.to_csv('simple_coco.txt', index=False, header=None)\n",
    "\n",
    "build_output = pd.Series([form_strings_w_pos(s) for s in sents_w_verbs])\n",
    "build_output.to_csv('simple_coco_tagged.txt', index=False, header=None)"
   ]
  },
  {
   "cell_type": "code",
   "execution_count": null,
   "metadata": {
    "hidden": true,
    "run_control": {
     "frozen": false,
     "read_only": false
    }
   },
   "outputs": [],
   "source": []
  },
  {
   "cell_type": "markdown",
   "metadata": {
    "heading_collapsed": true,
    "run_control": {
     "frozen": false,
     "read_only": false
    }
   },
   "source": [
    "# 8. german experiments"
   ]
  },
  {
   "cell_type": "code",
   "execution_count": 468,
   "metadata": {
    "hidden": true,
    "run_control": {
     "frozen": false,
     "read_only": false
    }
   },
   "outputs": [],
   "source": [
    "german_words = pd.read_csv('./german_10k.txt', sep=' ', header=None).T\n",
    "german_words.columns = ['raw_word']\n",
    "\n",
    "german_words = german_words[german_words['raw_word'].str.isalpha().fillna(False)]"
   ]
  },
  {
   "cell_type": "code",
   "execution_count": 472,
   "metadata": {
    "hidden": true,
    "run_control": {
     "frozen": false,
     "read_only": false
    }
   },
   "outputs": [],
   "source": [
    "german_words['len'] = german_words.raw_word.str.len()"
   ]
  },
  {
   "cell_type": "code",
   "execution_count": 475,
   "metadata": {
    "hidden": true,
    "run_control": {
     "frozen": false,
     "read_only": false
    }
   },
   "outputs": [
    {
     "data": {
      "text/plain": [
       "<matplotlib.axes._subplots.AxesSubplot at 0x19cfd0278>"
      ]
     },
     "execution_count": 475,
     "metadata": {},
     "output_type": "execute_result"
    },
    {
     "data": {
      "image/png": "[encoded data removed]",
      "text/plain": [
       "<Figure size 1152x720 with 1 Axes>"
      ]
     },
     "metadata": {},
     "output_type": "display_data"
    }
   ],
   "source": [
    "german_words.len.hist()"
   ]
  },
  {
   "cell_type": "code",
   "execution_count": 478,
   "metadata": {
    "hidden": true,
    "run_control": {
     "frozen": false,
     "read_only": false
    }
   },
   "outputs": [],
   "source": [
    "long_words = german_words[german_words['len'] > 15]"
   ]
  },
  {
   "cell_type": "code",
   "execution_count": 485,
   "metadata": {
    "hidden": true,
    "run_control": {
     "frozen": false,
     "read_only": false
    }
   },
   "outputs": [],
   "source": [
    "from googletrans import Translator\n",
    "translator = Translator(service_urls=[\n",
    "      'translate.google.com',\n",
    "    ])"
   ]
  },
  {
   "cell_type": "code",
   "execution_count": 481,
   "metadata": {
    "hidden": true,
    "run_control": {
     "frozen": false,
     "read_only": false
    },
    "scrolled": true
   },
   "outputs": [
    {
     "data": {
      "text/html": [
       "<div>\n",
       "<style scoped>\n",
       "    .dataframe tbody tr th:only-of-type {\n",
       "        vertical-align: middle;\n",
       "    }\n",
       "\n",
       "    .dataframe tbody tr th {\n",
       "        vertical-align: top;\n",
       "    }\n",
       "\n",
       "    .dataframe thead th {\n",
       "        text-align: right;\n",
       "    }\n",
       "</style>\n",
       "<table border=\"1\" class=\"dataframe\">\n",
       "  <thead>\n",
       "    <tr style=\"text-align: right;\">\n",
       "      <th></th>\n",
       "      <th>raw_word</th>\n",
       "      <th>len</th>\n",
       "    </tr>\n",
       "  </thead>\n",
       "  <tbody>\n",
       "    <tr>\n",
       "      <th>91</th>\n",
       "      <td>zusammengearbeitet</td>\n",
       "      <td>18</td>\n",
       "    </tr>\n",
       "    <tr>\n",
       "      <th>323</th>\n",
       "      <td>wwwentouragetvde</td>\n",
       "      <td>16</td>\n",
       "    </tr>\n",
       "    <tr>\n",
       "      <th>755</th>\n",
       "      <td>Leichenschauhaus</td>\n",
       "      <td>16</td>\n",
       "    </tr>\n",
       "    <tr>\n",
       "      <th>899</th>\n",
       "      <td>Gesichtsausdruck</td>\n",
       "      <td>16</td>\n",
       "    </tr>\n",
       "    <tr>\n",
       "      <th>1353</th>\n",
       "      <td>Waffenstillstand</td>\n",
       "      <td>16</td>\n",
       "    </tr>\n",
       "    <tr>\n",
       "      <th>1659</th>\n",
       "      <td>Verteidigungsministerium</td>\n",
       "      <td>24</td>\n",
       "    </tr>\n",
       "    <tr>\n",
       "      <th>1935</th>\n",
       "      <td>außergewöhnliche</td>\n",
       "      <td>16</td>\n",
       "    </tr>\n",
       "    <tr>\n",
       "      <th>2661</th>\n",
       "      <td>Entschuldigungen</td>\n",
       "      <td>16</td>\n",
       "    </tr>\n",
       "    <tr>\n",
       "      <th>2897</th>\n",
       "      <td>Sicherheitssystem</td>\n",
       "      <td>17</td>\n",
       "    </tr>\n",
       "    <tr>\n",
       "      <th>2979</th>\n",
       "      <td>Gehirnerschütterung</td>\n",
       "      <td>19</td>\n",
       "    </tr>\n",
       "    <tr>\n",
       "      <th>3043</th>\n",
       "      <td>Vorstellungsgespräch</td>\n",
       "      <td>20</td>\n",
       "    </tr>\n",
       "    <tr>\n",
       "      <th>3269</th>\n",
       "      <td>leidenschaftlich</td>\n",
       "      <td>16</td>\n",
       "    </tr>\n",
       "    <tr>\n",
       "      <th>3299</th>\n",
       "      <td>Gastfreundschaft</td>\n",
       "      <td>16</td>\n",
       "    </tr>\n",
       "    <tr>\n",
       "      <th>4025</th>\n",
       "      <td>Geschäftspartner</td>\n",
       "      <td>16</td>\n",
       "    </tr>\n",
       "    <tr>\n",
       "      <th>4433</th>\n",
       "      <td>Selbstzerstörung</td>\n",
       "      <td>16</td>\n",
       "    </tr>\n",
       "    <tr>\n",
       "      <th>4865</th>\n",
       "      <td>Körperverletzung</td>\n",
       "      <td>16</td>\n",
       "    </tr>\n",
       "    <tr>\n",
       "      <th>6249</th>\n",
       "      <td>Lebensversicherung</td>\n",
       "      <td>18</td>\n",
       "    </tr>\n",
       "    <tr>\n",
       "      <th>6459</th>\n",
       "      <td>Geburtstagsgeschenk</td>\n",
       "      <td>19</td>\n",
       "    </tr>\n",
       "    <tr>\n",
       "      <th>6649</th>\n",
       "      <td>Justizministerium</td>\n",
       "      <td>17</td>\n",
       "    </tr>\n",
       "    <tr>\n",
       "      <th>7071</th>\n",
       "      <td>höchstpersönlich</td>\n",
       "      <td>16</td>\n",
       "    </tr>\n",
       "    <tr>\n",
       "      <th>7193</th>\n",
       "      <td>Verantwortlichen</td>\n",
       "      <td>16</td>\n",
       "    </tr>\n",
       "    <tr>\n",
       "      <th>7221</th>\n",
       "      <td>Schwiegertochter</td>\n",
       "      <td>16</td>\n",
       "    </tr>\n",
       "    <tr>\n",
       "      <th>8127</th>\n",
       "      <td>zusammengebrochen</td>\n",
       "      <td>17</td>\n",
       "    </tr>\n",
       "    <tr>\n",
       "      <th>8165</th>\n",
       "      <td>unterschiedlichen</td>\n",
       "      <td>17</td>\n",
       "    </tr>\n",
       "    <tr>\n",
       "      <th>8361</th>\n",
       "      <td>wiederherstellen</td>\n",
       "      <td>16</td>\n",
       "    </tr>\n",
       "    <tr>\n",
       "      <th>8459</th>\n",
       "      <td>Liebesgeschichte</td>\n",
       "      <td>16</td>\n",
       "    </tr>\n",
       "    <tr>\n",
       "      <th>8643</th>\n",
       "      <td>Selbstverteidigung</td>\n",
       "      <td>18</td>\n",
       "    </tr>\n",
       "    <tr>\n",
       "      <th>9135</th>\n",
       "      <td>wissenschaftlichen</td>\n",
       "      <td>18</td>\n",
       "    </tr>\n",
       "    <tr>\n",
       "      <th>9137</th>\n",
       "      <td>wissenschaftliche</td>\n",
       "      <td>17</td>\n",
       "    </tr>\n",
       "    <tr>\n",
       "      <th>9141</th>\n",
       "      <td>wiederhergestellt</td>\n",
       "      <td>17</td>\n",
       "    </tr>\n",
       "    <tr>\n",
       "      <th>9153</th>\n",
       "      <td>Verteidigungsminister</td>\n",
       "      <td>21</td>\n",
       "    </tr>\n",
       "    <tr>\n",
       "      <th>9195</th>\n",
       "      <td>Sicherheitsvorkehrungen</td>\n",
       "      <td>23</td>\n",
       "    </tr>\n",
       "    <tr>\n",
       "      <th>9303</th>\n",
       "      <td>Herausforderungen</td>\n",
       "      <td>17</td>\n",
       "    </tr>\n",
       "    <tr>\n",
       "      <th>9417</th>\n",
       "      <td>Alarmbereitschaft</td>\n",
       "      <td>17</td>\n",
       "    </tr>\n",
       "    <tr>\n",
       "      <th>9427</th>\n",
       "      <td>zusammengestellt</td>\n",
       "      <td>16</td>\n",
       "    </tr>\n",
       "    <tr>\n",
       "      <th>9475</th>\n",
       "      <td>Unterbewusstsein</td>\n",
       "      <td>16</td>\n",
       "    </tr>\n",
       "    <tr>\n",
       "      <th>9479</th>\n",
       "      <td>Überwachungskameras</td>\n",
       "      <td>19</td>\n",
       "    </tr>\n",
       "  </tbody>\n",
       "</table>\n",
       "</div>"
      ],
      "text/plain": [
       "                      raw_word  len\n",
       "91          zusammengearbeitet   18\n",
       "323           wwwentouragetvde   16\n",
       "755           Leichenschauhaus   16\n",
       "899           Gesichtsausdruck   16\n",
       "1353          Waffenstillstand   16\n",
       "1659  Verteidigungsministerium   24\n",
       "1935          außergewöhnliche   16\n",
       "2661          Entschuldigungen   16\n",
       "2897         Sicherheitssystem   17\n",
       "2979       Gehirnerschütterung   19\n",
       "3043      Vorstellungsgespräch   20\n",
       "3269          leidenschaftlich   16\n",
       "3299          Gastfreundschaft   16\n",
       "4025          Geschäftspartner   16\n",
       "4433          Selbstzerstörung   16\n",
       "4865          Körperverletzung   16\n",
       "6249        Lebensversicherung   18\n",
       "6459       Geburtstagsgeschenk   19\n",
       "6649         Justizministerium   17\n",
       "7071          höchstpersönlich   16\n",
       "7193          Verantwortlichen   16\n",
       "7221          Schwiegertochter   16\n",
       "8127         zusammengebrochen   17\n",
       "8165         unterschiedlichen   17\n",
       "8361          wiederherstellen   16\n",
       "8459          Liebesgeschichte   16\n",
       "8643        Selbstverteidigung   18\n",
       "9135        wissenschaftlichen   18\n",
       "9137         wissenschaftliche   17\n",
       "9141         wiederhergestellt   17\n",
       "9153     Verteidigungsminister   21\n",
       "9195   Sicherheitsvorkehrungen   23\n",
       "9303         Herausforderungen   17\n",
       "9417         Alarmbereitschaft   17\n",
       "9427          zusammengestellt   16\n",
       "9475          Unterbewusstsein   16\n",
       "9479       Überwachungskameras   19"
      ]
     },
     "execution_count": 481,
     "metadata": {},
     "output_type": "execute_result"
    }
   ],
   "source": [
    "long_words"
   ]
  },
  {
   "cell_type": "code",
   "execution_count": 489,
   "metadata": {
    "hidden": true,
    "run_control": {
     "frozen": false,
     "read_only": false
    }
   },
   "outputs": [],
   "source": [
    "to_trans = long_words['raw_word'].tolist()"
   ]
  },
  {
   "cell_type": "code",
   "execution_count": 492,
   "metadata": {
    "hidden": true,
    "run_control": {
     "frozen": false,
     "read_only": false
    }
   },
   "outputs": [],
   "source": [
    "translations = translator.translate(to_trans, dest='en')"
   ]
  },
  {
   "cell_type": "code",
   "execution_count": 498,
   "metadata": {
    "hidden": true,
    "run_control": {
     "frozen": false,
     "read_only": false
    }
   },
   "outputs": [
    {
     "data": {
      "text/plain": [
       "'Waldbrand'"
      ]
     },
     "execution_count": 498,
     "metadata": {},
     "output_type": "execute_result"
    }
   ],
   "source": [
    "translator.translate('forest fire', dest='de').text"
   ]
  },
  {
   "cell_type": "code",
   "execution_count": 506,
   "metadata": {
    "hidden": true,
    "run_control": {
     "frozen": false,
     "read_only": false
    }
   },
   "outputs": [],
   "source": [
    "from wiktionaryparser import WiktionaryParser"
   ]
  },
  {
   "cell_type": "code",
   "execution_count": 510,
   "metadata": {
    "hidden": true,
    "run_control": {
     "frozen": false,
     "read_only": false
    }
   },
   "outputs": [],
   "source": [
    "parser = WiktionaryParser()\n",
    "word = parser.fetch('test')\n",
    "another_word = parser.fetch('Aasfresser', 'german')\n",
    "parser.set_default_language('french')"
   ]
  },
  {
   "cell_type": "code",
   "execution_count": 511,
   "metadata": {
    "hidden": true,
    "run_control": {
     "frozen": false,
     "read_only": false
    }
   },
   "outputs": [
    {
     "data": {
      "text/plain": [
       "[{'definitions': [{'examples': [],\n",
       "    'partOfSpeech': 'noun',\n",
       "    'relatedWords': [{'relationshipType': 'synonyms',\n",
       "      'words': ['Nekrophage']}],\n",
       "    'text': 'Aasfresser\\xa0m (genitive Aasfressers, plural Aasfresser)\\nscavenger (an animal that feeds on carrion)\\n'}],\n",
       "  'etymology': 'Aas +\\u200e Fresser (from fressen + -er \"-er\")',\n",
       "  'pronunciations': {'audio': ['//upload.wikimedia.org/wikipedia/commons/5/52/De-Aasfresser.ogg'],\n",
       "   'text': ['IPA: /ˈaːsˌfʀɛsɐ/']}}]"
      ]
     },
     "execution_count": 511,
     "metadata": {},
     "output_type": "execute_result"
    }
   ],
   "source": [
    "another_word"
   ]
  },
  {
   "cell_type": "markdown",
   "metadata": {
    "heading_collapsed": true,
    "run_control": {
     "frozen": false,
     "read_only": false
    }
   },
   "source": [
    "# wordnet "
   ]
  },
  {
   "cell_type": "code",
   "execution_count": 540,
   "metadata": {
    "hidden": true,
    "run_control": {
     "frozen": false,
     "read_only": false
    }
   },
   "outputs": [],
   "source": [
    "from nltk.corpus import wordnet"
   ]
  },
  {
   "cell_type": "code",
   "execution_count": 630,
   "metadata": {
    "hidden": true,
    "run_control": {
     "frozen": false,
     "read_only": false
    }
   },
   "outputs": [],
   "source": [
    "def get_word_sisters(word):\n",
    "    sister_words_syn = []\n",
    "    sister_words = []\n",
    "    for syn in wordnet.synsets(word):\n",
    "        print(syn)\n",
    "        if syn.pos() != 'n':\n",
    "            continue\n",
    "        for hyper in syn.hypernyms():\n",
    "            for hypo in hyper.hyponyms():\n",
    "                sister_words_syn.append(hypo)\n",
    "                sister_words.extend(hypo.lemma_names())\n",
    "        break\n",
    "    return sister_words, sister_words_syn"
   ]
  },
  {
   "cell_type": "code",
   "execution_count": 637,
   "metadata": {
    "hidden": true,
    "run_control": {
     "frozen": false,
     "read_only": false
    }
   },
   "outputs": [
    {
     "name": "stdout",
     "output_type": "stream",
     "text": [
      "Synset('toast.n.01')\n"
     ]
    }
   ],
   "source": [
    "test_word = 'toast'\n",
    "sis_words, ssyns = get_word_sisters(test_word)"
   ]
  },
  {
   "cell_type": "code",
   "execution_count": 638,
   "metadata": {
    "hidden": true,
    "run_control": {
     "frozen": false,
     "read_only": false
    },
    "scrolled": true
   },
   "outputs": [
    {
     "data": {
      "text/plain": [
       "['anadama_bread',\n",
       " 'bap',\n",
       " 'barmbrack',\n",
       " 'breadstick',\n",
       " 'bread-stick',\n",
       " 'brown_bread',\n",
       " 'Boston_brown_bread',\n",
       " 'bun',\n",
       " 'roll',\n",
       " 'caraway_seed_bread',\n",
       " 'challah',\n",
       " 'hallah',\n",
       " 'cinnamon_bread',\n",
       " 'cracked-wheat_bread',\n",
       " 'cracker',\n",
       " 'crouton',\n",
       " 'dark_bread',\n",
       " 'whole_wheat_bread',\n",
       " 'whole_meal_bread',\n",
       " 'brown_bread',\n",
       " 'English_muffin',\n",
       " 'flatbread',\n",
       " 'garlic_bread',\n",
       " 'gluten_bread',\n",
       " 'Host',\n",
       " 'loaf_of_bread',\n",
       " 'loaf',\n",
       " 'matzo',\n",
       " 'matzoh',\n",
       " 'matzah',\n",
       " 'unleavened_bread',\n",
       " 'nan',\n",
       " 'naan',\n",
       " 'onion_bread',\n",
       " 'quick_bread',\n",
       " 'raisin_bread',\n",
       " 'rye_bread',\n",
       " 'salt-rising_bread',\n",
       " 'simnel',\n",
       " 'sour_bread',\n",
       " 'sourdough_bread',\n",
       " 'toast',\n",
       " 'wafer',\n",
       " 'white_bread',\n",
       " 'light_bread']"
      ]
     },
     "execution_count": 638,
     "metadata": {},
     "output_type": "execute_result"
    }
   ],
   "source": [
    "sis_words"
   ]
  },
  {
   "cell_type": "code",
   "execution_count": 565,
   "metadata": {
    "hidden": true,
    "run_control": {
     "frozen": false,
     "read_only": false
    }
   },
   "outputs": [],
   "source": [
    "tsns = ssyns[0]"
   ]
  },
  {
   "cell_type": "code",
   "execution_count": null,
   "metadata": {
    "hidden": true,
    "run_control": {
     "frozen": false,
     "read_only": false
    }
   },
   "outputs": [],
   "source": []
  },
  {
   "cell_type": "code",
   "execution_count": 640,
   "metadata": {
    "hidden": true,
    "run_control": {
     "frozen": false,
     "read_only": false
    }
   },
   "outputs": [],
   "source": [
    "# for syn in wordnet.synsets(test_word):\n",
    "#     print(syn.definition())"
   ]
  },
  {
   "cell_type": "code",
   "execution_count": null,
   "metadata": {
    "hidden": true,
    "run_control": {
     "frozen": false,
     "read_only": false
    }
   },
   "outputs": [],
   "source": []
  },
  {
   "cell_type": "code",
   "execution_count": null,
   "metadata": {
    "hidden": true,
    "run_control": {
     "frozen": false,
     "read_only": false
    }
   },
   "outputs": [],
   "source": []
  },
  {
   "cell_type": "code",
   "execution_count": null,
   "metadata": {
    "hidden": true,
    "run_control": {
     "frozen": false,
     "read_only": false
    }
   },
   "outputs": [],
   "source": []
  },
  {
   "cell_type": "code",
   "execution_count": null,
   "metadata": {
    "hidden": true,
    "run_control": {
     "frozen": false,
     "read_only": false
    }
   },
   "outputs": [],
   "source": []
  },
  {
   "cell_type": "code",
   "execution_count": null,
   "metadata": {
    "hidden": true,
    "run_control": {
     "frozen": false,
     "read_only": false
    }
   },
   "outputs": [],
   "source": []
  },
  {
   "cell_type": "code",
   "execution_count": null,
   "metadata": {
    "hidden": true,
    "run_control": {
     "frozen": false,
     "read_only": false
    }
   },
   "outputs": [],
   "source": []
  },
  {
   "cell_type": "code",
   "execution_count": null,
   "metadata": {
    "hidden": true,
    "run_control": {
     "frozen": false,
     "read_only": false
    }
   },
   "outputs": [],
   "source": []
  },
  {
   "cell_type": "code",
   "execution_count": null,
   "metadata": {
    "hidden": true,
    "run_control": {
     "frozen": false,
     "read_only": false
    }
   },
   "outputs": [],
   "source": []
  },
  {
   "cell_type": "code",
   "execution_count": null,
   "metadata": {
    "hidden": true,
    "run_control": {
     "frozen": false,
     "read_only": false
    }
   },
   "outputs": [],
   "source": []
  },
  {
   "cell_type": "code",
   "execution_count": null,
   "metadata": {
    "hidden": true,
    "run_control": {
     "frozen": false,
     "read_only": false
    }
   },
   "outputs": [],
   "source": []
  },
  {
   "cell_type": "code",
   "execution_count": null,
   "metadata": {
    "hidden": true,
    "run_control": {
     "frozen": false,
     "read_only": false
    }
   },
   "outputs": [],
   "source": []
  }
 ],
 "metadata": {
  "kernelspec": {
   "display_name": "Python 3",
   "language": "python",
   "name": "python3"
  },
  "language_info": {
   "codemirror_mode": {
    "name": "ipython",
    "version": 3
   },
   "file_extension": ".py",
   "mimetype": "text/x-python",
   "name": "python",
   "nbconvert_exporter": "python",
   "pygments_lexer": "ipython3",
   "version": "3.6.5"
  },
  "notify_time": "30"
 },
 "nbformat": 4,
 "nbformat_minor": 2
}
